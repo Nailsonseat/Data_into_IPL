{
 "cells": [
  {
   "cell_type": "code",
<<<<<<< HEAD
   "execution_count": 3,
=======
   "execution_count": 2,
>>>>>>> a188d8bfc46d91902995e5550b38809bf41b467a
   "metadata": {},
   "outputs": [],
   "source": [
    "import pandas as pd\n",
    "import numpy as np\n",
    "import seaborn as sns\n",
    "from sklearn.preprocessing import StandardScaler"
   ]
  },
  {
   "cell_type": "code",
<<<<<<< HEAD
=======
   "execution_count": 3,
   "metadata": {},
   "outputs": [],
   "source": [
    "import sklearn"
   ]
  },
  {
   "cell_type": "code",
>>>>>>> a188d8bfc46d91902995e5550b38809bf41b467a
   "execution_count": 4,
   "metadata": {},
   "outputs": [],
   "source": [
    "data_ball = pd.read_csv('training_dataset/DataSet/IPL_Ball_by_Ball_2008_2022.csv')\n",
    "data_match = pd.read_csv('training_dataset/DataSet/IPL_Matches_Result_2008_2022.csv')\n",
    "data_ipl_2k23_player_team=pd.read_csv('training_dataset/DataSet/Ipl_2023 _cricketers - Players.csv')"
   ]
  },
  {
   "cell_type": "code",
   "execution_count": 5,
   "metadata": {},
   "outputs": [
    {
     "data": {
      "text/html": [
       "<div>\n",
       "<style scoped>\n",
       "    .dataframe tbody tr th:only-of-type {\n",
       "        vertical-align: middle;\n",
       "    }\n",
       "\n",
       "    .dataframe tbody tr th {\n",
       "        vertical-align: top;\n",
       "    }\n",
       "\n",
       "    .dataframe thead th {\n",
       "        text-align: right;\n",
       "    }\n",
       "</style>\n",
       "<table border=\"1\" class=\"dataframe\">\n",
       "  <thead>\n",
       "    <tr style=\"text-align: right;\">\n",
       "      <th></th>\n",
       "      <th>ID</th>\n",
       "      <th>innings</th>\n",
       "      <th>overs</th>\n",
       "      <th>ballnumber</th>\n",
       "      <th>batter</th>\n",
       "      <th>bowler</th>\n",
       "      <th>non-striker</th>\n",
       "      <th>extra_type</th>\n",
       "      <th>batsman_run</th>\n",
       "      <th>extras_run</th>\n",
       "      <th>total_run</th>\n",
       "      <th>non_boundary</th>\n",
       "      <th>isWicketDelivery</th>\n",
       "      <th>player_out</th>\n",
       "      <th>kind</th>\n",
       "      <th>fielders_involved</th>\n",
       "      <th>BattingTeam</th>\n",
       "    </tr>\n",
       "  </thead>\n",
       "  <tbody>\n",
       "    <tr>\n",
       "      <th>0</th>\n",
       "      <td>1312200</td>\n",
       "      <td>1</td>\n",
       "      <td>0</td>\n",
       "      <td>1</td>\n",
       "      <td>YBK Jaiswal</td>\n",
       "      <td>Mohammed Shami</td>\n",
       "      <td>JC Buttler</td>\n",
       "      <td>NaN</td>\n",
       "      <td>0</td>\n",
       "      <td>0</td>\n",
       "      <td>0</td>\n",
       "      <td>0</td>\n",
       "      <td>0</td>\n",
       "      <td>NaN</td>\n",
       "      <td>NaN</td>\n",
       "      <td>NaN</td>\n",
       "      <td>Rajasthan Royals</td>\n",
       "    </tr>\n",
       "    <tr>\n",
       "      <th>1</th>\n",
       "      <td>1312200</td>\n",
       "      <td>1</td>\n",
       "      <td>0</td>\n",
       "      <td>2</td>\n",
       "      <td>YBK Jaiswal</td>\n",
       "      <td>Mohammed Shami</td>\n",
       "      <td>JC Buttler</td>\n",
       "      <td>legbyes</td>\n",
       "      <td>0</td>\n",
       "      <td>1</td>\n",
       "      <td>1</td>\n",
       "      <td>0</td>\n",
       "      <td>0</td>\n",
       "      <td>NaN</td>\n",
       "      <td>NaN</td>\n",
       "      <td>NaN</td>\n",
       "      <td>Rajasthan Royals</td>\n",
       "    </tr>\n",
       "    <tr>\n",
       "      <th>2</th>\n",
       "      <td>1312200</td>\n",
       "      <td>1</td>\n",
       "      <td>0</td>\n",
       "      <td>3</td>\n",
       "      <td>JC Buttler</td>\n",
       "      <td>Mohammed Shami</td>\n",
       "      <td>YBK Jaiswal</td>\n",
       "      <td>NaN</td>\n",
       "      <td>1</td>\n",
       "      <td>0</td>\n",
       "      <td>1</td>\n",
       "      <td>0</td>\n",
       "      <td>0</td>\n",
       "      <td>NaN</td>\n",
       "      <td>NaN</td>\n",
       "      <td>NaN</td>\n",
       "      <td>Rajasthan Royals</td>\n",
       "    </tr>\n",
       "    <tr>\n",
       "      <th>3</th>\n",
       "      <td>1312200</td>\n",
       "      <td>1</td>\n",
       "      <td>0</td>\n",
       "      <td>4</td>\n",
       "      <td>YBK Jaiswal</td>\n",
       "      <td>Mohammed Shami</td>\n",
       "      <td>JC Buttler</td>\n",
       "      <td>NaN</td>\n",
       "      <td>0</td>\n",
       "      <td>0</td>\n",
       "      <td>0</td>\n",
       "      <td>0</td>\n",
       "      <td>0</td>\n",
       "      <td>NaN</td>\n",
       "      <td>NaN</td>\n",
       "      <td>NaN</td>\n",
       "      <td>Rajasthan Royals</td>\n",
       "    </tr>\n",
       "    <tr>\n",
       "      <th>4</th>\n",
       "      <td>1312200</td>\n",
       "      <td>1</td>\n",
       "      <td>0</td>\n",
       "      <td>5</td>\n",
       "      <td>YBK Jaiswal</td>\n",
       "      <td>Mohammed Shami</td>\n",
       "      <td>JC Buttler</td>\n",
       "      <td>NaN</td>\n",
       "      <td>0</td>\n",
       "      <td>0</td>\n",
       "      <td>0</td>\n",
       "      <td>0</td>\n",
       "      <td>0</td>\n",
       "      <td>NaN</td>\n",
       "      <td>NaN</td>\n",
       "      <td>NaN</td>\n",
       "      <td>Rajasthan Royals</td>\n",
       "    </tr>\n",
       "  </tbody>\n",
       "</table>\n",
       "</div>"
      ],
      "text/plain": [
       "        ID  innings  overs  ballnumber       batter          bowler   \n",
       "0  1312200        1      0           1  YBK Jaiswal  Mohammed Shami  \\\n",
       "1  1312200        1      0           2  YBK Jaiswal  Mohammed Shami   \n",
       "2  1312200        1      0           3   JC Buttler  Mohammed Shami   \n",
       "3  1312200        1      0           4  YBK Jaiswal  Mohammed Shami   \n",
       "4  1312200        1      0           5  YBK Jaiswal  Mohammed Shami   \n",
       "\n",
       "   non-striker extra_type  batsman_run  extras_run  total_run  non_boundary   \n",
       "0   JC Buttler        NaN            0           0          0             0  \\\n",
       "1   JC Buttler    legbyes            0           1          1             0   \n",
       "2  YBK Jaiswal        NaN            1           0          1             0   \n",
       "3   JC Buttler        NaN            0           0          0             0   \n",
       "4   JC Buttler        NaN            0           0          0             0   \n",
       "\n",
       "   isWicketDelivery player_out kind fielders_involved       BattingTeam  \n",
       "0                 0        NaN  NaN               NaN  Rajasthan Royals  \n",
       "1                 0        NaN  NaN               NaN  Rajasthan Royals  \n",
       "2                 0        NaN  NaN               NaN  Rajasthan Royals  \n",
       "3                 0        NaN  NaN               NaN  Rajasthan Royals  \n",
       "4                 0        NaN  NaN               NaN  Rajasthan Royals  "
      ]
     },
     "execution_count": 5,
     "metadata": {},
     "output_type": "execute_result"
    }
   ],
   "source": [
    "data_ball.head(5)"
   ]
  },
  {
   "cell_type": "code",
   "execution_count": 6,
   "metadata": {},
   "outputs": [
    {
     "data": {
      "text/html": [
       "<div>\n",
       "<style scoped>\n",
       "    .dataframe tbody tr th:only-of-type {\n",
       "        vertical-align: middle;\n",
       "    }\n",
       "\n",
       "    .dataframe tbody tr th {\n",
       "        vertical-align: top;\n",
       "    }\n",
       "\n",
       "    .dataframe thead th {\n",
       "        text-align: right;\n",
       "    }\n",
       "</style>\n",
       "<table border=\"1\" class=\"dataframe\">\n",
       "  <thead>\n",
       "    <tr style=\"text-align: right;\">\n",
       "      <th></th>\n",
<<<<<<< HEAD
       "      <th>player</th>\n",
       "      <th>Team</th>\n",
       "    </tr>\n",
       "  </thead>\n",
       "  <tbody>\n",
       "    <tr>\n",
       "      <th>0</th>\n",
       "      <td>YBK Jaiswal</td>\n",
       "      <td>RR</td>\n",
       "    </tr>\n",
       "    <tr>\n",
       "      <th>1</th>\n",
       "      <td>JC Buttler</td>\n",
       "      <td>RR</td>\n",
       "    </tr>\n",
       "    <tr>\n",
       "      <th>2</th>\n",
       "      <td>SV Samson</td>\n",
       "      <td>RR</td>\n",
       "    </tr>\n",
       "    <tr>\n",
       "      <th>3</th>\n",
       "      <td>D Padikkal</td>\n",
       "      <td>RR</td>\n",
       "    </tr>\n",
       "    <tr>\n",
       "      <th>4</th>\n",
       "      <td>SO Hetmyer</td>\n",
       "      <td>RR</td>\n",
       "    </tr>\n",
       "  </tbody>\n",
       "</table>\n",
       "</div>"
      ],
      "text/plain": [
       "        player Team \n",
       "0  YBK Jaiswal    RR\n",
       "1   JC Buttler    RR\n",
       "2    SV Samson    RR\n",
       "3   D Padikkal    RR\n",
       "4   SO Hetmyer    RR"
      ]
     },
     "execution_count": 6,
     "metadata": {},
     "output_type": "execute_result"
    }
   ],
   "source": [
    "data_ipl_2k23_player_team.head()"
   ]
  },
  {
   "cell_type": "code",
   "execution_count": 7,
   "metadata": {},
   "outputs": [
    {
     "data": {
      "text/html": [
       "<div>\n",
       "<style scoped>\n",
       "    .dataframe tbody tr th:only-of-type {\n",
       "        vertical-align: middle;\n",
       "    }\n",
       "\n",
       "    .dataframe tbody tr th {\n",
       "        vertical-align: top;\n",
       "    }\n",
       "\n",
       "    .dataframe thead th {\n",
       "        text-align: right;\n",
       "    }\n",
       "</style>\n",
       "<table border=\"1\" class=\"dataframe\">\n",
       "  <thead>\n",
       "    <tr style=\"text-align: right;\">\n",
       "      <th></th>\n",
=======
>>>>>>> a188d8bfc46d91902995e5550b38809bf41b467a
       "      <th>ID</th>\n",
       "      <th>City</th>\n",
       "      <th>Date</th>\n",
       "      <th>Season</th>\n",
       "      <th>MatchNumber</th>\n",
       "      <th>Team1</th>\n",
       "      <th>Team2</th>\n",
       "      <th>Venue</th>\n",
       "      <th>TossWinner</th>\n",
       "      <th>TossDecision</th>\n",
       "      <th>SuperOver</th>\n",
       "      <th>WinningTeam</th>\n",
       "      <th>WonBy</th>\n",
       "      <th>Margin</th>\n",
       "      <th>method</th>\n",
       "      <th>Player_of_Match</th>\n",
       "      <th>Team1Players</th>\n",
       "      <th>Team2Players</th>\n",
       "      <th>Umpire1</th>\n",
       "      <th>Umpire2</th>\n",
       "    </tr>\n",
       "  </thead>\n",
       "  <tbody>\n",
       "    <tr>\n",
       "      <th>0</th>\n",
       "      <td>1312200</td>\n",
       "      <td>Ahmedabad</td>\n",
       "      <td>2022-05-29</td>\n",
       "      <td>2022</td>\n",
       "      <td>Final</td>\n",
       "      <td>Rajasthan Royals</td>\n",
       "      <td>Gujarat Titans</td>\n",
       "      <td>Narendra Modi Stadium, Ahmedabad</td>\n",
       "      <td>Rajasthan Royals</td>\n",
       "      <td>bat</td>\n",
       "      <td>N</td>\n",
       "      <td>Gujarat Titans</td>\n",
       "      <td>Wickets</td>\n",
       "      <td>7.0</td>\n",
       "      <td>NaN</td>\n",
       "      <td>HH Pandya</td>\n",
       "      <td>['YBK Jaiswal', 'JC Buttler', 'SV Samson', 'D ...</td>\n",
       "      <td>['WP Saha', 'Shubman Gill', 'MS Wade', 'HH Pan...</td>\n",
       "      <td>CB Gaffaney</td>\n",
       "      <td>Nitin Menon</td>\n",
       "    </tr>\n",
       "    <tr>\n",
       "      <th>1</th>\n",
       "      <td>1312199</td>\n",
       "      <td>Ahmedabad</td>\n",
       "      <td>2022-05-27</td>\n",
       "      <td>2022</td>\n",
       "      <td>Qualifier 2</td>\n",
       "      <td>Royal Challengers Bangalore</td>\n",
       "      <td>Rajasthan Royals</td>\n",
       "      <td>Narendra Modi Stadium, Ahmedabad</td>\n",
       "      <td>Rajasthan Royals</td>\n",
       "      <td>field</td>\n",
       "      <td>N</td>\n",
       "      <td>Rajasthan Royals</td>\n",
       "      <td>Wickets</td>\n",
       "      <td>7.0</td>\n",
       "      <td>NaN</td>\n",
       "      <td>JC Buttler</td>\n",
       "      <td>['V Kohli', 'F du Plessis', 'RM Patidar', 'GJ ...</td>\n",
       "      <td>['YBK Jaiswal', 'JC Buttler', 'SV Samson', 'D ...</td>\n",
       "      <td>CB Gaffaney</td>\n",
       "      <td>Nitin Menon</td>\n",
       "    </tr>\n",
       "    <tr>\n",
       "      <th>2</th>\n",
       "      <td>1312198</td>\n",
       "      <td>Kolkata</td>\n",
       "      <td>2022-05-25</td>\n",
       "      <td>2022</td>\n",
       "      <td>Eliminator</td>\n",
       "      <td>Royal Challengers Bangalore</td>\n",
       "      <td>Lucknow Super Giants</td>\n",
       "      <td>Eden Gardens, Kolkata</td>\n",
       "      <td>Lucknow Super Giants</td>\n",
       "      <td>field</td>\n",
       "      <td>N</td>\n",
       "      <td>Royal Challengers Bangalore</td>\n",
       "      <td>Runs</td>\n",
       "      <td>14.0</td>\n",
       "      <td>NaN</td>\n",
       "      <td>RM Patidar</td>\n",
       "      <td>['V Kohli', 'F du Plessis', 'RM Patidar', 'GJ ...</td>\n",
       "      <td>['Q de Kock', 'KL Rahul', 'M Vohra', 'DJ Hooda...</td>\n",
       "      <td>J Madanagopal</td>\n",
       "      <td>MA Gough</td>\n",
       "    </tr>\n",
       "    <tr>\n",
       "      <th>3</th>\n",
       "      <td>1312197</td>\n",
       "      <td>Kolkata</td>\n",
       "      <td>2022-05-24</td>\n",
       "      <td>2022</td>\n",
       "      <td>Qualifier 1</td>\n",
       "      <td>Rajasthan Royals</td>\n",
       "      <td>Gujarat Titans</td>\n",
       "      <td>Eden Gardens, Kolkata</td>\n",
       "      <td>Gujarat Titans</td>\n",
       "      <td>field</td>\n",
       "      <td>N</td>\n",
       "      <td>Gujarat Titans</td>\n",
       "      <td>Wickets</td>\n",
       "      <td>7.0</td>\n",
       "      <td>NaN</td>\n",
       "      <td>DA Miller</td>\n",
       "      <td>['YBK Jaiswal', 'JC Buttler', 'SV Samson', 'D ...</td>\n",
       "      <td>['WP Saha', 'Shubman Gill', 'MS Wade', 'HH Pan...</td>\n",
       "      <td>BNJ Oxenford</td>\n",
       "      <td>VK Sharma</td>\n",
       "    </tr>\n",
       "    <tr>\n",
       "      <th>4</th>\n",
       "      <td>1304116</td>\n",
       "      <td>Mumbai</td>\n",
       "      <td>2022-05-22</td>\n",
       "      <td>2022</td>\n",
       "      <td>70</td>\n",
       "      <td>Sunrisers Hyderabad</td>\n",
       "      <td>Punjab Kings</td>\n",
       "      <td>Wankhede Stadium, Mumbai</td>\n",
       "      <td>Sunrisers Hyderabad</td>\n",
       "      <td>bat</td>\n",
       "      <td>N</td>\n",
       "      <td>Punjab Kings</td>\n",
       "      <td>Wickets</td>\n",
       "      <td>5.0</td>\n",
       "      <td>NaN</td>\n",
       "      <td>Harpreet Brar</td>\n",
       "      <td>['PK Garg', 'Abhishek Sharma', 'RA Tripathi', ...</td>\n",
       "      <td>['JM Bairstow', 'S Dhawan', 'M Shahrukh Khan',...</td>\n",
       "      <td>AK Chaudhary</td>\n",
       "      <td>NA Patwardhan</td>\n",
       "    </tr>\n",
       "  </tbody>\n",
       "</table>\n",
       "</div>"
      ],
      "text/plain": [
       "        ID       City        Date Season  MatchNumber   \n",
       "0  1312200  Ahmedabad  2022-05-29   2022        Final  \\\n",
       "1  1312199  Ahmedabad  2022-05-27   2022  Qualifier 2   \n",
       "2  1312198    Kolkata  2022-05-25   2022   Eliminator   \n",
       "3  1312197    Kolkata  2022-05-24   2022  Qualifier 1   \n",
       "4  1304116     Mumbai  2022-05-22   2022           70   \n",
       "\n",
       "                         Team1                 Team2   \n",
       "0             Rajasthan Royals        Gujarat Titans  \\\n",
       "1  Royal Challengers Bangalore      Rajasthan Royals   \n",
       "2  Royal Challengers Bangalore  Lucknow Super Giants   \n",
       "3             Rajasthan Royals        Gujarat Titans   \n",
       "4          Sunrisers Hyderabad          Punjab Kings   \n",
       "\n",
       "                              Venue            TossWinner TossDecision   \n",
       "0  Narendra Modi Stadium, Ahmedabad      Rajasthan Royals          bat  \\\n",
       "1  Narendra Modi Stadium, Ahmedabad      Rajasthan Royals        field   \n",
       "2             Eden Gardens, Kolkata  Lucknow Super Giants        field   \n",
       "3             Eden Gardens, Kolkata        Gujarat Titans        field   \n",
       "4          Wankhede Stadium, Mumbai   Sunrisers Hyderabad          bat   \n",
       "\n",
       "  SuperOver                  WinningTeam    WonBy  Margin method   \n",
       "0         N               Gujarat Titans  Wickets     7.0    NaN  \\\n",
       "1         N             Rajasthan Royals  Wickets     7.0    NaN   \n",
       "2         N  Royal Challengers Bangalore     Runs    14.0    NaN   \n",
       "3         N               Gujarat Titans  Wickets     7.0    NaN   \n",
       "4         N                 Punjab Kings  Wickets     5.0    NaN   \n",
       "\n",
       "  Player_of_Match                                       Team1Players   \n",
       "0       HH Pandya  ['YBK Jaiswal', 'JC Buttler', 'SV Samson', 'D ...  \\\n",
       "1      JC Buttler  ['V Kohli', 'F du Plessis', 'RM Patidar', 'GJ ...   \n",
       "2      RM Patidar  ['V Kohli', 'F du Plessis', 'RM Patidar', 'GJ ...   \n",
       "3       DA Miller  ['YBK Jaiswal', 'JC Buttler', 'SV Samson', 'D ...   \n",
       "4   Harpreet Brar  ['PK Garg', 'Abhishek Sharma', 'RA Tripathi', ...   \n",
       "\n",
       "                                        Team2Players        Umpire1   \n",
       "0  ['WP Saha', 'Shubman Gill', 'MS Wade', 'HH Pan...    CB Gaffaney  \\\n",
       "1  ['YBK Jaiswal', 'JC Buttler', 'SV Samson', 'D ...    CB Gaffaney   \n",
       "2  ['Q de Kock', 'KL Rahul', 'M Vohra', 'DJ Hooda...  J Madanagopal   \n",
       "3  ['WP Saha', 'Shubman Gill', 'MS Wade', 'HH Pan...   BNJ Oxenford   \n",
       "4  ['JM Bairstow', 'S Dhawan', 'M Shahrukh Khan',...   AK Chaudhary   \n",
       "\n",
       "         Umpire2  \n",
       "0    Nitin Menon  \n",
       "1    Nitin Menon  \n",
       "2       MA Gough  \n",
       "3      VK Sharma  \n",
       "4  NA Patwardhan  "
      ]
     },
<<<<<<< HEAD
     "execution_count": 7,
=======
     "execution_count": 6,
>>>>>>> a188d8bfc46d91902995e5550b38809bf41b467a
     "metadata": {},
     "output_type": "execute_result"
    }
   ],
   "source": [
    "data_match.head()"
   ]
  },
  {
   "cell_type": "code",
<<<<<<< HEAD
=======
   "execution_count": 7,
   "metadata": {},
   "outputs": [
    {
     "data": {
      "text/html": [
       "<div>\n",
       "<style scoped>\n",
       "    .dataframe tbody tr th:only-of-type {\n",
       "        vertical-align: middle;\n",
       "    }\n",
       "\n",
       "    .dataframe tbody tr th {\n",
       "        vertical-align: top;\n",
       "    }\n",
       "\n",
       "    .dataframe thead th {\n",
       "        text-align: right;\n",
       "    }\n",
       "</style>\n",
       "<table border=\"1\" class=\"dataframe\">\n",
       "  <thead>\n",
       "    <tr style=\"text-align: right;\">\n",
       "      <th></th>\n",
       "      <th>player</th>\n",
       "      <th>Team</th>\n",
       "    </tr>\n",
       "  </thead>\n",
       "  <tbody>\n",
       "    <tr>\n",
       "      <th>0</th>\n",
       "      <td>YBK Jaiswal</td>\n",
       "      <td>RR</td>\n",
       "    </tr>\n",
       "    <tr>\n",
       "      <th>1</th>\n",
       "      <td>JC Buttler</td>\n",
       "      <td>RR</td>\n",
       "    </tr>\n",
       "    <tr>\n",
       "      <th>2</th>\n",
       "      <td>SV Samson</td>\n",
       "      <td>RR</td>\n",
       "    </tr>\n",
       "    <tr>\n",
       "      <th>3</th>\n",
       "      <td>D Padikkal</td>\n",
       "      <td>RR</td>\n",
       "    </tr>\n",
       "    <tr>\n",
       "      <th>4</th>\n",
       "      <td>SO Hetmyer</td>\n",
       "      <td>RR</td>\n",
       "    </tr>\n",
       "  </tbody>\n",
       "</table>\n",
       "</div>"
      ],
      "text/plain": [
       "        player Team \n",
       "0  YBK Jaiswal    RR\n",
       "1   JC Buttler    RR\n",
       "2    SV Samson    RR\n",
       "3   D Padikkal    RR\n",
       "4   SO Hetmyer    RR"
      ]
     },
     "execution_count": 7,
     "metadata": {},
     "output_type": "execute_result"
    }
   ],
   "source": [
    "data_ipl_2k23_player_team.head()"
   ]
  },
  {
   "cell_type": "code",
>>>>>>> a188d8bfc46d91902995e5550b38809bf41b467a
   "execution_count": 8,
   "metadata": {},
   "outputs": [
    {
     "data": {
      "text/plain": [
       "ID                        0\n",
       "innings                   0\n",
       "overs                     0\n",
       "ballnumber                0\n",
       "batter                    0\n",
       "bowler                    0\n",
       "non-striker               0\n",
       "extra_type           213905\n",
       "batsman_run               0\n",
       "extras_run                0\n",
       "total_run                 0\n",
       "non_boundary              0\n",
       "isWicketDelivery          0\n",
       "player_out           214803\n",
       "kind                 214803\n",
       "fielders_involved    217966\n",
       "BattingTeam               0\n",
       "dtype: int64"
      ]
     },
     "execution_count": 8,
     "metadata": {},
     "output_type": "execute_result"
    }
   ],
   "source": [
    "data_ball.isnull().sum()"
   ]
  },
  {
   "attachments": {},
   "cell_type": "markdown",
   "metadata": {},
   "source": [
    "## Ball Dataset Preprocessing"
   ]
  },
  {
   "attachments": {},
   "cell_type": "markdown",
   "metadata": {},
   "source": [
    "### Data Cleaning"
   ]
  },
  {
   "cell_type": "code",
   "execution_count": 9,
   "metadata": {},
   "outputs": [
    {
     "data": {
      "text/html": [
       "<div>\n",
       "<style scoped>\n",
       "    .dataframe tbody tr th:only-of-type {\n",
       "        vertical-align: middle;\n",
       "    }\n",
       "\n",
       "    .dataframe tbody tr th {\n",
       "        vertical-align: top;\n",
       "    }\n",
       "\n",
       "    .dataframe thead th {\n",
       "        text-align: right;\n",
       "    }\n",
       "</style>\n",
       "<table border=\"1\" class=\"dataframe\">\n",
       "  <thead>\n",
       "    <tr style=\"text-align: right;\">\n",
       "      <th></th>\n",
       "      <th>ID</th>\n",
       "      <th>innings</th>\n",
       "      <th>overs</th>\n",
       "      <th>ballnumber</th>\n",
       "      <th>batter</th>\n",
       "      <th>bowler</th>\n",
       "      <th>non-striker</th>\n",
       "      <th>extra_type</th>\n",
       "      <th>batsman_run</th>\n",
       "      <th>extras_run</th>\n",
       "      <th>total_run</th>\n",
       "      <th>non_boundary</th>\n",
       "      <th>isWicketDelivery</th>\n",
       "      <th>player_out</th>\n",
       "      <th>kind</th>\n",
       "      <th>fielders_involved</th>\n",
       "      <th>BattingTeam</th>\n",
       "    </tr>\n",
       "  </thead>\n",
       "  <tbody>\n",
       "    <tr>\n",
       "      <th>0</th>\n",
       "      <td>1312200</td>\n",
       "      <td>1</td>\n",
       "      <td>0</td>\n",
       "      <td>1</td>\n",
       "      <td>YBK Jaiswal</td>\n",
       "      <td>Mohammed Shami</td>\n",
       "      <td>JC Buttler</td>\n",
       "      <td>NaN</td>\n",
       "      <td>0</td>\n",
       "      <td>0</td>\n",
       "      <td>0</td>\n",
       "      <td>0</td>\n",
       "      <td>0</td>\n",
       "      <td>NaN</td>\n",
       "      <td>NaN</td>\n",
       "      <td>NaN</td>\n",
       "      <td>Rajasthan Royals</td>\n",
       "    </tr>\n",
       "    <tr>\n",
       "      <th>1</th>\n",
       "      <td>1312200</td>\n",
       "      <td>1</td>\n",
       "      <td>0</td>\n",
       "      <td>2</td>\n",
       "      <td>YBK Jaiswal</td>\n",
       "      <td>Mohammed Shami</td>\n",
       "      <td>JC Buttler</td>\n",
       "      <td>legbyes</td>\n",
       "      <td>0</td>\n",
       "      <td>1</td>\n",
       "      <td>1</td>\n",
       "      <td>0</td>\n",
       "      <td>0</td>\n",
       "      <td>NaN</td>\n",
       "      <td>NaN</td>\n",
       "      <td>NaN</td>\n",
       "      <td>Rajasthan Royals</td>\n",
       "    </tr>\n",
       "    <tr>\n",
       "      <th>2</th>\n",
       "      <td>1312200</td>\n",
       "      <td>1</td>\n",
       "      <td>0</td>\n",
       "      <td>3</td>\n",
       "      <td>JC Buttler</td>\n",
       "      <td>Mohammed Shami</td>\n",
       "      <td>YBK Jaiswal</td>\n",
       "      <td>NaN</td>\n",
       "      <td>1</td>\n",
       "      <td>0</td>\n",
       "      <td>1</td>\n",
       "      <td>0</td>\n",
       "      <td>0</td>\n",
       "      <td>NaN</td>\n",
       "      <td>NaN</td>\n",
       "      <td>NaN</td>\n",
       "      <td>Rajasthan Royals</td>\n",
       "    </tr>\n",
       "    <tr>\n",
       "      <th>3</th>\n",
       "      <td>1312200</td>\n",
       "      <td>1</td>\n",
       "      <td>0</td>\n",
       "      <td>4</td>\n",
       "      <td>YBK Jaiswal</td>\n",
       "      <td>Mohammed Shami</td>\n",
       "      <td>JC Buttler</td>\n",
       "      <td>NaN</td>\n",
       "      <td>0</td>\n",
       "      <td>0</td>\n",
       "      <td>0</td>\n",
       "      <td>0</td>\n",
       "      <td>0</td>\n",
       "      <td>NaN</td>\n",
       "      <td>NaN</td>\n",
       "      <td>NaN</td>\n",
       "      <td>Rajasthan Royals</td>\n",
       "    </tr>\n",
       "    <tr>\n",
       "      <th>4</th>\n",
       "      <td>1312200</td>\n",
       "      <td>1</td>\n",
       "      <td>0</td>\n",
       "      <td>5</td>\n",
       "      <td>YBK Jaiswal</td>\n",
       "      <td>Mohammed Shami</td>\n",
       "      <td>JC Buttler</td>\n",
       "      <td>NaN</td>\n",
       "      <td>0</td>\n",
       "      <td>0</td>\n",
       "      <td>0</td>\n",
       "      <td>0</td>\n",
       "      <td>0</td>\n",
       "      <td>NaN</td>\n",
       "      <td>NaN</td>\n",
       "      <td>NaN</td>\n",
       "      <td>Rajasthan Royals</td>\n",
       "    </tr>\n",
       "  </tbody>\n",
       "</table>\n",
       "</div>"
      ],
      "text/plain": [
       "        ID  innings  overs  ballnumber       batter          bowler   \n",
       "0  1312200        1      0           1  YBK Jaiswal  Mohammed Shami  \\\n",
       "1  1312200        1      0           2  YBK Jaiswal  Mohammed Shami   \n",
       "2  1312200        1      0           3   JC Buttler  Mohammed Shami   \n",
       "3  1312200        1      0           4  YBK Jaiswal  Mohammed Shami   \n",
       "4  1312200        1      0           5  YBK Jaiswal  Mohammed Shami   \n",
       "\n",
       "   non-striker extra_type  batsman_run  extras_run  total_run  non_boundary   \n",
       "0   JC Buttler        NaN            0           0          0             0  \\\n",
       "1   JC Buttler    legbyes            0           1          1             0   \n",
       "2  YBK Jaiswal        NaN            1           0          1             0   \n",
       "3   JC Buttler        NaN            0           0          0             0   \n",
       "4   JC Buttler        NaN            0           0          0             0   \n",
       "\n",
       "   isWicketDelivery player_out kind fielders_involved       BattingTeam  \n",
       "0                 0        NaN  NaN               NaN  Rajasthan Royals  \n",
       "1                 0        NaN  NaN               NaN  Rajasthan Royals  \n",
       "2                 0        NaN  NaN               NaN  Rajasthan Royals  \n",
       "3                 0        NaN  NaN               NaN  Rajasthan Royals  \n",
       "4                 0        NaN  NaN               NaN  Rajasthan Royals  "
      ]
     },
     "execution_count": 9,
     "metadata": {},
     "output_type": "execute_result"
    }
   ],
   "source": [
    "data_ball = pd.read_csv('training_dataset/DataSet/IPL_Ball_by_Ball_2008_2022.csv')\n",
    "data_ball.head(5)"
   ]
  },
  {
   "cell_type": "code",
   "execution_count": 10,
   "metadata": {},
   "outputs": [
    {
     "data": {
      "text/plain": [
       "(225954, 17)"
      ]
     },
     "execution_count": 10,
     "metadata": {},
     "output_type": "execute_result"
    }
   ],
   "source": [
    "data_ball.shape"
   ]
  },
  {
   "cell_type": "code",
   "execution_count": 11,
   "metadata": {},
   "outputs": [
    {
     "data": {
      "text/plain": [
       "array([nan, 'legbyes', 'wides', 'byes', 'noballs', 'penalty'],\n",
       "      dtype=object)"
      ]
     },
     "execution_count": 11,
     "metadata": {},
     "output_type": "execute_result"
    }
   ],
   "source": [
    "data_ball['extra_type'].unique()"
   ]
  },
  {
   "cell_type": "code",
   "execution_count": 12,
   "metadata": {},
   "outputs": [
    {
     "data": {
      "text/plain": [
       "ID                        0\n",
       "innings                   0\n",
       "overs                     0\n",
       "ballnumber                0\n",
       "batter                    0\n",
       "bowler                    0\n",
       "non-striker               0\n",
       "extra_type           213905\n",
       "batsman_run               0\n",
       "extras_run                0\n",
       "total_run                 0\n",
       "non_boundary              0\n",
       "isWicketDelivery          0\n",
       "player_out           214803\n",
       "kind                 214803\n",
       "fielders_involved    217966\n",
       "BattingTeam               0\n",
       "dtype: int64"
      ]
     },
     "execution_count": 12,
     "metadata": {},
     "output_type": "execute_result"
    }
   ],
   "source": [
    "data_ball.isnull().sum()"
   ]
  },
  {
   "cell_type": "code",
   "execution_count": 13,
   "metadata": {},
   "outputs": [],
   "source": [
    "data_ball = data_ball.drop(['extra_type', 'kind', 'fielders_involved', 'batsman_run', 'extras_run', 'isWicketDelivery'], axis = 1)"
   ]
  },
  {
   "cell_type": "code",
   "execution_count": 14,
   "metadata": {},
   "outputs": [
    {
     "data": {
      "text/plain": [
       "ID                   0\n",
       "innings              0\n",
       "overs                0\n",
       "ballnumber           0\n",
       "batter               0\n",
       "bowler               0\n",
       "non-striker          0\n",
       "total_run            0\n",
       "non_boundary         0\n",
       "player_out      214803\n",
       "BattingTeam          0\n",
       "dtype: int64"
      ]
     },
     "execution_count": 14,
     "metadata": {},
     "output_type": "execute_result"
    }
   ],
   "source": [
    "data_ball.isnull().sum()"
   ]
  },
  {
   "cell_type": "code",
   "execution_count": 15,
   "metadata": {},
   "outputs": [],
   "source": [
    "data_ball['player_out'] = data_ball['player_out'].replace([np.nan], ['Not out'])"
   ]
  },
  {
   "cell_type": "code",
   "execution_count": 16,
   "metadata": {},
   "outputs": [
    {
     "data": {
      "text/plain": [
       "(225954, 11)"
      ]
     },
     "execution_count": 16,
     "metadata": {},
     "output_type": "execute_result"
    }
   ],
   "source": [
    "data_ball.shape"
   ]
  },
  {
   "cell_type": "code",
   "execution_count": 17,
   "metadata": {},
   "outputs": [
    {
     "data": {
      "text/html": [
       "<div>\n",
       "<style scoped>\n",
       "    .dataframe tbody tr th:only-of-type {\n",
       "        vertical-align: middle;\n",
       "    }\n",
       "\n",
       "    .dataframe tbody tr th {\n",
       "        vertical-align: top;\n",
       "    }\n",
       "\n",
       "    .dataframe thead th {\n",
       "        text-align: right;\n",
       "    }\n",
       "</style>\n",
       "<table border=\"1\" class=\"dataframe\">\n",
       "  <thead>\n",
       "    <tr style=\"text-align: right;\">\n",
       "      <th></th>\n",
       "      <th>ID</th>\n",
       "      <th>innings</th>\n",
       "      <th>overs</th>\n",
       "      <th>ballnumber</th>\n",
       "      <th>batter</th>\n",
       "      <th>bowler</th>\n",
       "      <th>non-striker</th>\n",
       "      <th>total_run</th>\n",
       "      <th>non_boundary</th>\n",
       "      <th>player_out</th>\n",
       "      <th>BattingTeam</th>\n",
       "    </tr>\n",
       "  </thead>\n",
       "  <tbody>\n",
       "    <tr>\n",
       "      <th>0</th>\n",
       "      <td>1312200</td>\n",
       "      <td>1</td>\n",
       "      <td>0</td>\n",
       "      <td>1</td>\n",
       "      <td>YBK Jaiswal</td>\n",
       "      <td>Mohammed Shami</td>\n",
       "      <td>JC Buttler</td>\n",
       "      <td>0</td>\n",
       "      <td>0</td>\n",
       "      <td>Not out</td>\n",
       "      <td>Rajasthan Royals</td>\n",
       "    </tr>\n",
       "    <tr>\n",
       "      <th>1</th>\n",
       "      <td>1312200</td>\n",
       "      <td>1</td>\n",
       "      <td>0</td>\n",
       "      <td>2</td>\n",
       "      <td>YBK Jaiswal</td>\n",
       "      <td>Mohammed Shami</td>\n",
       "      <td>JC Buttler</td>\n",
       "      <td>1</td>\n",
       "      <td>0</td>\n",
       "      <td>Not out</td>\n",
       "      <td>Rajasthan Royals</td>\n",
       "    </tr>\n",
       "    <tr>\n",
       "      <th>2</th>\n",
       "      <td>1312200</td>\n",
       "      <td>1</td>\n",
       "      <td>0</td>\n",
       "      <td>3</td>\n",
       "      <td>JC Buttler</td>\n",
       "      <td>Mohammed Shami</td>\n",
       "      <td>YBK Jaiswal</td>\n",
       "      <td>1</td>\n",
       "      <td>0</td>\n",
       "      <td>Not out</td>\n",
       "      <td>Rajasthan Royals</td>\n",
       "    </tr>\n",
       "    <tr>\n",
       "      <th>3</th>\n",
       "      <td>1312200</td>\n",
       "      <td>1</td>\n",
       "      <td>0</td>\n",
       "      <td>4</td>\n",
       "      <td>YBK Jaiswal</td>\n",
       "      <td>Mohammed Shami</td>\n",
       "      <td>JC Buttler</td>\n",
       "      <td>0</td>\n",
       "      <td>0</td>\n",
       "      <td>Not out</td>\n",
       "      <td>Rajasthan Royals</td>\n",
       "    </tr>\n",
       "    <tr>\n",
       "      <th>4</th>\n",
       "      <td>1312200</td>\n",
       "      <td>1</td>\n",
       "      <td>0</td>\n",
       "      <td>5</td>\n",
       "      <td>YBK Jaiswal</td>\n",
       "      <td>Mohammed Shami</td>\n",
       "      <td>JC Buttler</td>\n",
       "      <td>0</td>\n",
       "      <td>0</td>\n",
       "      <td>Not out</td>\n",
       "      <td>Rajasthan Royals</td>\n",
       "    </tr>\n",
       "    <tr>\n",
       "      <th>5</th>\n",
       "      <td>1312200</td>\n",
       "      <td>1</td>\n",
       "      <td>0</td>\n",
       "      <td>6</td>\n",
       "      <td>YBK Jaiswal</td>\n",
       "      <td>Mohammed Shami</td>\n",
       "      <td>JC Buttler</td>\n",
       "      <td>0</td>\n",
       "      <td>0</td>\n",
       "      <td>Not out</td>\n",
       "      <td>Rajasthan Royals</td>\n",
       "    </tr>\n",
       "    <tr>\n",
       "      <th>6</th>\n",
       "      <td>1312200</td>\n",
       "      <td>1</td>\n",
       "      <td>1</td>\n",
       "      <td>1</td>\n",
       "      <td>JC Buttler</td>\n",
       "      <td>Yash Dayal</td>\n",
       "      <td>YBK Jaiswal</td>\n",
       "      <td>0</td>\n",
       "      <td>0</td>\n",
       "      <td>Not out</td>\n",
       "      <td>Rajasthan Royals</td>\n",
       "    </tr>\n",
       "    <tr>\n",
       "      <th>7</th>\n",
       "      <td>1312200</td>\n",
       "      <td>1</td>\n",
       "      <td>1</td>\n",
       "      <td>2</td>\n",
       "      <td>JC Buttler</td>\n",
       "      <td>Yash Dayal</td>\n",
       "      <td>YBK Jaiswal</td>\n",
       "      <td>0</td>\n",
       "      <td>0</td>\n",
       "      <td>Not out</td>\n",
       "      <td>Rajasthan Royals</td>\n",
       "    </tr>\n",
       "    <tr>\n",
       "      <th>8</th>\n",
       "      <td>1312200</td>\n",
       "      <td>1</td>\n",
       "      <td>1</td>\n",
       "      <td>3</td>\n",
       "      <td>JC Buttler</td>\n",
       "      <td>Yash Dayal</td>\n",
       "      <td>YBK Jaiswal</td>\n",
       "      <td>4</td>\n",
       "      <td>0</td>\n",
       "      <td>Not out</td>\n",
       "      <td>Rajasthan Royals</td>\n",
       "    </tr>\n",
       "    <tr>\n",
       "      <th>9</th>\n",
       "      <td>1312200</td>\n",
       "      <td>1</td>\n",
       "      <td>1</td>\n",
       "      <td>4</td>\n",
       "      <td>JC Buttler</td>\n",
       "      <td>Yash Dayal</td>\n",
       "      <td>YBK Jaiswal</td>\n",
       "      <td>0</td>\n",
       "      <td>0</td>\n",
       "      <td>Not out</td>\n",
       "      <td>Rajasthan Royals</td>\n",
       "    </tr>\n",
       "    <tr>\n",
       "      <th>10</th>\n",
       "      <td>1312200</td>\n",
       "      <td>1</td>\n",
       "      <td>1</td>\n",
       "      <td>5</td>\n",
       "      <td>JC Buttler</td>\n",
       "      <td>Yash Dayal</td>\n",
       "      <td>YBK Jaiswal</td>\n",
       "      <td>1</td>\n",
       "      <td>0</td>\n",
       "      <td>Not out</td>\n",
       "      <td>Rajasthan Royals</td>\n",
       "    </tr>\n",
       "    <tr>\n",
       "      <th>11</th>\n",
       "      <td>1312200</td>\n",
       "      <td>1</td>\n",
       "      <td>1</td>\n",
       "      <td>6</td>\n",
       "      <td>YBK Jaiswal</td>\n",
       "      <td>Yash Dayal</td>\n",
       "      <td>JC Buttler</td>\n",
       "      <td>0</td>\n",
       "      <td>0</td>\n",
       "      <td>Not out</td>\n",
       "      <td>Rajasthan Royals</td>\n",
       "    </tr>\n",
       "    <tr>\n",
       "      <th>12</th>\n",
       "      <td>1312200</td>\n",
       "      <td>1</td>\n",
       "      <td>2</td>\n",
       "      <td>1</td>\n",
       "      <td>JC Buttler</td>\n",
       "      <td>Mohammed Shami</td>\n",
       "      <td>YBK Jaiswal</td>\n",
       "      <td>1</td>\n",
       "      <td>0</td>\n",
       "      <td>Not out</td>\n",
       "      <td>Rajasthan Royals</td>\n",
       "    </tr>\n",
       "    <tr>\n",
       "      <th>13</th>\n",
       "      <td>1312200</td>\n",
       "      <td>1</td>\n",
       "      <td>2</td>\n",
       "      <td>2</td>\n",
       "      <td>YBK Jaiswal</td>\n",
       "      <td>Mohammed Shami</td>\n",
       "      <td>JC Buttler</td>\n",
       "      <td>0</td>\n",
       "      <td>0</td>\n",
       "      <td>Not out</td>\n",
       "      <td>Rajasthan Royals</td>\n",
       "    </tr>\n",
       "    <tr>\n",
       "      <th>14</th>\n",
       "      <td>1312200</td>\n",
       "      <td>1</td>\n",
       "      <td>2</td>\n",
       "      <td>3</td>\n",
       "      <td>YBK Jaiswal</td>\n",
       "      <td>Mohammed Shami</td>\n",
       "      <td>JC Buttler</td>\n",
       "      <td>4</td>\n",
       "      <td>0</td>\n",
       "      <td>Not out</td>\n",
       "      <td>Rajasthan Royals</td>\n",
       "    </tr>\n",
       "    <tr>\n",
       "      <th>15</th>\n",
       "      <td>1312200</td>\n",
       "      <td>1</td>\n",
       "      <td>2</td>\n",
       "      <td>4</td>\n",
       "      <td>YBK Jaiswal</td>\n",
       "      <td>Mohammed Shami</td>\n",
       "      <td>JC Buttler</td>\n",
       "      <td>0</td>\n",
       "      <td>0</td>\n",
       "      <td>Not out</td>\n",
       "      <td>Rajasthan Royals</td>\n",
       "    </tr>\n",
       "    <tr>\n",
       "      <th>16</th>\n",
       "      <td>1312200</td>\n",
       "      <td>1</td>\n",
       "      <td>2</td>\n",
       "      <td>5</td>\n",
       "      <td>YBK Jaiswal</td>\n",
       "      <td>Mohammed Shami</td>\n",
       "      <td>JC Buttler</td>\n",
       "      <td>6</td>\n",
       "      <td>0</td>\n",
       "      <td>Not out</td>\n",
       "      <td>Rajasthan Royals</td>\n",
       "    </tr>\n",
       "    <tr>\n",
       "      <th>17</th>\n",
       "      <td>1312200</td>\n",
       "      <td>1</td>\n",
       "      <td>2</td>\n",
       "      <td>6</td>\n",
       "      <td>YBK Jaiswal</td>\n",
       "      <td>Mohammed Shami</td>\n",
       "      <td>JC Buttler</td>\n",
       "      <td>3</td>\n",
       "      <td>0</td>\n",
       "      <td>Not out</td>\n",
       "      <td>Rajasthan Royals</td>\n",
       "    </tr>\n",
       "    <tr>\n",
       "      <th>18</th>\n",
       "      <td>1312200</td>\n",
       "      <td>1</td>\n",
       "      <td>3</td>\n",
       "      <td>1</td>\n",
       "      <td>YBK Jaiswal</td>\n",
       "      <td>Yash Dayal</td>\n",
       "      <td>JC Buttler</td>\n",
       "      <td>1</td>\n",
       "      <td>0</td>\n",
       "      <td>Not out</td>\n",
       "      <td>Rajasthan Royals</td>\n",
       "    </tr>\n",
       "    <tr>\n",
       "      <th>19</th>\n",
       "      <td>1312200</td>\n",
       "      <td>1</td>\n",
       "      <td>3</td>\n",
       "      <td>2</td>\n",
       "      <td>JC Buttler</td>\n",
       "      <td>Yash Dayal</td>\n",
       "      <td>YBK Jaiswal</td>\n",
       "      <td>1</td>\n",
       "      <td>0</td>\n",
       "      <td>Not out</td>\n",
       "      <td>Rajasthan Royals</td>\n",
       "    </tr>\n",
       "    <tr>\n",
       "      <th>20</th>\n",
       "      <td>1312200</td>\n",
       "      <td>1</td>\n",
       "      <td>3</td>\n",
       "      <td>3</td>\n",
       "      <td>YBK Jaiswal</td>\n",
       "      <td>Yash Dayal</td>\n",
       "      <td>JC Buttler</td>\n",
       "      <td>0</td>\n",
       "      <td>0</td>\n",
       "      <td>Not out</td>\n",
       "      <td>Rajasthan Royals</td>\n",
       "    </tr>\n",
       "    <tr>\n",
       "      <th>21</th>\n",
       "      <td>1312200</td>\n",
       "      <td>1</td>\n",
       "      <td>3</td>\n",
       "      <td>4</td>\n",
       "      <td>YBK Jaiswal</td>\n",
       "      <td>Yash Dayal</td>\n",
       "      <td>JC Buttler</td>\n",
       "      <td>2</td>\n",
       "      <td>0</td>\n",
       "      <td>Not out</td>\n",
       "      <td>Rajasthan Royals</td>\n",
       "    </tr>\n",
       "    <tr>\n",
       "      <th>22</th>\n",
       "      <td>1312200</td>\n",
       "      <td>1</td>\n",
       "      <td>3</td>\n",
       "      <td>5</td>\n",
       "      <td>YBK Jaiswal</td>\n",
       "      <td>Yash Dayal</td>\n",
       "      <td>JC Buttler</td>\n",
       "      <td>6</td>\n",
       "      <td>0</td>\n",
       "      <td>Not out</td>\n",
       "      <td>Rajasthan Royals</td>\n",
       "    </tr>\n",
       "    <tr>\n",
       "      <th>23</th>\n",
       "      <td>1312200</td>\n",
       "      <td>1</td>\n",
       "      <td>3</td>\n",
       "      <td>6</td>\n",
       "      <td>YBK Jaiswal</td>\n",
       "      <td>Yash Dayal</td>\n",
       "      <td>JC Buttler</td>\n",
       "      <td>0</td>\n",
       "      <td>0</td>\n",
       "      <td>YBK Jaiswal</td>\n",
       "      <td>Rajasthan Royals</td>\n",
       "    </tr>\n",
       "    <tr>\n",
       "      <th>24</th>\n",
       "      <td>1312200</td>\n",
       "      <td>1</td>\n",
       "      <td>4</td>\n",
       "      <td>1</td>\n",
       "      <td>JC Buttler</td>\n",
       "      <td>LH Ferguson</td>\n",
       "      <td>SV Samson</td>\n",
       "      <td>0</td>\n",
       "      <td>0</td>\n",
       "      <td>Not out</td>\n",
       "      <td>Rajasthan Royals</td>\n",
       "    </tr>\n",
       "    <tr>\n",
       "      <th>25</th>\n",
       "      <td>1312200</td>\n",
       "      <td>1</td>\n",
       "      <td>4</td>\n",
       "      <td>2</td>\n",
       "      <td>JC Buttler</td>\n",
       "      <td>LH Ferguson</td>\n",
       "      <td>SV Samson</td>\n",
       "      <td>1</td>\n",
       "      <td>0</td>\n",
       "      <td>Not out</td>\n",
       "      <td>Rajasthan Royals</td>\n",
       "    </tr>\n",
       "    <tr>\n",
       "      <th>26</th>\n",
       "      <td>1312200</td>\n",
       "      <td>1</td>\n",
       "      <td>4</td>\n",
       "      <td>3</td>\n",
       "      <td>SV Samson</td>\n",
       "      <td>LH Ferguson</td>\n",
       "      <td>JC Buttler</td>\n",
       "      <td>4</td>\n",
       "      <td>0</td>\n",
       "      <td>Not out</td>\n",
       "      <td>Rajasthan Royals</td>\n",
       "    </tr>\n",
       "    <tr>\n",
       "      <th>27</th>\n",
       "      <td>1312200</td>\n",
       "      <td>1</td>\n",
       "      <td>4</td>\n",
       "      <td>4</td>\n",
       "      <td>SV Samson</td>\n",
       "      <td>LH Ferguson</td>\n",
       "      <td>JC Buttler</td>\n",
       "      <td>1</td>\n",
       "      <td>0</td>\n",
       "      <td>Not out</td>\n",
       "      <td>Rajasthan Royals</td>\n",
       "    </tr>\n",
       "    <tr>\n",
       "      <th>28</th>\n",
       "      <td>1312200</td>\n",
       "      <td>1</td>\n",
       "      <td>4</td>\n",
       "      <td>5</td>\n",
       "      <td>JC Buttler</td>\n",
       "      <td>LH Ferguson</td>\n",
       "      <td>SV Samson</td>\n",
       "      <td>0</td>\n",
       "      <td>0</td>\n",
       "      <td>Not out</td>\n",
       "      <td>Rajasthan Royals</td>\n",
       "    </tr>\n",
       "    <tr>\n",
       "      <th>29</th>\n",
       "      <td>1312200</td>\n",
       "      <td>1</td>\n",
       "      <td>4</td>\n",
       "      <td>6</td>\n",
       "      <td>JC Buttler</td>\n",
       "      <td>LH Ferguson</td>\n",
       "      <td>SV Samson</td>\n",
       "      <td>0</td>\n",
       "      <td>0</td>\n",
       "      <td>Not out</td>\n",
       "      <td>Rajasthan Royals</td>\n",
       "    </tr>\n",
       "    <tr>\n",
       "      <th>30</th>\n",
       "      <td>1312200</td>\n",
       "      <td>1</td>\n",
       "      <td>5</td>\n",
       "      <td>1</td>\n",
       "      <td>SV Samson</td>\n",
       "      <td>Rashid Khan</td>\n",
       "      <td>JC Buttler</td>\n",
       "      <td>4</td>\n",
       "      <td>0</td>\n",
       "      <td>Not out</td>\n",
       "      <td>Rajasthan Royals</td>\n",
       "    </tr>\n",
       "    <tr>\n",
       "      <th>31</th>\n",
       "      <td>1312200</td>\n",
       "      <td>1</td>\n",
       "      <td>5</td>\n",
       "      <td>2</td>\n",
       "      <td>SV Samson</td>\n",
       "      <td>Rashid Khan</td>\n",
       "      <td>JC Buttler</td>\n",
       "      <td>1</td>\n",
       "      <td>0</td>\n",
       "      <td>Not out</td>\n",
       "      <td>Rajasthan Royals</td>\n",
       "    </tr>\n",
       "    <tr>\n",
       "      <th>32</th>\n",
       "      <td>1312200</td>\n",
       "      <td>1</td>\n",
       "      <td>5</td>\n",
       "      <td>3</td>\n",
       "      <td>JC Buttler</td>\n",
       "      <td>Rashid Khan</td>\n",
       "      <td>SV Samson</td>\n",
       "      <td>1</td>\n",
       "      <td>0</td>\n",
       "      <td>Not out</td>\n",
       "      <td>Rajasthan Royals</td>\n",
       "    </tr>\n",
       "    <tr>\n",
       "      <th>33</th>\n",
       "      <td>1312200</td>\n",
       "      <td>1</td>\n",
       "      <td>5</td>\n",
       "      <td>4</td>\n",
       "      <td>SV Samson</td>\n",
       "      <td>Rashid Khan</td>\n",
       "      <td>JC Buttler</td>\n",
       "      <td>0</td>\n",
       "      <td>0</td>\n",
       "      <td>Not out</td>\n",
       "      <td>Rajasthan Royals</td>\n",
       "    </tr>\n",
       "    <tr>\n",
       "      <th>34</th>\n",
       "      <td>1312200</td>\n",
       "      <td>1</td>\n",
       "      <td>5</td>\n",
       "      <td>5</td>\n",
       "      <td>SV Samson</td>\n",
       "      <td>Rashid Khan</td>\n",
       "      <td>JC Buttler</td>\n",
       "      <td>1</td>\n",
       "      <td>0</td>\n",
       "      <td>Not out</td>\n",
       "      <td>Rajasthan Royals</td>\n",
       "    </tr>\n",
       "    <tr>\n",
       "      <th>35</th>\n",
       "      <td>1312200</td>\n",
       "      <td>1</td>\n",
       "      <td>5</td>\n",
       "      <td>6</td>\n",
       "      <td>JC Buttler</td>\n",
       "      <td>Rashid Khan</td>\n",
       "      <td>SV Samson</td>\n",
       "      <td>0</td>\n",
       "      <td>0</td>\n",
       "      <td>Not out</td>\n",
       "      <td>Rajasthan Royals</td>\n",
       "    </tr>\n",
       "    <tr>\n",
       "      <th>36</th>\n",
       "      <td>1312200</td>\n",
       "      <td>1</td>\n",
       "      <td>6</td>\n",
       "      <td>1</td>\n",
       "      <td>SV Samson</td>\n",
       "      <td>LH Ferguson</td>\n",
       "      <td>JC Buttler</td>\n",
       "      <td>0</td>\n",
       "      <td>0</td>\n",
       "      <td>Not out</td>\n",
       "      <td>Rajasthan Royals</td>\n",
       "    </tr>\n",
       "    <tr>\n",
       "      <th>37</th>\n",
       "      <td>1312200</td>\n",
       "      <td>1</td>\n",
       "      <td>6</td>\n",
       "      <td>2</td>\n",
       "      <td>SV Samson</td>\n",
       "      <td>LH Ferguson</td>\n",
       "      <td>JC Buttler</td>\n",
       "      <td>1</td>\n",
       "      <td>0</td>\n",
       "      <td>Not out</td>\n",
       "      <td>Rajasthan Royals</td>\n",
       "    </tr>\n",
       "    <tr>\n",
       "      <th>38</th>\n",
       "      <td>1312200</td>\n",
       "      <td>1</td>\n",
       "      <td>6</td>\n",
       "      <td>3</td>\n",
       "      <td>JC Buttler</td>\n",
       "      <td>LH Ferguson</td>\n",
       "      <td>SV Samson</td>\n",
       "      <td>0</td>\n",
       "      <td>0</td>\n",
       "      <td>Not out</td>\n",
       "      <td>Rajasthan Royals</td>\n",
       "    </tr>\n",
       "    <tr>\n",
       "      <th>39</th>\n",
       "      <td>1312200</td>\n",
       "      <td>1</td>\n",
       "      <td>6</td>\n",
       "      <td>4</td>\n",
       "      <td>JC Buttler</td>\n",
       "      <td>LH Ferguson</td>\n",
       "      <td>SV Samson</td>\n",
       "      <td>4</td>\n",
       "      <td>0</td>\n",
       "      <td>Not out</td>\n",
       "      <td>Rajasthan Royals</td>\n",
       "    </tr>\n",
       "  </tbody>\n",
       "</table>\n",
       "</div>"
      ],
      "text/plain": [
       "         ID  innings  overs  ballnumber       batter          bowler   \n",
       "0   1312200        1      0           1  YBK Jaiswal  Mohammed Shami  \\\n",
       "1   1312200        1      0           2  YBK Jaiswal  Mohammed Shami   \n",
       "2   1312200        1      0           3   JC Buttler  Mohammed Shami   \n",
       "3   1312200        1      0           4  YBK Jaiswal  Mohammed Shami   \n",
       "4   1312200        1      0           5  YBK Jaiswal  Mohammed Shami   \n",
       "5   1312200        1      0           6  YBK Jaiswal  Mohammed Shami   \n",
       "6   1312200        1      1           1   JC Buttler      Yash Dayal   \n",
       "7   1312200        1      1           2   JC Buttler      Yash Dayal   \n",
       "8   1312200        1      1           3   JC Buttler      Yash Dayal   \n",
       "9   1312200        1      1           4   JC Buttler      Yash Dayal   \n",
       "10  1312200        1      1           5   JC Buttler      Yash Dayal   \n",
       "11  1312200        1      1           6  YBK Jaiswal      Yash Dayal   \n",
       "12  1312200        1      2           1   JC Buttler  Mohammed Shami   \n",
       "13  1312200        1      2           2  YBK Jaiswal  Mohammed Shami   \n",
       "14  1312200        1      2           3  YBK Jaiswal  Mohammed Shami   \n",
       "15  1312200        1      2           4  YBK Jaiswal  Mohammed Shami   \n",
       "16  1312200        1      2           5  YBK Jaiswal  Mohammed Shami   \n",
       "17  1312200        1      2           6  YBK Jaiswal  Mohammed Shami   \n",
       "18  1312200        1      3           1  YBK Jaiswal      Yash Dayal   \n",
       "19  1312200        1      3           2   JC Buttler      Yash Dayal   \n",
       "20  1312200        1      3           3  YBK Jaiswal      Yash Dayal   \n",
       "21  1312200        1      3           4  YBK Jaiswal      Yash Dayal   \n",
       "22  1312200        1      3           5  YBK Jaiswal      Yash Dayal   \n",
       "23  1312200        1      3           6  YBK Jaiswal      Yash Dayal   \n",
       "24  1312200        1      4           1   JC Buttler     LH Ferguson   \n",
       "25  1312200        1      4           2   JC Buttler     LH Ferguson   \n",
       "26  1312200        1      4           3    SV Samson     LH Ferguson   \n",
       "27  1312200        1      4           4    SV Samson     LH Ferguson   \n",
       "28  1312200        1      4           5   JC Buttler     LH Ferguson   \n",
       "29  1312200        1      4           6   JC Buttler     LH Ferguson   \n",
       "30  1312200        1      5           1    SV Samson     Rashid Khan   \n",
       "31  1312200        1      5           2    SV Samson     Rashid Khan   \n",
       "32  1312200        1      5           3   JC Buttler     Rashid Khan   \n",
       "33  1312200        1      5           4    SV Samson     Rashid Khan   \n",
       "34  1312200        1      5           5    SV Samson     Rashid Khan   \n",
       "35  1312200        1      5           6   JC Buttler     Rashid Khan   \n",
       "36  1312200        1      6           1    SV Samson     LH Ferguson   \n",
       "37  1312200        1      6           2    SV Samson     LH Ferguson   \n",
       "38  1312200        1      6           3   JC Buttler     LH Ferguson   \n",
       "39  1312200        1      6           4   JC Buttler     LH Ferguson   \n",
       "\n",
       "    non-striker  total_run  non_boundary   player_out       BattingTeam  \n",
       "0    JC Buttler          0             0      Not out  Rajasthan Royals  \n",
       "1    JC Buttler          1             0      Not out  Rajasthan Royals  \n",
       "2   YBK Jaiswal          1             0      Not out  Rajasthan Royals  \n",
       "3    JC Buttler          0             0      Not out  Rajasthan Royals  \n",
       "4    JC Buttler          0             0      Not out  Rajasthan Royals  \n",
       "5    JC Buttler          0             0      Not out  Rajasthan Royals  \n",
       "6   YBK Jaiswal          0             0      Not out  Rajasthan Royals  \n",
       "7   YBK Jaiswal          0             0      Not out  Rajasthan Royals  \n",
       "8   YBK Jaiswal          4             0      Not out  Rajasthan Royals  \n",
       "9   YBK Jaiswal          0             0      Not out  Rajasthan Royals  \n",
       "10  YBK Jaiswal          1             0      Not out  Rajasthan Royals  \n",
       "11   JC Buttler          0             0      Not out  Rajasthan Royals  \n",
       "12  YBK Jaiswal          1             0      Not out  Rajasthan Royals  \n",
       "13   JC Buttler          0             0      Not out  Rajasthan Royals  \n",
       "14   JC Buttler          4             0      Not out  Rajasthan Royals  \n",
       "15   JC Buttler          0             0      Not out  Rajasthan Royals  \n",
       "16   JC Buttler          6             0      Not out  Rajasthan Royals  \n",
       "17   JC Buttler          3             0      Not out  Rajasthan Royals  \n",
       "18   JC Buttler          1             0      Not out  Rajasthan Royals  \n",
       "19  YBK Jaiswal          1             0      Not out  Rajasthan Royals  \n",
       "20   JC Buttler          0             0      Not out  Rajasthan Royals  \n",
       "21   JC Buttler          2             0      Not out  Rajasthan Royals  \n",
       "22   JC Buttler          6             0      Not out  Rajasthan Royals  \n",
       "23   JC Buttler          0             0  YBK Jaiswal  Rajasthan Royals  \n",
       "24    SV Samson          0             0      Not out  Rajasthan Royals  \n",
       "25    SV Samson          1             0      Not out  Rajasthan Royals  \n",
       "26   JC Buttler          4             0      Not out  Rajasthan Royals  \n",
       "27   JC Buttler          1             0      Not out  Rajasthan Royals  \n",
       "28    SV Samson          0             0      Not out  Rajasthan Royals  \n",
       "29    SV Samson          0             0      Not out  Rajasthan Royals  \n",
       "30   JC Buttler          4             0      Not out  Rajasthan Royals  \n",
       "31   JC Buttler          1             0      Not out  Rajasthan Royals  \n",
       "32    SV Samson          1             0      Not out  Rajasthan Royals  \n",
       "33   JC Buttler          0             0      Not out  Rajasthan Royals  \n",
       "34   JC Buttler          1             0      Not out  Rajasthan Royals  \n",
       "35    SV Samson          0             0      Not out  Rajasthan Royals  \n",
       "36   JC Buttler          0             0      Not out  Rajasthan Royals  \n",
       "37   JC Buttler          1             0      Not out  Rajasthan Royals  \n",
       "38    SV Samson          0             0      Not out  Rajasthan Royals  \n",
       "39    SV Samson          4             0      Not out  Rajasthan Royals  "
      ]
     },
     "execution_count": 17,
     "metadata": {},
     "output_type": "execute_result"
    }
   ],
   "source": [
    "data_ball.head(40)"
   ]
  },
  {
   "cell_type": "code",
   "execution_count": 18,
   "metadata": {},
   "outputs": [],
   "source": [
    "ID = list(data_ball['ID'].unique())"
   ]
  },
  {
   "cell_type": "code",
   "execution_count": 19,
   "metadata": {},
   "outputs": [
    {
     "name": "stdout",
     "output_type": "stream",
     "text": [
      "<class 'pandas.core.frame.DataFrame'>\n",
      "RangeIndex: 225954 entries, 0 to 225953\n",
      "Data columns (total 11 columns):\n",
      " #   Column        Non-Null Count   Dtype \n",
      "---  ------        --------------   ----- \n",
      " 0   ID            225954 non-null  int64 \n",
      " 1   innings       225954 non-null  int64 \n",
      " 2   overs         225954 non-null  int64 \n",
      " 3   ballnumber    225954 non-null  int64 \n",
      " 4   batter        225954 non-null  object\n",
      " 5   bowler        225954 non-null  object\n",
      " 6   non-striker   225954 non-null  object\n",
      " 7   total_run     225954 non-null  int64 \n",
      " 8   non_boundary  225954 non-null  int64 \n",
      " 9   player_out    225954 non-null  object\n",
      " 10  BattingTeam   225954 non-null  object\n",
      "dtypes: int64(6), object(5)\n",
      "memory usage: 19.0+ MB\n"
     ]
    }
   ],
   "source": [
    "data_ball.info()"
   ]
  },
  {
   "cell_type": "code",
   "execution_count": 20,
   "metadata": {},
<<<<<<< HEAD
   "outputs": [
    {
     "data": {
      "text/plain": [
       "total_run\n",
       "1    93861\n",
       "0    79253\n",
       "4    25828\n",
       "2    15065\n",
       "6    10603\n",
       "3      836\n",
       "5      444\n",
       "7       64\n",
       "Name: count, dtype: int64"
      ]
     },
     "execution_count": 20,
     "metadata": {},
     "output_type": "execute_result"
    }
   ],
   "source": [
    "data_ball['total_run'].value_counts()"
=======
   "outputs": [],
   "source": [
    "data_ball = data_ball.drop(data_ball.loc[data_ball['overs'] > 5].index)"
>>>>>>> a188d8bfc46d91902995e5550b38809bf41b467a
   ]
  },
  {
   "cell_type": "code",
   "execution_count": 21,
   "metadata": {},
<<<<<<< HEAD
   "outputs": [],
   "source": [
    "#data_ball = data_ball.drop(data_ball.loc[data_ball['total_run'] == 5].index)\n",
    "#data_ball = data_ball.drop(data_ball.loc[data_ball['total_run'] == 3].index)\n",
    "data_ball = data_ball.drop(data_ball.loc[data_ball['total_run'] == 7].index)"
   ]
  },
  {
   "cell_type": "code",
   "execution_count": 22,
   "metadata": {},
=======
>>>>>>> a188d8bfc46d91902995e5550b38809bf41b467a
   "outputs": [
    {
     "data": {
      "text/html": [
       "<div>\n",
       "<style scoped>\n",
       "    .dataframe tbody tr th:only-of-type {\n",
       "        vertical-align: middle;\n",
       "    }\n",
       "\n",
       "    .dataframe tbody tr th {\n",
       "        vertical-align: top;\n",
       "    }\n",
       "\n",
       "    .dataframe thead th {\n",
       "        text-align: right;\n",
       "    }\n",
       "</style>\n",
       "<table border=\"1\" class=\"dataframe\">\n",
       "  <thead>\n",
       "    <tr style=\"text-align: right;\">\n",
       "      <th></th>\n",
       "      <th>ID</th>\n",
       "      <th>innings</th>\n",
       "      <th>overs</th>\n",
       "      <th>ballnumber</th>\n",
       "      <th>batter</th>\n",
       "      <th>bowler</th>\n",
       "      <th>non-striker</th>\n",
       "      <th>total_run</th>\n",
       "      <th>non_boundary</th>\n",
       "      <th>player_out</th>\n",
       "      <th>BattingTeam</th>\n",
       "    </tr>\n",
       "  </thead>\n",
       "  <tbody>\n",
       "    <tr>\n",
       "      <th>0</th>\n",
       "      <td>1312200</td>\n",
       "      <td>1</td>\n",
       "      <td>0</td>\n",
       "      <td>1</td>\n",
       "      <td>YBK Jaiswal</td>\n",
       "      <td>Mohammed Shami</td>\n",
       "      <td>JC Buttler</td>\n",
       "      <td>0</td>\n",
       "      <td>0</td>\n",
       "      <td>Not out</td>\n",
       "      <td>Rajasthan Royals</td>\n",
       "    </tr>\n",
       "    <tr>\n",
       "      <th>1</th>\n",
       "      <td>1312200</td>\n",
       "      <td>1</td>\n",
       "      <td>0</td>\n",
       "      <td>2</td>\n",
       "      <td>YBK Jaiswal</td>\n",
       "      <td>Mohammed Shami</td>\n",
       "      <td>JC Buttler</td>\n",
       "      <td>1</td>\n",
       "      <td>0</td>\n",
       "      <td>Not out</td>\n",
       "      <td>Rajasthan Royals</td>\n",
       "    </tr>\n",
       "    <tr>\n",
       "      <th>2</th>\n",
       "      <td>1312200</td>\n",
       "      <td>1</td>\n",
       "      <td>0</td>\n",
       "      <td>3</td>\n",
       "      <td>JC Buttler</td>\n",
       "      <td>Mohammed Shami</td>\n",
       "      <td>YBK Jaiswal</td>\n",
       "      <td>1</td>\n",
       "      <td>0</td>\n",
       "      <td>Not out</td>\n",
       "      <td>Rajasthan Royals</td>\n",
       "    </tr>\n",
       "    <tr>\n",
       "      <th>3</th>\n",
       "      <td>1312200</td>\n",
       "      <td>1</td>\n",
       "      <td>0</td>\n",
       "      <td>4</td>\n",
       "      <td>YBK Jaiswal</td>\n",
       "      <td>Mohammed Shami</td>\n",
       "      <td>JC Buttler</td>\n",
       "      <td>0</td>\n",
       "      <td>0</td>\n",
       "      <td>Not out</td>\n",
       "      <td>Rajasthan Royals</td>\n",
       "    </tr>\n",
       "    <tr>\n",
       "      <th>4</th>\n",
       "      <td>1312200</td>\n",
       "      <td>1</td>\n",
       "      <td>0</td>\n",
       "      <td>5</td>\n",
       "      <td>YBK Jaiswal</td>\n",
       "      <td>Mohammed Shami</td>\n",
       "      <td>JC Buttler</td>\n",
       "      <td>0</td>\n",
       "      <td>0</td>\n",
       "      <td>Not out</td>\n",
       "      <td>Rajasthan Royals</td>\n",
       "    </tr>\n",
       "  </tbody>\n",
       "</table>\n",
       "</div>"
      ],
      "text/plain": [
       "        ID  innings  overs  ballnumber       batter          bowler   \n",
       "0  1312200        1      0           1  YBK Jaiswal  Mohammed Shami  \\\n",
       "1  1312200        1      0           2  YBK Jaiswal  Mohammed Shami   \n",
       "2  1312200        1      0           3   JC Buttler  Mohammed Shami   \n",
       "3  1312200        1      0           4  YBK Jaiswal  Mohammed Shami   \n",
       "4  1312200        1      0           5  YBK Jaiswal  Mohammed Shami   \n",
       "\n",
       "   non-striker  total_run  non_boundary player_out       BattingTeam  \n",
       "0   JC Buttler          0             0    Not out  Rajasthan Royals  \n",
       "1   JC Buttler          1             0    Not out  Rajasthan Royals  \n",
       "2  YBK Jaiswal          1             0    Not out  Rajasthan Royals  \n",
       "3   JC Buttler          0             0    Not out  Rajasthan Royals  \n",
       "4   JC Buttler          0             0    Not out  Rajasthan Royals  "
      ]
     },
<<<<<<< HEAD
     "execution_count": 22,
=======
     "execution_count": 21,
>>>>>>> a188d8bfc46d91902995e5550b38809bf41b467a
     "metadata": {},
     "output_type": "execute_result"
    }
   ],
   "source": [
    "data_ball.head()"
   ]
  },
  {
   "cell_type": "code",
<<<<<<< HEAD
   "execution_count": 23,
=======
   "execution_count": 22,
>>>>>>> a188d8bfc46d91902995e5550b38809bf41b467a
   "metadata": {},
   "outputs": [
    {
     "data": {
      "text/plain": [
       "ID              0\n",
       "innings         0\n",
       "overs           0\n",
       "ballnumber      0\n",
       "batter          0\n",
       "bowler          0\n",
       "non-striker     0\n",
       "total_run       0\n",
       "non_boundary    0\n",
       "player_out      0\n",
       "BattingTeam     0\n",
       "dtype: int64"
      ]
     },
<<<<<<< HEAD
     "execution_count": 23,
=======
     "execution_count": 22,
>>>>>>> a188d8bfc46d91902995e5550b38809bf41b467a
     "metadata": {},
     "output_type": "execute_result"
    }
   ],
   "source": [
    "data_ball.isna().sum()"
   ]
  },
  {
   "cell_type": "markdown",
   "metadata": {},
   "source": [
    "## Match Dataset Preprocessing"
   ]
  },
  {
   "cell_type": "code",
<<<<<<< HEAD
   "execution_count": 24,
=======
   "execution_count": 23,
>>>>>>> a188d8bfc46d91902995e5550b38809bf41b467a
   "metadata": {},
   "outputs": [],
   "source": [
    "winning_team=data_match[['ID','WinningTeam']]"
   ]
  },
  {
   "cell_type": "code",
<<<<<<< HEAD
   "execution_count": 25,
=======
   "execution_count": 24,
>>>>>>> a188d8bfc46d91902995e5550b38809bf41b467a
   "metadata": {},
   "outputs": [
    {
     "data": {
      "text/html": [
       "<div>\n",
       "<style scoped>\n",
       "    .dataframe tbody tr th:only-of-type {\n",
       "        vertical-align: middle;\n",
       "    }\n",
       "\n",
       "    .dataframe tbody tr th {\n",
       "        vertical-align: top;\n",
       "    }\n",
       "\n",
       "    .dataframe thead th {\n",
       "        text-align: right;\n",
       "    }\n",
       "</style>\n",
       "<table border=\"1\" class=\"dataframe\">\n",
       "  <thead>\n",
       "    <tr style=\"text-align: right;\">\n",
       "      <th></th>\n",
       "      <th>ID</th>\n",
       "      <th>WinningTeam</th>\n",
       "    </tr>\n",
       "  </thead>\n",
       "  <tbody>\n",
       "    <tr>\n",
       "      <th>0</th>\n",
       "      <td>1312200</td>\n",
       "      <td>Gujarat Titans</td>\n",
       "    </tr>\n",
       "    <tr>\n",
       "      <th>1</th>\n",
       "      <td>1312199</td>\n",
       "      <td>Rajasthan Royals</td>\n",
       "    </tr>\n",
       "    <tr>\n",
       "      <th>2</th>\n",
       "      <td>1312198</td>\n",
       "      <td>Royal Challengers Bangalore</td>\n",
       "    </tr>\n",
       "    <tr>\n",
       "      <th>3</th>\n",
       "      <td>1312197</td>\n",
       "      <td>Gujarat Titans</td>\n",
       "    </tr>\n",
       "    <tr>\n",
       "      <th>4</th>\n",
       "      <td>1304116</td>\n",
       "      <td>Punjab Kings</td>\n",
       "    </tr>\n",
       "  </tbody>\n",
       "</table>\n",
       "</div>"
      ],
      "text/plain": [
       "        ID                  WinningTeam\n",
       "0  1312200               Gujarat Titans\n",
       "1  1312199             Rajasthan Royals\n",
       "2  1312198  Royal Challengers Bangalore\n",
       "3  1312197               Gujarat Titans\n",
       "4  1304116                 Punjab Kings"
      ]
     },
<<<<<<< HEAD
     "execution_count": 25,
=======
     "execution_count": 24,
>>>>>>> a188d8bfc46d91902995e5550b38809bf41b467a
     "metadata": {},
     "output_type": "execute_result"
    }
   ],
   "source": [
    "winning_team.head()"
   ]
  },
  {
   "attachments": {},
   "cell_type": "markdown",
   "metadata": {},
   "source": [
    "## Ball dataset with winning team"
   ]
  },
  {
   "cell_type": "code",
<<<<<<< HEAD
   "execution_count": 26,
=======
   "execution_count": 25,
>>>>>>> a188d8bfc46d91902995e5550b38809bf41b467a
   "metadata": {},
   "outputs": [],
   "source": [
    "combined_data = pd.merge(data_ball, winning_team, on = 'ID')"
   ]
  },
  {
   "cell_type": "code",
<<<<<<< HEAD
   "execution_count": 27,
=======
   "execution_count": 26,
>>>>>>> a188d8bfc46d91902995e5550b38809bf41b467a
   "metadata": {},
   "outputs": [
    {
     "data": {
      "text/plain": [
       "ID                0\n",
       "innings           0\n",
       "overs             0\n",
       "ballnumber        0\n",
       "batter            0\n",
       "bowler            0\n",
       "non-striker       0\n",
       "total_run         0\n",
       "non_boundary      0\n",
       "player_out        0\n",
       "BattingTeam       0\n",
<<<<<<< HEAD
       "WinningTeam     372\n",
       "dtype: int64"
      ]
     },
     "execution_count": 27,
=======
       "WinningTeam     171\n",
       "dtype: int64"
      ]
     },
     "execution_count": 26,
>>>>>>> a188d8bfc46d91902995e5550b38809bf41b467a
     "metadata": {},
     "output_type": "execute_result"
    }
   ],
   "source": [
    "combined_data.isnull().sum()"
   ]
  },
  {
   "cell_type": "code",
<<<<<<< HEAD
   "execution_count": 28,
=======
   "execution_count": 27,
>>>>>>> a188d8bfc46d91902995e5550b38809bf41b467a
   "metadata": {},
   "outputs": [],
   "source": [
    "combined_data = combined_data.dropna()"
   ]
  },
  {
   "cell_type": "code",
<<<<<<< HEAD
   "execution_count": 29,
=======
   "execution_count": 28,
>>>>>>> a188d8bfc46d91902995e5550b38809bf41b467a
   "metadata": {},
   "outputs": [
    {
     "data": {
      "text/html": [
       "<div>\n",
       "<style scoped>\n",
       "    .dataframe tbody tr th:only-of-type {\n",
       "        vertical-align: middle;\n",
       "    }\n",
       "\n",
       "    .dataframe tbody tr th {\n",
       "        vertical-align: top;\n",
       "    }\n",
       "\n",
       "    .dataframe thead th {\n",
       "        text-align: right;\n",
       "    }\n",
       "</style>\n",
       "<table border=\"1\" class=\"dataframe\">\n",
       "  <thead>\n",
       "    <tr style=\"text-align: right;\">\n",
       "      <th></th>\n",
       "      <th>ID</th>\n",
       "      <th>innings</th>\n",
       "      <th>overs</th>\n",
       "      <th>ballnumber</th>\n",
       "      <th>batter</th>\n",
       "      <th>bowler</th>\n",
       "      <th>non-striker</th>\n",
       "      <th>total_run</th>\n",
       "      <th>non_boundary</th>\n",
       "      <th>player_out</th>\n",
       "      <th>BattingTeam</th>\n",
       "      <th>WinningTeam</th>\n",
       "    </tr>\n",
       "  </thead>\n",
       "  <tbody>\n",
       "    <tr>\n",
       "      <th>0</th>\n",
       "      <td>1312200</td>\n",
       "      <td>1</td>\n",
       "      <td>0</td>\n",
       "      <td>1</td>\n",
       "      <td>YBK Jaiswal</td>\n",
       "      <td>Mohammed Shami</td>\n",
       "      <td>JC Buttler</td>\n",
       "      <td>0</td>\n",
       "      <td>0</td>\n",
       "      <td>Not out</td>\n",
       "      <td>Rajasthan Royals</td>\n",
       "      <td>Gujarat Titans</td>\n",
       "    </tr>\n",
       "    <tr>\n",
       "      <th>1</th>\n",
       "      <td>1312200</td>\n",
       "      <td>1</td>\n",
       "      <td>0</td>\n",
       "      <td>2</td>\n",
       "      <td>YBK Jaiswal</td>\n",
       "      <td>Mohammed Shami</td>\n",
       "      <td>JC Buttler</td>\n",
       "      <td>1</td>\n",
       "      <td>0</td>\n",
       "      <td>Not out</td>\n",
       "      <td>Rajasthan Royals</td>\n",
       "      <td>Gujarat Titans</td>\n",
       "    </tr>\n",
       "    <tr>\n",
       "      <th>2</th>\n",
       "      <td>1312200</td>\n",
       "      <td>1</td>\n",
       "      <td>0</td>\n",
       "      <td>3</td>\n",
       "      <td>JC Buttler</td>\n",
       "      <td>Mohammed Shami</td>\n",
       "      <td>YBK Jaiswal</td>\n",
       "      <td>1</td>\n",
       "      <td>0</td>\n",
       "      <td>Not out</td>\n",
       "      <td>Rajasthan Royals</td>\n",
       "      <td>Gujarat Titans</td>\n",
       "    </tr>\n",
       "    <tr>\n",
       "      <th>3</th>\n",
       "      <td>1312200</td>\n",
       "      <td>1</td>\n",
       "      <td>0</td>\n",
       "      <td>4</td>\n",
       "      <td>YBK Jaiswal</td>\n",
       "      <td>Mohammed Shami</td>\n",
       "      <td>JC Buttler</td>\n",
       "      <td>0</td>\n",
       "      <td>0</td>\n",
       "      <td>Not out</td>\n",
       "      <td>Rajasthan Royals</td>\n",
       "      <td>Gujarat Titans</td>\n",
       "    </tr>\n",
       "    <tr>\n",
       "      <th>4</th>\n",
       "      <td>1312200</td>\n",
       "      <td>1</td>\n",
       "      <td>0</td>\n",
       "      <td>5</td>\n",
       "      <td>YBK Jaiswal</td>\n",
       "      <td>Mohammed Shami</td>\n",
       "      <td>JC Buttler</td>\n",
       "      <td>0</td>\n",
       "      <td>0</td>\n",
       "      <td>Not out</td>\n",
       "      <td>Rajasthan Royals</td>\n",
       "      <td>Gujarat Titans</td>\n",
       "    </tr>\n",
       "    <tr>\n",
       "      <th>5</th>\n",
       "      <td>1312200</td>\n",
       "      <td>1</td>\n",
       "      <td>0</td>\n",
       "      <td>6</td>\n",
       "      <td>YBK Jaiswal</td>\n",
       "      <td>Mohammed Shami</td>\n",
       "      <td>JC Buttler</td>\n",
       "      <td>0</td>\n",
       "      <td>0</td>\n",
       "      <td>Not out</td>\n",
       "      <td>Rajasthan Royals</td>\n",
       "      <td>Gujarat Titans</td>\n",
       "    </tr>\n",
       "    <tr>\n",
       "      <th>6</th>\n",
       "      <td>1312200</td>\n",
       "      <td>1</td>\n",
       "      <td>1</td>\n",
       "      <td>1</td>\n",
       "      <td>JC Buttler</td>\n",
       "      <td>Yash Dayal</td>\n",
       "      <td>YBK Jaiswal</td>\n",
       "      <td>0</td>\n",
       "      <td>0</td>\n",
       "      <td>Not out</td>\n",
       "      <td>Rajasthan Royals</td>\n",
       "      <td>Gujarat Titans</td>\n",
       "    </tr>\n",
       "    <tr>\n",
       "      <th>7</th>\n",
       "      <td>1312200</td>\n",
       "      <td>1</td>\n",
       "      <td>1</td>\n",
       "      <td>2</td>\n",
       "      <td>JC Buttler</td>\n",
       "      <td>Yash Dayal</td>\n",
       "      <td>YBK Jaiswal</td>\n",
       "      <td>0</td>\n",
       "      <td>0</td>\n",
       "      <td>Not out</td>\n",
       "      <td>Rajasthan Royals</td>\n",
       "      <td>Gujarat Titans</td>\n",
       "    </tr>\n",
       "    <tr>\n",
       "      <th>8</th>\n",
       "      <td>1312200</td>\n",
       "      <td>1</td>\n",
       "      <td>1</td>\n",
       "      <td>3</td>\n",
       "      <td>JC Buttler</td>\n",
       "      <td>Yash Dayal</td>\n",
       "      <td>YBK Jaiswal</td>\n",
       "      <td>4</td>\n",
       "      <td>0</td>\n",
       "      <td>Not out</td>\n",
       "      <td>Rajasthan Royals</td>\n",
       "      <td>Gujarat Titans</td>\n",
       "    </tr>\n",
       "    <tr>\n",
       "      <th>9</th>\n",
       "      <td>1312200</td>\n",
       "      <td>1</td>\n",
       "      <td>1</td>\n",
       "      <td>4</td>\n",
       "      <td>JC Buttler</td>\n",
       "      <td>Yash Dayal</td>\n",
       "      <td>YBK Jaiswal</td>\n",
       "      <td>0</td>\n",
       "      <td>0</td>\n",
       "      <td>Not out</td>\n",
       "      <td>Rajasthan Royals</td>\n",
       "      <td>Gujarat Titans</td>\n",
       "    </tr>\n",
       "    <tr>\n",
       "      <th>10</th>\n",
       "      <td>1312200</td>\n",
       "      <td>1</td>\n",
       "      <td>1</td>\n",
       "      <td>5</td>\n",
       "      <td>JC Buttler</td>\n",
       "      <td>Yash Dayal</td>\n",
       "      <td>YBK Jaiswal</td>\n",
       "      <td>1</td>\n",
       "      <td>0</td>\n",
       "      <td>Not out</td>\n",
       "      <td>Rajasthan Royals</td>\n",
       "      <td>Gujarat Titans</td>\n",
       "    </tr>\n",
       "    <tr>\n",
       "      <th>11</th>\n",
       "      <td>1312200</td>\n",
       "      <td>1</td>\n",
       "      <td>1</td>\n",
       "      <td>6</td>\n",
       "      <td>YBK Jaiswal</td>\n",
       "      <td>Yash Dayal</td>\n",
       "      <td>JC Buttler</td>\n",
       "      <td>0</td>\n",
       "      <td>0</td>\n",
       "      <td>Not out</td>\n",
       "      <td>Rajasthan Royals</td>\n",
       "      <td>Gujarat Titans</td>\n",
       "    </tr>\n",
       "    <tr>\n",
       "      <th>12</th>\n",
       "      <td>1312200</td>\n",
       "      <td>1</td>\n",
       "      <td>2</td>\n",
       "      <td>1</td>\n",
       "      <td>JC Buttler</td>\n",
       "      <td>Mohammed Shami</td>\n",
       "      <td>YBK Jaiswal</td>\n",
       "      <td>1</td>\n",
       "      <td>0</td>\n",
       "      <td>Not out</td>\n",
       "      <td>Rajasthan Royals</td>\n",
       "      <td>Gujarat Titans</td>\n",
       "    </tr>\n",
       "    <tr>\n",
       "      <th>13</th>\n",
       "      <td>1312200</td>\n",
       "      <td>1</td>\n",
       "      <td>2</td>\n",
       "      <td>2</td>\n",
       "      <td>YBK Jaiswal</td>\n",
       "      <td>Mohammed Shami</td>\n",
       "      <td>JC Buttler</td>\n",
       "      <td>0</td>\n",
       "      <td>0</td>\n",
       "      <td>Not out</td>\n",
       "      <td>Rajasthan Royals</td>\n",
       "      <td>Gujarat Titans</td>\n",
       "    </tr>\n",
       "    <tr>\n",
       "      <th>14</th>\n",
       "      <td>1312200</td>\n",
       "      <td>1</td>\n",
       "      <td>2</td>\n",
       "      <td>3</td>\n",
       "      <td>YBK Jaiswal</td>\n",
       "      <td>Mohammed Shami</td>\n",
       "      <td>JC Buttler</td>\n",
       "      <td>4</td>\n",
       "      <td>0</td>\n",
       "      <td>Not out</td>\n",
       "      <td>Rajasthan Royals</td>\n",
       "      <td>Gujarat Titans</td>\n",
       "    </tr>\n",
       "    <tr>\n",
       "      <th>15</th>\n",
       "      <td>1312200</td>\n",
       "      <td>1</td>\n",
       "      <td>2</td>\n",
       "      <td>4</td>\n",
       "      <td>YBK Jaiswal</td>\n",
       "      <td>Mohammed Shami</td>\n",
       "      <td>JC Buttler</td>\n",
       "      <td>0</td>\n",
       "      <td>0</td>\n",
       "      <td>Not out</td>\n",
       "      <td>Rajasthan Royals</td>\n",
       "      <td>Gujarat Titans</td>\n",
       "    </tr>\n",
       "    <tr>\n",
       "      <th>16</th>\n",
       "      <td>1312200</td>\n",
       "      <td>1</td>\n",
       "      <td>2</td>\n",
       "      <td>5</td>\n",
       "      <td>YBK Jaiswal</td>\n",
       "      <td>Mohammed Shami</td>\n",
       "      <td>JC Buttler</td>\n",
       "      <td>6</td>\n",
       "      <td>0</td>\n",
       "      <td>Not out</td>\n",
       "      <td>Rajasthan Royals</td>\n",
       "      <td>Gujarat Titans</td>\n",
       "    </tr>\n",
       "    <tr>\n",
       "      <th>17</th>\n",
       "      <td>1312200</td>\n",
       "      <td>1</td>\n",
       "      <td>2</td>\n",
       "      <td>6</td>\n",
       "      <td>YBK Jaiswal</td>\n",
       "      <td>Mohammed Shami</td>\n",
       "      <td>JC Buttler</td>\n",
       "      <td>3</td>\n",
       "      <td>0</td>\n",
       "      <td>Not out</td>\n",
       "      <td>Rajasthan Royals</td>\n",
       "      <td>Gujarat Titans</td>\n",
       "    </tr>\n",
       "    <tr>\n",
       "      <th>18</th>\n",
       "      <td>1312200</td>\n",
       "      <td>1</td>\n",
       "      <td>3</td>\n",
       "      <td>1</td>\n",
       "      <td>YBK Jaiswal</td>\n",
       "      <td>Yash Dayal</td>\n",
       "      <td>JC Buttler</td>\n",
       "      <td>1</td>\n",
       "      <td>0</td>\n",
       "      <td>Not out</td>\n",
       "      <td>Rajasthan Royals</td>\n",
       "      <td>Gujarat Titans</td>\n",
       "    </tr>\n",
       "    <tr>\n",
       "      <th>19</th>\n",
       "      <td>1312200</td>\n",
       "      <td>1</td>\n",
       "      <td>3</td>\n",
       "      <td>2</td>\n",
       "      <td>JC Buttler</td>\n",
       "      <td>Yash Dayal</td>\n",
       "      <td>YBK Jaiswal</td>\n",
       "      <td>1</td>\n",
       "      <td>0</td>\n",
       "      <td>Not out</td>\n",
       "      <td>Rajasthan Royals</td>\n",
       "      <td>Gujarat Titans</td>\n",
       "    </tr>\n",
       "    <tr>\n",
       "      <th>20</th>\n",
       "      <td>1312200</td>\n",
       "      <td>1</td>\n",
       "      <td>3</td>\n",
       "      <td>3</td>\n",
       "      <td>YBK Jaiswal</td>\n",
       "      <td>Yash Dayal</td>\n",
       "      <td>JC Buttler</td>\n",
       "      <td>0</td>\n",
       "      <td>0</td>\n",
       "      <td>Not out</td>\n",
       "      <td>Rajasthan Royals</td>\n",
       "      <td>Gujarat Titans</td>\n",
       "    </tr>\n",
       "    <tr>\n",
       "      <th>21</th>\n",
       "      <td>1312200</td>\n",
       "      <td>1</td>\n",
       "      <td>3</td>\n",
       "      <td>4</td>\n",
       "      <td>YBK Jaiswal</td>\n",
       "      <td>Yash Dayal</td>\n",
       "      <td>JC Buttler</td>\n",
       "      <td>2</td>\n",
       "      <td>0</td>\n",
       "      <td>Not out</td>\n",
       "      <td>Rajasthan Royals</td>\n",
       "      <td>Gujarat Titans</td>\n",
       "    </tr>\n",
       "    <tr>\n",
       "      <th>22</th>\n",
       "      <td>1312200</td>\n",
       "      <td>1</td>\n",
       "      <td>3</td>\n",
       "      <td>5</td>\n",
       "      <td>YBK Jaiswal</td>\n",
       "      <td>Yash Dayal</td>\n",
       "      <td>JC Buttler</td>\n",
       "      <td>6</td>\n",
       "      <td>0</td>\n",
       "      <td>Not out</td>\n",
       "      <td>Rajasthan Royals</td>\n",
       "      <td>Gujarat Titans</td>\n",
       "    </tr>\n",
       "    <tr>\n",
       "      <th>23</th>\n",
       "      <td>1312200</td>\n",
       "      <td>1</td>\n",
       "      <td>3</td>\n",
       "      <td>6</td>\n",
       "      <td>YBK Jaiswal</td>\n",
       "      <td>Yash Dayal</td>\n",
       "      <td>JC Buttler</td>\n",
       "      <td>0</td>\n",
       "      <td>0</td>\n",
       "      <td>YBK Jaiswal</td>\n",
       "      <td>Rajasthan Royals</td>\n",
       "      <td>Gujarat Titans</td>\n",
       "    </tr>\n",
       "    <tr>\n",
       "      <th>24</th>\n",
       "      <td>1312200</td>\n",
       "      <td>1</td>\n",
       "      <td>4</td>\n",
       "      <td>1</td>\n",
       "      <td>JC Buttler</td>\n",
       "      <td>LH Ferguson</td>\n",
       "      <td>SV Samson</td>\n",
       "      <td>0</td>\n",
       "      <td>0</td>\n",
       "      <td>Not out</td>\n",
       "      <td>Rajasthan Royals</td>\n",
       "      <td>Gujarat Titans</td>\n",
       "    </tr>\n",
       "    <tr>\n",
       "      <th>25</th>\n",
       "      <td>1312200</td>\n",
       "      <td>1</td>\n",
       "      <td>4</td>\n",
       "      <td>2</td>\n",
       "      <td>JC Buttler</td>\n",
       "      <td>LH Ferguson</td>\n",
       "      <td>SV Samson</td>\n",
       "      <td>1</td>\n",
       "      <td>0</td>\n",
       "      <td>Not out</td>\n",
       "      <td>Rajasthan Royals</td>\n",
       "      <td>Gujarat Titans</td>\n",
       "    </tr>\n",
       "    <tr>\n",
       "      <th>26</th>\n",
       "      <td>1312200</td>\n",
       "      <td>1</td>\n",
       "      <td>4</td>\n",
       "      <td>3</td>\n",
       "      <td>SV Samson</td>\n",
       "      <td>LH Ferguson</td>\n",
       "      <td>JC Buttler</td>\n",
       "      <td>4</td>\n",
       "      <td>0</td>\n",
       "      <td>Not out</td>\n",
       "      <td>Rajasthan Royals</td>\n",
       "      <td>Gujarat Titans</td>\n",
       "    </tr>\n",
       "    <tr>\n",
       "      <th>27</th>\n",
       "      <td>1312200</td>\n",
       "      <td>1</td>\n",
       "      <td>4</td>\n",
       "      <td>4</td>\n",
       "      <td>SV Samson</td>\n",
       "      <td>LH Ferguson</td>\n",
       "      <td>JC Buttler</td>\n",
       "      <td>1</td>\n",
       "      <td>0</td>\n",
       "      <td>Not out</td>\n",
       "      <td>Rajasthan Royals</td>\n",
       "      <td>Gujarat Titans</td>\n",
       "    </tr>\n",
       "    <tr>\n",
       "      <th>28</th>\n",
       "      <td>1312200</td>\n",
       "      <td>1</td>\n",
       "      <td>4</td>\n",
       "      <td>5</td>\n",
       "      <td>JC Buttler</td>\n",
       "      <td>LH Ferguson</td>\n",
       "      <td>SV Samson</td>\n",
       "      <td>0</td>\n",
       "      <td>0</td>\n",
       "      <td>Not out</td>\n",
       "      <td>Rajasthan Royals</td>\n",
       "      <td>Gujarat Titans</td>\n",
       "    </tr>\n",
       "    <tr>\n",
       "      <th>29</th>\n",
       "      <td>1312200</td>\n",
       "      <td>1</td>\n",
       "      <td>4</td>\n",
       "      <td>6</td>\n",
       "      <td>JC Buttler</td>\n",
       "      <td>LH Ferguson</td>\n",
       "      <td>SV Samson</td>\n",
       "      <td>0</td>\n",
       "      <td>0</td>\n",
       "      <td>Not out</td>\n",
       "      <td>Rajasthan Royals</td>\n",
       "      <td>Gujarat Titans</td>\n",
       "    </tr>\n",
       "  </tbody>\n",
       "</table>\n",
       "</div>"
      ],
      "text/plain": [
       "         ID  innings  overs  ballnumber       batter          bowler   \n",
       "0   1312200        1      0           1  YBK Jaiswal  Mohammed Shami  \\\n",
       "1   1312200        1      0           2  YBK Jaiswal  Mohammed Shami   \n",
       "2   1312200        1      0           3   JC Buttler  Mohammed Shami   \n",
       "3   1312200        1      0           4  YBK Jaiswal  Mohammed Shami   \n",
       "4   1312200        1      0           5  YBK Jaiswal  Mohammed Shami   \n",
       "5   1312200        1      0           6  YBK Jaiswal  Mohammed Shami   \n",
       "6   1312200        1      1           1   JC Buttler      Yash Dayal   \n",
       "7   1312200        1      1           2   JC Buttler      Yash Dayal   \n",
       "8   1312200        1      1           3   JC Buttler      Yash Dayal   \n",
       "9   1312200        1      1           4   JC Buttler      Yash Dayal   \n",
       "10  1312200        1      1           5   JC Buttler      Yash Dayal   \n",
       "11  1312200        1      1           6  YBK Jaiswal      Yash Dayal   \n",
       "12  1312200        1      2           1   JC Buttler  Mohammed Shami   \n",
       "13  1312200        1      2           2  YBK Jaiswal  Mohammed Shami   \n",
       "14  1312200        1      2           3  YBK Jaiswal  Mohammed Shami   \n",
       "15  1312200        1      2           4  YBK Jaiswal  Mohammed Shami   \n",
       "16  1312200        1      2           5  YBK Jaiswal  Mohammed Shami   \n",
       "17  1312200        1      2           6  YBK Jaiswal  Mohammed Shami   \n",
       "18  1312200        1      3           1  YBK Jaiswal      Yash Dayal   \n",
       "19  1312200        1      3           2   JC Buttler      Yash Dayal   \n",
       "20  1312200        1      3           3  YBK Jaiswal      Yash Dayal   \n",
       "21  1312200        1      3           4  YBK Jaiswal      Yash Dayal   \n",
       "22  1312200        1      3           5  YBK Jaiswal      Yash Dayal   \n",
       "23  1312200        1      3           6  YBK Jaiswal      Yash Dayal   \n",
       "24  1312200        1      4           1   JC Buttler     LH Ferguson   \n",
       "25  1312200        1      4           2   JC Buttler     LH Ferguson   \n",
       "26  1312200        1      4           3    SV Samson     LH Ferguson   \n",
       "27  1312200        1      4           4    SV Samson     LH Ferguson   \n",
       "28  1312200        1      4           5   JC Buttler     LH Ferguson   \n",
       "29  1312200        1      4           6   JC Buttler     LH Ferguson   \n",
       "\n",
       "    non-striker  total_run  non_boundary   player_out       BattingTeam   \n",
       "0    JC Buttler          0             0      Not out  Rajasthan Royals  \\\n",
       "1    JC Buttler          1             0      Not out  Rajasthan Royals   \n",
       "2   YBK Jaiswal          1             0      Not out  Rajasthan Royals   \n",
       "3    JC Buttler          0             0      Not out  Rajasthan Royals   \n",
       "4    JC Buttler          0             0      Not out  Rajasthan Royals   \n",
       "5    JC Buttler          0             0      Not out  Rajasthan Royals   \n",
       "6   YBK Jaiswal          0             0      Not out  Rajasthan Royals   \n",
       "7   YBK Jaiswal          0             0      Not out  Rajasthan Royals   \n",
       "8   YBK Jaiswal          4             0      Not out  Rajasthan Royals   \n",
       "9   YBK Jaiswal          0             0      Not out  Rajasthan Royals   \n",
       "10  YBK Jaiswal          1             0      Not out  Rajasthan Royals   \n",
       "11   JC Buttler          0             0      Not out  Rajasthan Royals   \n",
       "12  YBK Jaiswal          1             0      Not out  Rajasthan Royals   \n",
       "13   JC Buttler          0             0      Not out  Rajasthan Royals   \n",
       "14   JC Buttler          4             0      Not out  Rajasthan Royals   \n",
       "15   JC Buttler          0             0      Not out  Rajasthan Royals   \n",
       "16   JC Buttler          6             0      Not out  Rajasthan Royals   \n",
       "17   JC Buttler          3             0      Not out  Rajasthan Royals   \n",
       "18   JC Buttler          1             0      Not out  Rajasthan Royals   \n",
       "19  YBK Jaiswal          1             0      Not out  Rajasthan Royals   \n",
       "20   JC Buttler          0             0      Not out  Rajasthan Royals   \n",
       "21   JC Buttler          2             0      Not out  Rajasthan Royals   \n",
       "22   JC Buttler          6             0      Not out  Rajasthan Royals   \n",
       "23   JC Buttler          0             0  YBK Jaiswal  Rajasthan Royals   \n",
       "24    SV Samson          0             0      Not out  Rajasthan Royals   \n",
       "25    SV Samson          1             0      Not out  Rajasthan Royals   \n",
       "26   JC Buttler          4             0      Not out  Rajasthan Royals   \n",
       "27   JC Buttler          1             0      Not out  Rajasthan Royals   \n",
       "28    SV Samson          0             0      Not out  Rajasthan Royals   \n",
       "29    SV Samson          0             0      Not out  Rajasthan Royals   \n",
       "\n",
       "       WinningTeam  \n",
       "0   Gujarat Titans  \n",
       "1   Gujarat Titans  \n",
       "2   Gujarat Titans  \n",
       "3   Gujarat Titans  \n",
       "4   Gujarat Titans  \n",
       "5   Gujarat Titans  \n",
       "6   Gujarat Titans  \n",
       "7   Gujarat Titans  \n",
       "8   Gujarat Titans  \n",
       "9   Gujarat Titans  \n",
       "10  Gujarat Titans  \n",
       "11  Gujarat Titans  \n",
       "12  Gujarat Titans  \n",
       "13  Gujarat Titans  \n",
       "14  Gujarat Titans  \n",
       "15  Gujarat Titans  \n",
       "16  Gujarat Titans  \n",
       "17  Gujarat Titans  \n",
       "18  Gujarat Titans  \n",
       "19  Gujarat Titans  \n",
       "20  Gujarat Titans  \n",
       "21  Gujarat Titans  \n",
       "22  Gujarat Titans  \n",
       "23  Gujarat Titans  \n",
       "24  Gujarat Titans  \n",
       "25  Gujarat Titans  \n",
       "26  Gujarat Titans  \n",
       "27  Gujarat Titans  \n",
       "28  Gujarat Titans  \n",
       "29  Gujarat Titans  "
      ]
     },
<<<<<<< HEAD
     "execution_count": 29,
=======
     "execution_count": 28,
>>>>>>> a188d8bfc46d91902995e5550b38809bf41b467a
     "metadata": {},
     "output_type": "execute_result"
    }
   ],
   "source": [
    "combined_data.head(30)"
   ]
  },
  {
   "attachments": {},
   "cell_type": "markdown",
   "metadata": {},
   "source": [
    "## Players data preprocessing"
   ]
  },
  {
   "cell_type": "code",
<<<<<<< HEAD
   "execution_count": 30,
=======
   "execution_count": 29,
>>>>>>> a188d8bfc46d91902995e5550b38809bf41b467a
   "metadata": {},
   "outputs": [],
   "source": [
    "batter_bowler_run_data = combined_data[['batter', 'bowler', 'total_run']]"
   ]
  },
  {
   "cell_type": "code",
<<<<<<< HEAD
   "execution_count": 31,
=======
   "execution_count": 30,
>>>>>>> a188d8bfc46d91902995e5550b38809bf41b467a
   "metadata": {},
   "outputs": [
    {
     "data": {
      "text/html": [
       "<div>\n",
       "<style scoped>\n",
       "    .dataframe tbody tr th:only-of-type {\n",
       "        vertical-align: middle;\n",
       "    }\n",
       "\n",
       "    .dataframe tbody tr th {\n",
       "        vertical-align: top;\n",
       "    }\n",
       "\n",
       "    .dataframe thead th {\n",
       "        text-align: right;\n",
       "    }\n",
       "</style>\n",
       "<table border=\"1\" class=\"dataframe\">\n",
       "  <thead>\n",
       "    <tr style=\"text-align: right;\">\n",
       "      <th></th>\n",
       "      <th>batter</th>\n",
       "      <th>bowler</th>\n",
       "      <th>total_run</th>\n",
       "    </tr>\n",
       "  </thead>\n",
       "  <tbody>\n",
       "    <tr>\n",
       "      <th>0</th>\n",
       "      <td>YBK Jaiswal</td>\n",
       "      <td>Mohammed Shami</td>\n",
       "      <td>0</td>\n",
       "    </tr>\n",
       "    <tr>\n",
       "      <th>1</th>\n",
       "      <td>YBK Jaiswal</td>\n",
       "      <td>Mohammed Shami</td>\n",
       "      <td>1</td>\n",
       "    </tr>\n",
       "    <tr>\n",
       "      <th>2</th>\n",
       "      <td>JC Buttler</td>\n",
       "      <td>Mohammed Shami</td>\n",
       "      <td>1</td>\n",
       "    </tr>\n",
       "    <tr>\n",
       "      <th>3</th>\n",
       "      <td>YBK Jaiswal</td>\n",
       "      <td>Mohammed Shami</td>\n",
       "      <td>0</td>\n",
       "    </tr>\n",
       "    <tr>\n",
       "      <th>4</th>\n",
       "      <td>YBK Jaiswal</td>\n",
       "      <td>Mohammed Shami</td>\n",
       "      <td>0</td>\n",
       "    </tr>\n",
       "  </tbody>\n",
       "</table>\n",
       "</div>"
      ],
      "text/plain": [
       "        batter          bowler  total_run\n",
       "0  YBK Jaiswal  Mohammed Shami          0\n",
       "1  YBK Jaiswal  Mohammed Shami          1\n",
       "2   JC Buttler  Mohammed Shami          1\n",
       "3  YBK Jaiswal  Mohammed Shami          0\n",
       "4  YBK Jaiswal  Mohammed Shami          0"
      ]
     },
<<<<<<< HEAD
     "execution_count": 31,
=======
     "execution_count": 30,
>>>>>>> a188d8bfc46d91902995e5550b38809bf41b467a
     "metadata": {},
     "output_type": "execute_result"
    }
   ],
   "source": [
    "batter_bowler_run_data.head()"
   ]
  },
  {
   "cell_type": "code",
<<<<<<< HEAD
   "execution_count": 32,
=======
   "execution_count": 31,
>>>>>>> a188d8bfc46d91902995e5550b38809bf41b467a
   "metadata": {},
   "outputs": [
    {
     "data": {
      "text/plain": [
<<<<<<< HEAD
       "(225518, 3)"
      ]
     },
     "execution_count": 32,
=======
       "(70911, 3)"
      ]
     },
     "execution_count": 31,
>>>>>>> a188d8bfc46d91902995e5550b38809bf41b467a
     "metadata": {},
     "output_type": "execute_result"
    }
   ],
   "source": [
    "batter_bowler_run_data.shape"
   ]
  },
  {
   "cell_type": "code",
<<<<<<< HEAD
   "execution_count": 33,
=======
   "execution_count": 32,
>>>>>>> a188d8bfc46d91902995e5550b38809bf41b467a
   "metadata": {},
   "outputs": [],
   "source": [
    "X = batter_bowler_run_data.iloc[:, :-1]\n",
    "y = batter_bowler_run_data.iloc[:, -1]"
   ]
  },
  {
   "cell_type": "code",
<<<<<<< HEAD
   "execution_count": 34,
=======
   "execution_count": 33,
>>>>>>> a188d8bfc46d91902995e5550b38809bf41b467a
   "metadata": {},
   "outputs": [],
   "source": [
    "import seaborn as sns"
   ]
  },
  {
   "cell_type": "code",
<<<<<<< HEAD
=======
   "execution_count": 34,
   "metadata": {},
   "outputs": [
    {
     "data": {
      "text/plain": [
       "array([0, 1, 4, 6, 3, 2, 5, 7], dtype=int64)"
      ]
     },
     "execution_count": 34,
     "metadata": {},
     "output_type": "execute_result"
    }
   ],
   "source": [
    "y.unique()"
   ]
  },
  {
   "cell_type": "code",
>>>>>>> a188d8bfc46d91902995e5550b38809bf41b467a
   "execution_count": 35,
   "metadata": {},
   "outputs": [
    {
     "data": {
      "text/plain": [
       "<Axes: xlabel='total_run', ylabel='count'>"
      ]
     },
     "execution_count": 35,
     "metadata": {},
     "output_type": "execute_result"
    },
    {
     "data": {
<<<<<<< HEAD
      "image/png": "iVBORw0KGgoAAAANSUhEUgAAAk0AAAGxCAYAAAB/QoKnAAAAOXRFWHRTb2Z0d2FyZQBNYXRwbG90bGliIHZlcnNpb24zLjcuMSwgaHR0cHM6Ly9tYXRwbG90bGliLm9yZy/bCgiHAAAACXBIWXMAAA9hAAAPYQGoP6dpAAAq9ElEQVR4nO3de1RVdf7/8dcB5OIFvHIbUZnJr8qImqCITtYYSyqn9fWbU9owEyljk4GFlLcy1Mai7GupaZBNprPKlTqztNJCWZjYGN4wS03pMvbFRg/aKBylFITz+6Nh/zyi+YmwfdDnY62zluz9Oee8z14z+Wyfzc7hdrvdAgAAwPfysXsAAACA5oBoAgAAMEA0AQAAGCCaAAAADBBNAAAABogmAAAAA0QTAACAAaIJAADAgJ/dA1wt6urqdOTIEbVp00YOh8PucQAAgAG3261Tp04pMjJSPj7ffy6JaGoiR44cUVRUlN1jAACARjh8+LA6d+78vWuIpibSpk0bSd8d9ODgYJunAQAAJlwul6Kioqy/x78P0dRE6r+SCw4OJpoAAGhmTC6t4UJwAAAAA0QTAACAAaIJAADAANEEAABggGgCAAAwQDQBAAAYIJoAAAAMEE0AAAAGiCYAAAADRBMAAIABogkAAMAA0QQAAGCAaAIAADBANAEAABggmgAAAAz42T0AUPZErN0jXHFdsvfaPQIA4EfiTBMAAIABogkAAMAA0QQAAGCAaAIAADBANAEAABggmgAAAAwQTQAAAAaIJgAAAANEEwAAgAGiCQAAwADRBAAAYIBoAgAAMEA0AQAAGCCaAAAADBBNAAAABogmAAAAA0QTAACAAaIJAADAANEEAABggGgCAAAwQDQBAAAYIJoAAAAMEE0AAAAGiCYAAAADRBMAAIABogkAAMAA0QQAAGCAaAIAADBANAEAABggmgAAAAwQTQAAAAaIJgAAAANEEwAAgAGiCQAAwADRBAAAYIBoAgAAMEA0AQAAGCCaAAAADBBNAAAABogmAAAAA0QTAACAAaIJAADAANEEAABggGgCAAAwQDQBAAAYIJoAAAAM2BpNtbW1evzxxxUdHa2goCD94he/0J///Ge53W5rjdvtVnZ2tiIiIhQUFKSkpCR99tlnHq9z4sQJpaSkKDg4WG3btlVaWppOnz7tsebjjz/WDTfcoMDAQEVFRWnu3LkN5lm9erV69uypwMBAxcbG6p133rkyHxwAADQ7tkbTM888o9zcXC1atEgHDhzQM888o7lz5+qFF16w1sydO1cLFy5UXl6etm/frlatWik5OVlnzpyx1qSkpGj//v0qKCjQunXrtGXLFt13333WfpfLpeHDh6tr164qKSnRs88+q1mzZmnJkiXWmg8++EB333230tLS9OGHH2rkyJEaOXKk9u3b99McDAAA4NUc7vNP6/zEfvOb3ygsLEyvvPKKtW3UqFEKCgrSa6+9JrfbrcjISD388MN65JFHJEmVlZUKCwvTsmXLNGbMGB04cEAxMTHauXOn4uPjJUn5+fm67bbb9NVXXykyMlK5ubl67LHH5HQ65e/vL0maNm2a1q5dq4MHD0qSRo8eraqqKq1bt86aZdCgQerXr5/y8vIu+1lcLpdCQkJUWVmp4ODgJjtG14KyJ2LtHuGK65K91+4RAAAX8UP+/rb1TNPgwYNVWFioTz/9VJL00Ucf6R//+IduvfVWSdKhQ4fkdDqVlJRkPSckJEQJCQkqLi6WJBUXF6tt27ZWMElSUlKSfHx8tH37dmvN0KFDrWCSpOTkZJWWlurkyZPWmvPfp35N/ftc6OzZs3K5XB4PAABw9fKz882nTZsml8ulnj17ytfXV7W1tXryySeVkpIiSXI6nZKksLAwj+eFhYVZ+5xOp0JDQz32+/n5qX379h5roqOjG7xG/b527drJ6XR+7/tcKCcnR7Nnz27MxwYAAM2QrWeaVq1apddff10rVqzQ7t27tXz5cv3v//6vli9fbudYRqZPn67KykrrcfjwYbtHAgAAV5CtZ5omT56sadOmacyYMZKk2NhY/d///Z9ycnKUmpqq8PBwSVJ5ebkiIiKs55WXl6tfv36SpPDwcB07dszjdc+dO6cTJ05Yzw8PD1d5ebnHmvqfL7emfv+FAgICFBAQ0JiPDQAAmiFbo+mbb76Rj4/nyS5fX1/V1dVJkqKjoxUeHq7CwkIrklwul7Zv364JEyZIkhITE1VRUaGSkhLFxcVJkjZt2qS6ujolJCRYax577DHV1NSoRYsWkqSCggL16NFD7dq1s9YUFhYqMzPTmqWgoECJiYlN8lnjJv+1SV7Hm5U8e4/dIwAAcMXY+vXc7bffrieffFLr16/Xl19+qTVr1ui5557T//zP/0iSHA6HMjMzNWfOHL311lvau3ev7rnnHkVGRmrkyJGSpF69eumWW27R+PHjtWPHDm3dulUZGRkaM2aMIiMjJUm/+93v5O/vr7S0NO3fv18rV67UggULlJWVZc3y0EMPKT8/X/PmzdPBgwc1a9Ys7dq1SxkZGT/5cQEAAN7H1jNNL7zwgh5//HE98MADOnbsmCIjI/WnP/1J2dnZ1popU6aoqqpK9913nyoqKvSrX/1K+fn5CgwMtNa8/vrrysjI0M033ywfHx+NGjVKCxcutPaHhIRo48aNSk9PV1xcnDp27Kjs7GyPezkNHjxYK1as0IwZM/Too4+qe/fuWrt2rXr37v3THAwAAODVbL1P09Xkcvd54Ou5S+M+TQAAuzSb+zQBAAA0F0QTAACAAaIJAADAANEEAABggGgCAAAwQDQBAAAYIJoAAAAMEE0AAAAGiCYAAAADRBMAAIABogkAAMAA0QQAAGCAaAIAADBANAEAABggmgAAAAwQTQAAAAaIJgAAAANEEwAAgAGiCQAAwADRBAAAYIBoAgAAMEA0AQAAGCCaAAAADBBNAAAABogmAAAAA0QTAACAAaIJAADAANEEAABggGgCAAAwQDQBAAAYIJoAAAAMEE0AAAAGiCYAAAADRBMAAIABogkAAMAA0QQAAGCAaAIAADBANAEAABggmgAAAAwQTQAAAAaIJgAAAANEEwAAgAGiCQAAwADRBAAAYIBoAgAAMEA0AQAAGCCaAAAADBBNAAAABogmAAAAA0QTAACAAaIJAADAANEEAABggGgCAAAwQDQBAAAYIJoAAAAMEE0AAAAGiCYAAAADRBMAAIABogkAAMAA0QQAAGCAaAIAADBANAEAABggmgAAAAwQTQAAAAZsj6Z//etf+v3vf68OHTooKChIsbGx2rVrl7Xf7XYrOztbERERCgoKUlJSkj777DOP1zhx4oRSUlIUHBystm3bKi0tTadPn/ZY8/HHH+uGG25QYGCgoqKiNHfu3AazrF69Wj179lRgYKBiY2P1zjvvXJkPDQAAmh1bo+nkyZMaMmSIWrRooXfffVeffPKJ5s2bp3bt2llr5s6dq4ULFyovL0/bt29Xq1atlJycrDNnzlhrUlJStH//fhUUFGjdunXasmWL7rvvPmu/y+XS8OHD1bVrV5WUlOjZZ5/VrFmztGTJEmvNBx98oLvvvltpaWn68MMPNXLkSI0cOVL79u37aQ4GAADwag632+22682nTZumrVu36v3337/ofrfbrcjISD388MN65JFHJEmVlZUKCwvTsmXLNGbMGB04cEAxMTHauXOn4uPjJUn5+fm67bbb9NVXXykyMlK5ubl67LHH5HQ65e/vb7332rVrdfDgQUnS6NGjVVVVpXXr1lnvP2jQIPXr1095eXmX/Swul0shISGqrKxUcHBwg/1xk//6ww5OM1Ty7D2Nel7ZE7FNPIn36ZK91+4RAAAXcbm/v89n65mmt956S/Hx8brzzjsVGhqq66+/Xi+//LK1/9ChQ3I6nUpKSrK2hYSEKCEhQcXFxZKk4uJitW3b1gomSUpKSpKPj4+2b99urRk6dKgVTJKUnJys0tJSnTx50lpz/vvUr6l/nwudPXtWLpfL4wEAAK5etkbTP//5T+Xm5qp79+7asGGDJkyYoAcffFDLly+XJDmdTklSWFiYx/PCwsKsfU6nU6GhoR77/fz81L59e481F3uN89/jUmvq918oJydHISEh1iMqKuoHf34AANB82BpNdXV16t+/v5566ildf/31uu+++zR+/Hijr8PsNn36dFVWVlqPw4cP2z0SAAC4gmyNpoiICMXExHhs69Wrl8rKyiRJ4eHhkqTy8nKPNeXl5da+8PBwHTt2zGP/uXPndOLECY81F3uN89/jUmvq918oICBAwcHBHg8AAHD1sjWahgwZotLSUo9tn376qbp27SpJio6OVnh4uAoLC639LpdL27dvV2JioiQpMTFRFRUVKikpsdZs2rRJdXV1SkhIsNZs2bJFNTU11pqCggL16NHD+k29xMREj/epX1P/PgAA4NpmazRNmjRJ27Zt01NPPaXPP/9cK1as0JIlS5Seni5JcjgcyszM1Jw5c/TWW29p7969uueeexQZGamRI0dK+u7M1C233KLx48drx44d2rp1qzIyMjRmzBhFRkZKkn73u9/J399faWlp2r9/v1auXKkFCxYoKyvLmuWhhx5Sfn6+5s2bp4MHD2rWrFnatWuXMjIyfvLjAgAAvI+fnW8+YMAArVmzRtOnT9cTTzyh6OhozZ8/XykpKdaaKVOmqKqqSvfdd58qKir0q1/9Svn5+QoMDLTWvP7668rIyNDNN98sHx8fjRo1SgsXLrT2h4SEaOPGjUpPT1dcXJw6duyo7Oxsj3s5DR48WCtWrNCMGTP06KOPqnv37lq7dq169+790xwMAADg1Wy9T9PVhPs0cZ+m78N9mgDAOzWb+zQBAAA0F0QTAACAAaIJAADAANEEAABggGgCAAAwQDQBAAAYIJoAAAAMEE0AAAAGiCYAAAADRBMAAIABogkAAMAA0QQAAGCAaAIAADBANAEAABggmgAAAAwQTQAAAAYaFU3Dhg1TRUVFg+0ul0vDhg37sTMBAAB4nUZF0+bNm1VdXd1g+5kzZ/T+++//6KEAAAC8jd8PWfzxxx9bf/7kk0/kdDqtn2tra5Wfn6+f/exnTTcdAACAl/hB0dSvXz85HA45HI6Lfg0XFBSkF154ocmGAwAA8BY/KJoOHTokt9utn//859qxY4c6depk7fP391doaKh8fX2bfEgAAAC7/aBo6tq1qySprq7uigwDAADgrX5QNJ3vs88+03vvvadjx441iKjs7OwfPRgAAIA3aVQ0vfzyy5owYYI6duyo8PBwORwOa5/D4SCaAADAVadR0TRnzhw9+eSTmjp1alPPAwAA4JUadZ+mkydP6s4772zqWQAAALxWo6Lpzjvv1MaNG5t6FgAAAK/VqK/nrrvuOj3++OPatm2bYmNj1aJFC4/9Dz74YJMMBwAA4C0aFU1LlixR69atVVRUpKKiIo99DoeDaAIAAFedRkXToUOHmnoOAAAAr9aoa5oAAACuNY060zRu3Ljv3b906dJGDQMAAOCtGhVNJ0+e9Pi5pqZG+/btU0VFxUX/Q74AAADNXaOiac2aNQ221dXVacKECfrFL37xo4cCAADwNk12TZOPj4+ysrL0/PPPN9VLAgAAeI0mvRD8iy++0Llz55ryJQEAALxCo76ey8rK8vjZ7Xbr6NGjWr9+vVJTU5tkMAAAAG/SqGj68MMPPX728fFRp06dNG/evMv+Zh0AAEBz1Khoeu+995p6DgAAAK/WqGiqd/z4cZWWlkqSevTooU6dOjXJUAAAAN6mUReCV1VVady4cYqIiNDQoUM1dOhQRUZGKi0tTd98801TzwgAAGC7RkVTVlaWioqK9Pbbb6uiokIVFRV68803VVRUpIcffripZwQAALBdo76e+/vf/66//e1vuummm6xtt912m4KCgnTXXXcpNze3qeYDAADwCo060/TNN98oLCyswfbQ0FC+ngMAAFelRkVTYmKiZs6cqTNnzljbvv32W82ePVuJiYlNNhwAAIC3aNTXc/Pnz9ctt9yizp07q2/fvpKkjz76SAEBAdq4cWOTDggAAOANGhVNsbGx+uyzz/T666/r4MGDkqS7775bKSkpCgoKatIBAQAAvEGjoiknJ0dhYWEaP368x/alS5fq+PHjmjp1apMMBwAA4C0adU3TSy+9pJ49ezbY/stf/lJ5eXk/eigAAABv06hocjqdioiIaLC9U6dOOnr06I8eCgAAwNs0KpqioqK0devWBtu3bt2qyMjIHz0UAACAt2nUNU3jx49XZmamampqNGzYMElSYWGhpkyZwh3BAQDAValR0TR58mT9+9//1gMPPKDq6mpJUmBgoKZOnarp06c36YAAAADeoFHR5HA49Mwzz+jxxx/XgQMHFBQUpO7duysgIKCp5wMAAPAKjYqmeq1bt9aAAQOaahYAAACv1agLwQEAAK41RBMAAIABogkAAMAA0QQAAGCAaAIAADBANAEAABggmgAAAAwQTQAAAAaIJgAAAANeE01PP/20HA6HMjMzrW1nzpxRenq6OnTooNatW2vUqFEqLy/3eF5ZWZlGjBihli1bKjQ0VJMnT9a5c+c81mzevFn9+/dXQECArrvuOi1btqzB+y9evFjdunVTYGCgEhIStGPHjivxMQEAQDPlFdG0c+dOvfTSS+rTp4/H9kmTJuntt9/W6tWrVVRUpCNHjuiOO+6w9tfW1mrEiBGqrq7WBx98oOXLl2vZsmXKzs621hw6dEgjRozQr3/9a+3Zs0eZmZn64x//qA0bNlhrVq5cqaysLM2cOVO7d+9W3759lZycrGPHjl35Dw8AAJoF26Pp9OnTSklJ0csvv6x27dpZ2ysrK/XKK6/oueee07BhwxQXF6dXX31VH3zwgbZt2yZJ2rhxoz755BO99tpr6tevn2699Vb9+c9/1uLFi1VdXS1JysvLU3R0tObNm6devXopIyNDv/3tb/X8889b7/Xcc89p/PjxGjt2rGJiYpSXl6eWLVtq6dKlP+3BAAAAXsv2aEpPT9eIESOUlJTksb2kpEQ1NTUe23v27KkuXbqouLhYklRcXKzY2FiFhYVZa5KTk+VyubR//35rzYWvnZycbL1GdXW1SkpKPNb4+PgoKSnJWnMxZ8+elcvl8ngAAICrl5+db/7GG29o9+7d2rlzZ4N9TqdT/v7+atu2rcf2sLAwOZ1Oa835wVS/v37f961xuVz69ttvdfLkSdXW1l50zcGDBy85e05OjmbPnm32QQEAQLNn25mmw4cP66GHHtLrr7+uwMBAu8ZotOnTp6uystJ6HD582O6RAADAFWRbNJWUlOjYsWPq37+//Pz85Ofnp6KiIi1cuFB+fn4KCwtTdXW1KioqPJ5XXl6u8PBwSVJ4eHiD36ar//lya4KDgxUUFKSOHTvK19f3omvqX+NiAgICFBwc7PEAAABXL9ui6eabb9bevXu1Z88e6xEfH6+UlBTrzy1atFBhYaH1nNLSUpWVlSkxMVGSlJiYqL1793r8lltBQYGCg4MVExNjrTn/NerX1L+Gv7+/4uLiPNbU1dWpsLDQWgMAAGDbNU1t2rRR7969Pba1atVKHTp0sLanpaUpKytL7du3V3BwsCZOnKjExEQNGjRIkjR8+HDFxMToD3/4g+bOnSun06kZM2YoPT1dAQEBkqT7779fixYt0pQpUzRu3Dht2rRJq1at0vr16633zcrKUmpqquLj4zVw4EDNnz9fVVVVGjt27E90NAAAgLez9ULwy3n++efl4+OjUaNG6ezZs0pOTtaLL75o7ff19dW6des0YcIEJSYmqlWrVkpNTdUTTzxhrYmOjtb69es1adIkLViwQJ07d9Zf/vIXJScnW2tGjx6t48ePKzs7W06nU/369VN+fn6Di8MBAMC1y+F2u912D3E1cLlcCgkJUWVl5UWvb4qb/FcbpvpplTx7T6OeV/ZEbBNP4n26ZO+1ewQAwEVc7u/v89l+nyYAAIDmgGgCAAAwQDQBAAAYIJoAAAAMEE0AAAAGiCYAAAADRBMAAIABogkAAMAA0QQAAGCAaAIAADBANAEAABggmgAAAAwQTQAAAAaIJgAAAANEEwAAgAGiCQAAwADRBAAAYIBoAgAAMEA0AQAAGCCaAAAADBBNAAAABogmAAAAA0QTAACAAaIJAADAANEEAABggGgCAAAwQDQBAAAYIJoAAAAMEE0AAAAGiCYAAAADRBMAAIABogkAAMAA0QQAAGCAaAIAADBANAEAABggmgAAAAwQTQAAAAaIJgAAAANEEwAAgAGiCQAAwADRBAAAYIBoAgAAMEA0AQAAGCCaAAAADBBNAAAABogmAAAAA0QTAACAAT+7BwAANK1FD79t9whXVMa82+0eAdcozjQBAAAYIJoAAAAMEE0AAAAGiCYAAAADRBMAAIABogkAAMAA0QQAAGCAaAIAADBANAEAABggmgAAAAwQTQAAAAaIJgAAAANEEwAAgAGiCQAAwADRBAAAYIBoAgAAMGBrNOXk5GjAgAFq06aNQkNDNXLkSJWWlnqsOXPmjNLT09WhQwe1bt1ao0aNUnl5uceasrIyjRgxQi1btlRoaKgmT56sc+fOeazZvHmz+vfvr4CAAF133XVatmxZg3kWL16sbt26KTAwUAkJCdqxY0eTf2YAANA82RpNRUVFSk9P17Zt21RQUKCamhoNHz5cVVVV1ppJkybp7bff1urVq1VUVKQjR47ojjvusPbX1tZqxIgRqq6u1gcffKDly5dr2bJlys7OttYcOnRII0aM0K9//Wvt2bNHmZmZ+uMf/6gNGzZYa1auXKmsrCzNnDlTu3fvVt++fZWcnKxjx479NAcDAAB4NYfb7XbbPUS948ePKzQ0VEVFRRo6dKgqKyvVqVMnrVixQr/97W8lSQcPHlSvXr1UXFysQYMG6d1339VvfvMbHTlyRGFhYZKkvLw8TZ06VcePH5e/v7+mTp2q9evXa9++fdZ7jRkzRhUVFcrPz5ckJSQkaMCAAVq0aJEkqa6uTlFRUZo4caKmTZt22dldLpdCQkJUWVmp4ODgBvvjJv/1Rx8fb1fy7D2Nel7ZE7FNPIn36ZK91+4RcA1Z9PDbdo9wRWXMu93uEXAVudzf3+fzqmuaKisrJUnt27eXJJWUlKimpkZJSUnWmp49e6pLly4qLi6WJBUXFys2NtYKJklKTk6Wy+XS/v37rTXnv0b9mvrXqK6uVklJiccaHx8fJSUlWWsudPbsWblcLo8HAAC4enlNNNXV1SkzM1NDhgxR7969JUlOp1P+/v5q27atx9qwsDA5nU5rzfnBVL+/ft/3rXG5XPr222/19ddfq7a29qJr6l/jQjk5OQoJCbEeUVFRjfvgAACgWfCaaEpPT9e+ffv0xhtv2D2KkenTp6uystJ6HD582O6RAADAFeRn9wCSlJGRoXXr1mnLli3q3LmztT08PFzV1dWqqKjwONtUXl6u8PBwa82Fv+VW/9t156+58DfuysvLFRwcrKCgIPn6+srX1/eia+pf40IBAQEKCAho3AcGAADNjq1nmtxutzIyMrRmzRpt2rRJ0dHRHvvj4uLUokULFRYWWttKS0tVVlamxMRESVJiYqL27t3r8VtuBQUFCg4OVkxMjLXm/NeoX1P/Gv7+/oqLi/NYU1dXp8LCQmsNAAC4ttl6pik9PV0rVqzQm2++qTZt2ljXD4WEhCgoKEghISFKS0tTVlaW2rdvr+DgYE2cOFGJiYkaNGiQJGn48OGKiYnRH/7wB82dO1dOp1MzZsxQenq6dSbo/vvv16JFizRlyhSNGzdOmzZt0qpVq7R+/XprlqysLKWmpio+Pl4DBw7U/PnzVVVVpbFjx/70BwYAAHgdW6MpNzdXknTTTTd5bH/11Vd17733SpKef/55+fj4aNSoUTp79qySk5P14osvWmt9fX21bt06TZgwQYmJiWrVqpVSU1P1xBNPWGuio6O1fv16TZo0SQsWLFDnzp31l7/8RcnJydaa0aNH6/jx48rOzpbT6VS/fv2Un5/f4OJwAABwbfKq+zQ1Z9ynifs0fR/u04SfEvdpAsw12/s0AQAAeCuiCQAAwADRBAAAYIBoAgAAMEA0AQAAGCCaAAAADBBNAAAABogmAAAAA0QTAACAAaIJAADAANEEAABggGgCAAAw4Gf3AAAubcgLQ+we4YrbOnGr3SMAgBHONAEAABggmgAAAAwQTQAAAAaIJgAAAANEEwAAgAGiCQAAwADRBAAAYIBoAgAAMEA0AQAAGCCaAAAADBBNAAAABogmAAAAA0QTAACAAaIJAADAANEEAABggGgCAAAw4Gf3AAAAwF4Hntxk9whXXK/Hhv3o1+BMEwAAgAGiCQAAwADRBAAAYIBoAgAAMEA0AQAAGCCaAAAADBBNAAAABogmAAAAA0QTAACAAaIJAADAANEEAABggGgCAAAwQDQBAAAYIJoAAAAMEE0AAAAGiCYAAAADRBMAAIABogkAAMAA0QQAAGCAaAIAADBANAEAABggmgAAAAwQTQAAAAaIJgAAAANEEwAAgAGiCQAAwADRBAAAYIBoAgAAMEA0AQAAGCCaAAAADBBNAAAABogmAAAAA0QTAACAAaIJAADAANF0gcWLF6tbt24KDAxUQkKCduzYYfdIAADAC/jZPYA3WblypbKyspSXl6eEhATNnz9fycnJKi0tVWhoqN3jAThP0dAb7R7hirpxS5HdIwC4AGeazvPcc89p/PjxGjt2rGJiYpSXl6eWLVtq6dKldo8GAABsxpmm/6iurlZJSYmmT59ubfPx8VFSUpKKi4ttnAwA0FSe/P1v7R7hinrstb/ZPcJVjWj6j6+//lq1tbUKCwvz2B4WFqaDBw82WH/27FmdPXvW+rmyslKS5HK5Lvr6tWe/bcJpvdOlPvvlnDpT28STeJ/GHptz355r4km8T2OPTdW5q/vYNPa4SNK3Z79pwkm8z485NmdqappwEu/T2GNz+kxVE0/ifS51bOq3u93uy74G0dRIOTk5mj17doPtUVFRNkzjHUJeuN/uEbxXTojdE3itkKkcm4sK4bhcypTFdk/gveas4n83lzTn+3efOnVKIZf5/x3R9B8dO3aUr6+vysvLPbaXl5crPDy8wfrp06crKyvL+rmurk4nTpxQhw4d5HA4rvi8l+NyuRQVFaXDhw8rODjY7nG8Bsfl0jg2l8axuTSOzaVxbC7Nm46N2+3WqVOnFBkZedm1RNN/+Pv7Ky4uToWFhRo5cqSk70KosLBQGRkZDdYHBAQoICDAY1vbtm1/gkl/mODgYNv/B+mNOC6XxrG5NI7NpXFsLo1jc2necmwud4apHtF0nqysLKWmpio+Pl4DBw7U/PnzVVVVpbFjx9o9GgAAsBnRdJ7Ro0fr+PHjys7OltPpVL9+/ZSfn9/g4nAAAHDtIZoukJGRcdGv45qbgIAAzZw5s8FXiNc6jsulcWwujWNzaRybS+PYXFpzPTYOt8nv2AEAAFzjuCM4AACAAaIJAADAANEEAABggGi6Ci1evFjdunVTYGCgEhIStGPHDrtH8gpbtmzR7bffrsjISDkcDq1du9bukbxCTk6OBgwYoDZt2ig0NFQjR45UaWmp3WN5hdzcXPXp08e6l0xiYqLeffddu8fyOk8//bQcDocyMzPtHsUrzJo1Sw6Hw+PRs2dPu8fyCv/617/0+9//Xh06dFBQUJBiY2O1a9cuu8cyRjRdZVauXKmsrCzNnDlTu3fvVt++fZWcnKxjx47ZPZrtqqqq1LdvXy1ezH+D4XxFRUVKT0/Xtm3bVFBQoJqaGg0fPlxVVVf/f4vqcjp37qynn35aJSUl2rVrl4YNG6b//u//1v79++0ezWvs3LlTL730kvr06WP3KF7ll7/8pY4ePWo9/vGPf9g9ku1OnjypIUOGqEWLFnr33Xf1ySefaN68eWrXrp3doxnjt+euMgkJCRowYIAWLVok6bu7mkdFRWnixImaNm2azdN5D4fDoTVr1lh3f8f/d/z4cYWGhqqoqEhDhw61exyv0759ez377LNKS0uzexTbnT59Wv3799eLL76oOXPmqF+/fpo/f77dY9lu1qxZWrt2rfbs2WP3KF5l2rRp2rp1q95//327R2k0zjRdRaqrq1VSUqKkpCRrm4+Pj5KSklRcXGzjZGhOKisrJX0XB/j/amtr9cYbb6iqqkqJiYl2j+MV0tPTNWLECI9/5uA7n332mSIjI/Xzn/9cKSkpKisrs3sk27311luKj4/XnXfeqdDQUF1//fV6+eWX7R7rByGariJff/21amtrG9zBPCwsTE6n06ap0JzU1dUpMzNTQ4YMUe/eve0exyvs3btXrVu3VkBAgO6//36tWbNGMTExdo9luzfeeEO7d+9WTk6O3aN4nYSEBC1btkz5+fnKzc3VoUOHdMMNN+jUqVN2j2arf/7zn8rNzVX37t21YcMGTZgwQQ8++KCWL19u92jGuCM4AEt6err27dvH9Rfn6dGjh/bs2aPKykr97W9/U2pqqoqKiq7pcDp8+LAeeughFRQUKDAw0O5xvM6tt95q/blPnz5KSEhQ165dtWrVqmv6a926ujrFx8frqaeekiRdf/312rdvn/Ly8pSammrzdGY403QV6dixo3x9fVVeXu6xvby8XOHh4TZNheYiIyND69at03vvvafOnTvbPY7X8Pf313XXXae4uDjl5OSob9++WrBggd1j2aqkpETHjh1T//795efnJz8/PxUVFWnhwoXy8/NTbW2t3SN6lbZt2+q//uu/9Pnnn9s9iq0iIiIa/MtGr169mtVXl0TTVcTf319xcXEqLCy0ttXV1amwsJBrMHBJbrdbGRkZWrNmjTZt2qTo6Gi7R/JqdXV1Onv2rN1j2Ormm2/W3r17tWfPHusRHx+vlJQU7dmzR76+vnaP6FVOnz6tL774QhEREXaPYqshQ4Y0uJ3Jp59+qq5du9o00Q/H13NXmaysLKWmpio+Pl4DBw7U/PnzVVVVpbFjx9o9mu1Onz7t8W96hw4d0p49e9S+fXt16dLFxsnslZ6erhUrVujNN99UmzZtrOvfQkJCFBQUZPN09po+fbpuvfVWdenSRadOndKKFSu0efNmbdiwwe7RbNWmTZsG17y1atVKHTp04Fo4SY888ohuv/12de3aVUeOHNHMmTPl6+uru+++2+7RbDVp0iQNHjxYTz31lO666y7t2LFDS5Ys0ZIlS+wezZwbV50XXnjB3aVLF7e/v7974MCB7m3bttk9kld477333JIaPFJTU+0ezVYXOyaS3K+++qrdo9lu3Lhx7q5du7r9/f3dnTp1ct98883ujRs32j2WV7rxxhvdDz30kN1jeIXRo0e7IyIi3P7+/u6f/exn7tGjR7s///xzu8fyCm+//ba7d+/e7oCAAHfPnj3dS5YssXukH4T7NAEAABjgmiYAAAADRBMAAIABogkAAMAA0QQAAGCAaAIAADBANAEAABggmgAAAAwQTQAAAAaIJgC4hHvvvVcjR460ewwAXoJoAtCs3HTTTcrMzLzizwGACxFNAHAFVFdX2z0CgCZGNAFoNu69914VFRVpwYIFcjgccjgc+vLLL1VUVKSBAwcqICBAERERmjZtms6dO/e9z6mtrVVaWpqio6MVFBSkHj16aMGCBY2e7aabblJGRoYyMzPVsWNHJScn68svv5TD4dCePXusdRUVFXI4HNq8ebMkafPmzXI4HCosLFR8fLxatmypwYMHq7S09MccKgBXANEEoNlYsGCBEhMTNX78eB09elRHjx5VixYtdNttt2nAgAH66KOPlJubq1deeUVz5sy55HOioqJUV1enzp07a/Xq1frkk0+UnZ2tRx99VKtWrWr0fMuXL5e/v7+2bt2qvLy8H/Tcxx57TPPmzdOuXbvk5+encePGNXoOAFeGn90DAICpkJAQ+fv7q2XLlgoPD5f0XWxERUVp0aJFcjgc6tmzp44cOaKpU6cqOzv7os+RJF9fX82ePdv6OTo6WsXFxVq1apXuuuuuRs3XvXt3zZ071/r5yy+/NH7uk08+qRtvvFGSNG3aNI0YMUJnzpxRYGBgo2YB0PQ40wSgWTtw4IASExPlcDisbUOGDNHp06f11Vdffe9zFy9erLi4OHXq1EmtW7fWkiVLVFZW1uhZ4uLiGv3cPn36WH+OiIiQJB07dqzRrweg6RFNAK5Jb7zxhh555BGlpaVp48aN2rNnj8aOHfujLuBu1aqVx88+Pt/9I9btdlvbampqLvrcFi1aWH+uD8C6urpGzwKg6fH1HIBmxd/fX7W1tdbPvXr10t///ne53W4rNrZu3ao2bdqoc+fOF31O/ZrBgwfrgQcesLZ98cUXTTprp06dJElHjx7V9ddfL0keF4UDaF440wSgWenWrZu2b9+uL7/8Ul9//bUeeOABHT58WBMnTtTBgwf15ptvaubMmcrKyrLO9Fz4nLq6OnXv3l27du3Shg0b9Omnn+rxxx/Xzp07m3TWoKAgDRo0SE8//bQOHDigoqIizZgxo0nfA8BPh2gC0Kw88sgj8vX1VUxMjDp16qSamhq988472rFjh/r27av7779faWlpHnFy4XPKysr0pz/9SXfccYdGjx6thIQE/fvf//Y469RUli5dqnPnzikuLk6ZmZnWb/UBaH4c7vO/bAcAAMBFcaYJAADAANEEAJdRVlam1q1bX/LxY25TAKD54Os5ALiMc+fOfe+NKrt16yY/P34ZGbjaEU0AAAAG+HoOAADAANEEAABggGgCAAAwQDQBAAAYIJoAAAAMEE0AAAAGiCYAAAADRBMAAICB/wdK9xqekkzrBgAAAABJRU5ErkJggg==",
=======
      "image/png": "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",
>>>>>>> a188d8bfc46d91902995e5550b38809bf41b467a
      "text/plain": [
       "<Figure size 640x480 with 1 Axes>"
      ]
     },
     "metadata": {},
     "output_type": "display_data"
    }
   ],
   "source": [
    "sns.countplot(x = y)"
   ]
  },
  {
   "cell_type": "code",
   "execution_count": 36,
   "metadata": {},
   "outputs": [
    {
     "data": {
      "text/plain": [
<<<<<<< HEAD
       "605"
=======
       "325"
>>>>>>> a188d8bfc46d91902995e5550b38809bf41b467a
      ]
     },
     "execution_count": 36,
     "metadata": {},
     "output_type": "execute_result"
    }
   ],
   "source": [
    "X['batter'].nunique()"
   ]
  },
  {
   "cell_type": "code",
   "execution_count": 37,
   "metadata": {},
   "outputs": [
    {
     "data": {
      "text/plain": [
<<<<<<< HEAD
       "471"
=======
       "381"
>>>>>>> a188d8bfc46d91902995e5550b38809bf41b467a
      ]
     },
     "execution_count": 37,
     "metadata": {},
     "output_type": "execute_result"
    }
   ],
   "source": [
    "X['bowler'].nunique()"
   ]
  },
  {
   "cell_type": "code",
   "execution_count": 38,
   "metadata": {},
   "outputs": [],
   "source": [
    "from sklearn.preprocessing import LabelEncoder"
   ]
  },
  {
   "cell_type": "code",
   "execution_count": 39,
   "metadata": {},
   "outputs": [],
   "source": [
    "# Encoding\n",
    "le = LabelEncoder()\n",
    "X['batter_encoded'] = le.fit_transform(X['batter'])\n",
    "X['bowler_encoded'] = le.fit_transform(X['bowler'])"
   ]
  },
  {
   "cell_type": "code",
   "execution_count": 40,
   "metadata": {},
   "outputs": [
    {
     "data": {
      "text/html": [
       "<div>\n",
       "<style scoped>\n",
       "    .dataframe tbody tr th:only-of-type {\n",
       "        vertical-align: middle;\n",
       "    }\n",
       "\n",
       "    .dataframe tbody tr th {\n",
       "        vertical-align: top;\n",
       "    }\n",
       "\n",
       "    .dataframe thead th {\n",
       "        text-align: right;\n",
       "    }\n",
       "</style>\n",
       "<table border=\"1\" class=\"dataframe\">\n",
       "  <thead>\n",
       "    <tr style=\"text-align: right;\">\n",
       "      <th></th>\n",
       "      <th>batter</th>\n",
       "      <th>bowler</th>\n",
       "      <th>batter_encoded</th>\n",
       "      <th>bowler_encoded</th>\n",
       "    </tr>\n",
       "  </thead>\n",
       "  <tbody>\n",
       "    <tr>\n",
       "      <th>0</th>\n",
       "      <td>YBK Jaiswal</td>\n",
       "      <td>Mohammed Shami</td>\n",
<<<<<<< HEAD
       "      <td>596</td>\n",
       "      <td>275</td>\n",
=======
       "      <td>318</td>\n",
       "      <td>228</td>\n",
>>>>>>> a188d8bfc46d91902995e5550b38809bf41b467a
       "    </tr>\n",
       "    <tr>\n",
       "      <th>1</th>\n",
       "      <td>YBK Jaiswal</td>\n",
       "      <td>Mohammed Shami</td>\n",
<<<<<<< HEAD
       "      <td>596</td>\n",
       "      <td>275</td>\n",
=======
       "      <td>318</td>\n",
       "      <td>228</td>\n",
>>>>>>> a188d8bfc46d91902995e5550b38809bf41b467a
       "    </tr>\n",
       "    <tr>\n",
       "      <th>2</th>\n",
       "      <td>JC Buttler</td>\n",
       "      <td>Mohammed Shami</td>\n",
<<<<<<< HEAD
       "      <td>219</td>\n",
       "      <td>275</td>\n",
=======
       "      <td>115</td>\n",
       "      <td>228</td>\n",
>>>>>>> a188d8bfc46d91902995e5550b38809bf41b467a
       "    </tr>\n",
       "    <tr>\n",
       "      <th>3</th>\n",
       "      <td>YBK Jaiswal</td>\n",
       "      <td>Mohammed Shami</td>\n",
<<<<<<< HEAD
       "      <td>596</td>\n",
       "      <td>275</td>\n",
=======
       "      <td>318</td>\n",
       "      <td>228</td>\n",
>>>>>>> a188d8bfc46d91902995e5550b38809bf41b467a
       "    </tr>\n",
       "    <tr>\n",
       "      <th>4</th>\n",
       "      <td>YBK Jaiswal</td>\n",
       "      <td>Mohammed Shami</td>\n",
<<<<<<< HEAD
       "      <td>596</td>\n",
       "      <td>275</td>\n",
=======
       "      <td>318</td>\n",
       "      <td>228</td>\n",
>>>>>>> a188d8bfc46d91902995e5550b38809bf41b467a
       "    </tr>\n",
       "  </tbody>\n",
       "</table>\n",
       "</div>"
      ],
      "text/plain": [
       "        batter          bowler  batter_encoded  bowler_encoded\n",
<<<<<<< HEAD
       "0  YBK Jaiswal  Mohammed Shami             596             275\n",
       "1  YBK Jaiswal  Mohammed Shami             596             275\n",
       "2   JC Buttler  Mohammed Shami             219             275\n",
       "3  YBK Jaiswal  Mohammed Shami             596             275\n",
       "4  YBK Jaiswal  Mohammed Shami             596             275"
=======
       "0  YBK Jaiswal  Mohammed Shami             318             228\n",
       "1  YBK Jaiswal  Mohammed Shami             318             228\n",
       "2   JC Buttler  Mohammed Shami             115             228\n",
       "3  YBK Jaiswal  Mohammed Shami             318             228\n",
       "4  YBK Jaiswal  Mohammed Shami             318             228"
>>>>>>> a188d8bfc46d91902995e5550b38809bf41b467a
      ]
     },
     "execution_count": 40,
     "metadata": {},
     "output_type": "execute_result"
    }
   ],
   "source": [
    "X.head()"
   ]
  },
  {
   "cell_type": "code",
   "execution_count": 41,
   "metadata": {},
<<<<<<< HEAD
   "outputs": [
    {
     "data": {
      "text/plain": [
       "(225518, 4)"
      ]
     },
     "execution_count": 41,
     "metadata": {},
     "output_type": "execute_result"
    }
   ],
   "source": [
    "X.shape"
   ]
  },
  {
   "cell_type": "code",
   "execution_count": 42,
   "metadata": {},
=======
>>>>>>> a188d8bfc46d91902995e5550b38809bf41b467a
   "outputs": [],
   "source": [
    "X_le = X[['batter_encoded', 'bowler_encoded']]"
   ]
  },
  {
   "cell_type": "code",
<<<<<<< HEAD
   "execution_count": 43,
=======
   "execution_count": 42,
>>>>>>> a188d8bfc46d91902995e5550b38809bf41b467a
   "metadata": {},
   "outputs": [
    {
     "data": {
      "text/html": [
       "<div>\n",
       "<style scoped>\n",
       "    .dataframe tbody tr th:only-of-type {\n",
       "        vertical-align: middle;\n",
       "    }\n",
       "\n",
       "    .dataframe tbody tr th {\n",
       "        vertical-align: top;\n",
       "    }\n",
       "\n",
       "    .dataframe thead th {\n",
       "        text-align: right;\n",
       "    }\n",
       "</style>\n",
       "<table border=\"1\" class=\"dataframe\">\n",
       "  <thead>\n",
       "    <tr style=\"text-align: right;\">\n",
       "      <th></th>\n",
       "      <th>batter_encoded</th>\n",
       "      <th>bowler_encoded</th>\n",
       "    </tr>\n",
       "  </thead>\n",
       "  <tbody>\n",
       "    <tr>\n",
       "      <th>0</th>\n",
<<<<<<< HEAD
       "      <td>596</td>\n",
       "      <td>275</td>\n",
       "    </tr>\n",
       "    <tr>\n",
       "      <th>1</th>\n",
       "      <td>596</td>\n",
       "      <td>275</td>\n",
       "    </tr>\n",
       "    <tr>\n",
       "      <th>2</th>\n",
       "      <td>219</td>\n",
       "      <td>275</td>\n",
       "    </tr>\n",
       "    <tr>\n",
       "      <th>3</th>\n",
       "      <td>596</td>\n",
       "      <td>275</td>\n",
       "    </tr>\n",
       "    <tr>\n",
       "      <th>4</th>\n",
       "      <td>596</td>\n",
       "      <td>275</td>\n",
=======
       "      <td>318</td>\n",
       "      <td>228</td>\n",
       "    </tr>\n",
       "    <tr>\n",
       "      <th>1</th>\n",
       "      <td>318</td>\n",
       "      <td>228</td>\n",
       "    </tr>\n",
       "    <tr>\n",
       "      <th>2</th>\n",
       "      <td>115</td>\n",
       "      <td>228</td>\n",
       "    </tr>\n",
       "    <tr>\n",
       "      <th>3</th>\n",
       "      <td>318</td>\n",
       "      <td>228</td>\n",
       "    </tr>\n",
       "    <tr>\n",
       "      <th>4</th>\n",
       "      <td>318</td>\n",
       "      <td>228</td>\n",
>>>>>>> a188d8bfc46d91902995e5550b38809bf41b467a
       "    </tr>\n",
       "  </tbody>\n",
       "</table>\n",
       "</div>"
      ],
      "text/plain": [
       "   batter_encoded  bowler_encoded\n",
<<<<<<< HEAD
       "0             596             275\n",
       "1             596             275\n",
       "2             219             275\n",
       "3             596             275\n",
       "4             596             275"
      ]
     },
     "execution_count": 43,
=======
       "0             318             228\n",
       "1             318             228\n",
       "2             115             228\n",
       "3             318             228\n",
       "4             318             228"
      ]
     },
     "execution_count": 42,
>>>>>>> a188d8bfc46d91902995e5550b38809bf41b467a
     "metadata": {},
     "output_type": "execute_result"
    }
   ],
   "source": [
    "X_le.head()"
   ]
  },
  {
<<<<<<< HEAD
   "cell_type": "code",
   "execution_count": 44,
   "metadata": {},
   "outputs": [
    {
     "name": "stdout",
     "output_type": "stream",
     "text": [
      "(225518, 2)\n",
      "(225518,)\n"
     ]
    }
   ],
   "source": [
    "print(X_le.shape)\n",
    "print(y.shape)"
   ]
  },
  {
=======
>>>>>>> a188d8bfc46d91902995e5550b38809bf41b467a
   "attachments": {},
   "cell_type": "markdown",
   "metadata": {},
   "source": [
<<<<<<< HEAD
    "### Resampled players data using the combination of Undersampling and Oversampling"
=======
    "### Test and train dataset from players data"
>>>>>>> a188d8bfc46d91902995e5550b38809bf41b467a
   ]
  },
  {
   "cell_type": "code",
<<<<<<< HEAD
   "execution_count": 45,
   "metadata": {},
   "outputs": [],
   "source": [
    "from imblearn.combine import SMOTETomek\n",
    "\n",
    "sampler = SMOTETomek(random_state=42)\n",
    "\n",
    "X_resampled, y_resampled = sampler.fit_resample(X_le, y)"
   ]
  },
  {
   "attachments": {},
   "cell_type": "markdown",
   "metadata": {},
   "source": [
    "### Test and train split on resampled players data"
   ]
  },
  {
   "cell_type": "code",
   "execution_count": 46,
=======
   "execution_count": 43,
>>>>>>> a188d8bfc46d91902995e5550b38809bf41b467a
   "metadata": {},
   "outputs": [],
   "source": [
    "from sklearn.model_selection import train_test_split"
   ]
  },
  {
   "cell_type": "code",
<<<<<<< HEAD
   "execution_count": 47,
   "metadata": {},
   "outputs": [],
   "source": [
    "X_train, X_test, y_train, y_test = train_test_split(X_resampled, y_resampled, test_size = 0.2, random_state = 0)"
=======
   "execution_count": 44,
   "metadata": {},
   "outputs": [],
   "source": [
    "X_train, X_test, y_train, y_test = train_test_split(X_le, y, test_size = 0.2, random_state = 0)"
>>>>>>> a188d8bfc46d91902995e5550b38809bf41b467a
   ]
  },
  {
   "attachments": {},
   "cell_type": "markdown",
   "metadata": {},
   "source": [
    "## Players Data Modelling"
   ]
  },
  {
   "attachments": {},
   "cell_type": "markdown",
   "metadata": {},
   "source": [
<<<<<<< HEAD
    "### Decision tree classifier"
=======
    "### Logistic Regression Classifier"
>>>>>>> a188d8bfc46d91902995e5550b38809bf41b467a
   ]
  },
  {
   "cell_type": "code",
<<<<<<< HEAD
   "execution_count": 50,
   "metadata": {},
   "outputs": [],
   "source": [
    "from sklearn.tree import DecisionTreeClassifier\n",
    "from sklearn.model_selection import GridSearchCV\n",
    "from sklearn.utils import class_weight\n",
    "from sklearn.model_selection import RandomizedSearchCV\n",
    "from sklearn.metrics import ConfusionMatrixDisplay\n",
    "from sklearn.metrics import classification_report"
=======
   "execution_count": 48,
   "metadata": {},
   "outputs": [],
   "source": [
    "from sklearn.linear_model import LogisticRegression\n",
    "from sklearn.metrics import classification_report\n",
    "\n",
    "import warnings\n",
    "warnings.filterwarnings('ignore')"
>>>>>>> a188d8bfc46d91902995e5550b38809bf41b467a
   ]
  },
  {
   "cell_type": "code",
<<<<<<< HEAD
   "execution_count": 51,
=======
   "execution_count": 49,
>>>>>>> a188d8bfc46d91902995e5550b38809bf41b467a
   "metadata": {},
   "outputs": [
    {
     "name": "stdout",
     "output_type": "stream",
     "text": [
      "              precision    recall  f1-score   support\n",
      "\n",
<<<<<<< HEAD
      "           0       0.34      0.33      0.34     18827\n",
      "           1       0.32      0.24      0.28     18756\n",
      "           2       0.43      0.48      0.45     18636\n",
      "           3       0.74      0.79      0.77     18811\n",
      "           4       0.40      0.40      0.40     18749\n",
      "           5       0.79      0.81      0.80     18673\n",
      "           6       0.50      0.54      0.52     18563\n",
      "\n",
      "    accuracy                           0.51    131015\n",
      "   macro avg       0.50      0.51      0.51    131015\n",
      "weighted avg       0.50      0.51      0.51    131015\n",
      "\n"
     ]
    },
    {
     "data": {
      "text/plain": [
       "<sklearn.metrics._plot.confusion_matrix.ConfusionMatrixDisplay at 0x296fe512510>"
      ]
     },
     "execution_count": 51,
     "metadata": {},
     "output_type": "execute_result"
    },
    {
     "data": {
      "image/png": "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",
      "text/plain": [
       "<Figure size 640x480 with 2 Axes>"
      ]
     },
     "metadata": {},
     "output_type": "display_data"
=======
      "           0       0.46      1.00      0.63      6530\n",
      "           1       0.00      0.00      0.00      4330\n",
      "           2       0.00      0.00      0.00       587\n",
      "           3       0.00      0.00      0.00        72\n",
      "           4       0.00      0.00      0.00      2147\n",
      "           5       0.00      0.00      0.00        36\n",
      "           6       0.00      0.00      0.00       480\n",
      "           7       0.00      0.00      0.00         1\n",
      "\n",
      "    accuracy                           0.46     14183\n",
      "   macro avg       0.06      0.12      0.08     14183\n",
      "weighted avg       0.21      0.46      0.29     14183\n",
      "\n"
     ]
    }
   ],
   "source": [
    "logistic_clf = LogisticRegression()\n",
    "logistic_clf.fit(X_train, y_train)\n",
    "\n",
    "y_pred = logistic_clf.predict(X_test)\n",
    "\n",
    "print(classification_report(y_test, y_pred))"
   ]
  },
  {
   "attachments": {},
   "cell_type": "markdown",
   "metadata": {},
   "source": [
    "### Decision tree classifier"
   ]
  },
  {
   "cell_type": "code",
   "execution_count": 52,
   "metadata": {},
   "outputs": [],
   "source": [
    "from sklearn.tree import DecisionTreeClassifier\n",
    "from sklearn.model_selection import GridSearchCV"
   ]
  },
  {
   "cell_type": "code",
   "execution_count": 55,
   "metadata": {},
   "outputs": [
    {
     "name": "stdout",
     "output_type": "stream",
     "text": [
      "              precision    recall  f1-score   support\n",
      "\n",
      "           0       0.47      0.75      0.58      6530\n",
      "           1       0.34      0.24      0.28      4330\n",
      "           2       0.05      0.01      0.01       587\n",
      "           3       0.00      0.00      0.00        72\n",
      "           4       0.15      0.04      0.07      2147\n",
      "           5       0.00      0.00      0.00        36\n",
      "           6       0.05      0.01      0.01       480\n",
      "           7       0.00      0.00      0.00         1\n",
      "\n",
      "    accuracy                           0.42     14183\n",
      "   macro avg       0.13      0.13      0.12     14183\n",
      "weighted avg       0.35      0.42      0.36     14183\n",
      "\n"
     ]
>>>>>>> a188d8bfc46d91902995e5550b38809bf41b467a
    }
   ],
   "source": [
    "dtc_clf = DecisionTreeClassifier()\n",
    "dtc_clf.fit(X_train, y_train)\n",
    "\n",
    "y_pred = dtc_clf.predict(X_test)\n",
    "\n",
<<<<<<< HEAD
    "print(classification_report(y_test, y_pred))\n",
    "ConfusionMatrixDisplay.from_predictions(y_test, y_pred)"
=======
    "print(classification_report(y_test, y_pred))"
>>>>>>> a188d8bfc46d91902995e5550b38809bf41b467a
   ]
  },
  {
   "cell_type": "code",
<<<<<<< HEAD
   "execution_count": 394,
   "metadata": {},
   "outputs": [
    {
     "data": {
      "text/html": [
       "<style>#sk-container-id-3 {color: black;background-color: white;}#sk-container-id-3 pre{padding: 0;}#sk-container-id-3 div.sk-toggleable {background-color: white;}#sk-container-id-3 label.sk-toggleable__label {cursor: pointer;display: block;width: 100%;margin-bottom: 0;padding: 0.3em;box-sizing: border-box;text-align: center;}#sk-container-id-3 label.sk-toggleable__label-arrow:before {content: \"▸\";float: left;margin-right: 0.25em;color: #696969;}#sk-container-id-3 label.sk-toggleable__label-arrow:hover:before {color: black;}#sk-container-id-3 div.sk-estimator:hover label.sk-toggleable__label-arrow:before {color: black;}#sk-container-id-3 div.sk-toggleable__content {max-height: 0;max-width: 0;overflow: hidden;text-align: left;background-color: #f0f8ff;}#sk-container-id-3 div.sk-toggleable__content pre {margin: 0.2em;color: black;border-radius: 0.25em;background-color: #f0f8ff;}#sk-container-id-3 input.sk-toggleable__control:checked~div.sk-toggleable__content {max-height: 200px;max-width: 100%;overflow: auto;}#sk-container-id-3 input.sk-toggleable__control:checked~label.sk-toggleable__label-arrow:before {content: \"▾\";}#sk-container-id-3 div.sk-estimator input.sk-toggleable__control:checked~label.sk-toggleable__label {background-color: #d4ebff;}#sk-container-id-3 div.sk-label input.sk-toggleable__control:checked~label.sk-toggleable__label {background-color: #d4ebff;}#sk-container-id-3 input.sk-hidden--visually {border: 0;clip: rect(1px 1px 1px 1px);clip: rect(1px, 1px, 1px, 1px);height: 1px;margin: -1px;overflow: hidden;padding: 0;position: absolute;width: 1px;}#sk-container-id-3 div.sk-estimator {font-family: monospace;background-color: #f0f8ff;border: 1px dotted black;border-radius: 0.25em;box-sizing: border-box;margin-bottom: 0.5em;}#sk-container-id-3 div.sk-estimator:hover {background-color: #d4ebff;}#sk-container-id-3 div.sk-parallel-item::after {content: \"\";width: 100%;border-bottom: 1px solid gray;flex-grow: 1;}#sk-container-id-3 div.sk-label:hover label.sk-toggleable__label {background-color: #d4ebff;}#sk-container-id-3 div.sk-serial::before {content: \"\";position: absolute;border-left: 1px solid gray;box-sizing: border-box;top: 0;bottom: 0;left: 50%;z-index: 0;}#sk-container-id-3 div.sk-serial {display: flex;flex-direction: column;align-items: center;background-color: white;padding-right: 0.2em;padding-left: 0.2em;position: relative;}#sk-container-id-3 div.sk-item {position: relative;z-index: 1;}#sk-container-id-3 div.sk-parallel {display: flex;align-items: stretch;justify-content: center;background-color: white;position: relative;}#sk-container-id-3 div.sk-item::before, #sk-container-id-3 div.sk-parallel-item::before {content: \"\";position: absolute;border-left: 1px solid gray;box-sizing: border-box;top: 0;bottom: 0;left: 50%;z-index: -1;}#sk-container-id-3 div.sk-parallel-item {display: flex;flex-direction: column;z-index: 1;position: relative;background-color: white;}#sk-container-id-3 div.sk-parallel-item:first-child::after {align-self: flex-end;width: 50%;}#sk-container-id-3 div.sk-parallel-item:last-child::after {align-self: flex-start;width: 50%;}#sk-container-id-3 div.sk-parallel-item:only-child::after {width: 0;}#sk-container-id-3 div.sk-dashed-wrapped {border: 1px dashed gray;margin: 0 0.4em 0.5em 0.4em;box-sizing: border-box;padding-bottom: 0.4em;background-color: white;}#sk-container-id-3 div.sk-label label {font-family: monospace;font-weight: bold;display: inline-block;line-height: 1.2em;}#sk-container-id-3 div.sk-label-container {text-align: center;}#sk-container-id-3 div.sk-container {/* jupyter's `normalize.less` sets `[hidden] { display: none; }` but bootstrap.min.css set `[hidden] { display: none !important; }` so we also need the `!important` here to be able to override the default hidden behavior on the sphinx rendered scikit-learn.org. See: https://github.com/scikit-learn/scikit-learn/issues/21755 */display: inline-block !important;position: relative;}#sk-container-id-3 div.sk-text-repr-fallback {display: none;}</style><div id=\"sk-container-id-3\" class=\"sk-top-container\"><div class=\"sk-text-repr-fallback\"><pre>RandomizedSearchCV(cv=5, estimator=DecisionTreeClassifier(), n_iter=500,\n",
       "                   n_jobs=-1,\n",
       "                   param_distributions={&#x27;criterion&#x27;: [&#x27;gini&#x27;, &#x27;entropy&#x27;],\n",
       "                                        &#x27;max_depth&#x27;: [3, 13, 23, 33],\n",
       "                                        &#x27;min_samples_leaf&#x27;: array([ 1,  2,  3,  4,  5,  6,  7,  8,  9, 10]),\n",
       "                                        &#x27;min_samples_split&#x27;: array([ 2,  3,  4,  5,  6,  7,  8,  9, 10])})</pre><b>In a Jupyter environment, please rerun this cell to show the HTML representation or trust the notebook. <br />On GitHub, the HTML representation is unable to render, please try loading this page with nbviewer.org.</b></div><div class=\"sk-container\" hidden><div class=\"sk-item sk-dashed-wrapped\"><div class=\"sk-label-container\"><div class=\"sk-label sk-toggleable\"><input class=\"sk-toggleable__control sk-hidden--visually\" id=\"sk-estimator-id-7\" type=\"checkbox\" ><label for=\"sk-estimator-id-7\" class=\"sk-toggleable__label sk-toggleable__label-arrow\">RandomizedSearchCV</label><div class=\"sk-toggleable__content\"><pre>RandomizedSearchCV(cv=5, estimator=DecisionTreeClassifier(), n_iter=500,\n",
       "                   n_jobs=-1,\n",
       "                   param_distributions={&#x27;criterion&#x27;: [&#x27;gini&#x27;, &#x27;entropy&#x27;],\n",
       "                                        &#x27;max_depth&#x27;: [3, 13, 23, 33],\n",
       "                                        &#x27;min_samples_leaf&#x27;: array([ 1,  2,  3,  4,  5,  6,  7,  8,  9, 10]),\n",
       "                                        &#x27;min_samples_split&#x27;: array([ 2,  3,  4,  5,  6,  7,  8,  9, 10])})</pre></div></div></div><div class=\"sk-parallel\"><div class=\"sk-parallel-item\"><div class=\"sk-item\"><div class=\"sk-label-container\"><div class=\"sk-label sk-toggleable\"><input class=\"sk-toggleable__control sk-hidden--visually\" id=\"sk-estimator-id-8\" type=\"checkbox\" ><label for=\"sk-estimator-id-8\" class=\"sk-toggleable__label sk-toggleable__label-arrow\">estimator: DecisionTreeClassifier</label><div class=\"sk-toggleable__content\"><pre>DecisionTreeClassifier()</pre></div></div></div><div class=\"sk-serial\"><div class=\"sk-item\"><div class=\"sk-estimator sk-toggleable\"><input class=\"sk-toggleable__control sk-hidden--visually\" id=\"sk-estimator-id-9\" type=\"checkbox\" ><label for=\"sk-estimator-id-9\" class=\"sk-toggleable__label sk-toggleable__label-arrow\">DecisionTreeClassifier</label><div class=\"sk-toggleable__content\"><pre>DecisionTreeClassifier()</pre></div></div></div></div></div></div></div></div></div></div>"
      ],
      "text/plain": [
       "RandomizedSearchCV(cv=5, estimator=DecisionTreeClassifier(), n_iter=500,\n",
       "                   n_jobs=-1,\n",
       "                   param_distributions={'criterion': ['gini', 'entropy'],\n",
       "                                        'max_depth': [3, 13, 23, 33],\n",
       "                                        'min_samples_leaf': array([ 1,  2,  3,  4,  5,  6,  7,  8,  9, 10]),\n",
       "                                        'min_samples_split': array([ 2,  3,  4,  5,  6,  7,  8,  9, 10])})"
      ]
     },
     "execution_count": 394,
     "metadata": {},
     "output_type": "execute_result"
    }
   ],
   "source": [
    "param_dist = {\n",
    "    'max_depth': [3, 13, 23, 33],\n",
    "    'min_samples_split': np.arange(2, 11),\n",
    "    'min_samples_leaf': np.arange(1, 11),\n",
    "    'criterion': ['gini', 'entropy']\n",
    "}\n",
    "\n",
    "random_search = RandomizedSearchCV(dtc_clf,\n",
    "                                   param_distributions = param_dist,\n",
    "                                   n_iter = 500,\n",
    "                                   cv = 5,\n",
    "                                   n_jobs = -1\n",
    ")\n",
    "\n",
    "random_search.fit(X_train, y_train)"
   ]
  },
  {
   "cell_type": "code",
   "execution_count": 395,
=======
   "execution_count": 56,
>>>>>>> a188d8bfc46d91902995e5550b38809bf41b467a
   "metadata": {},
   "outputs": [
    {
     "name": "stdout",
     "output_type": "stream",
     "text": [
      "              precision    recall  f1-score   support\n",
      "\n",
<<<<<<< HEAD
      "           0       0.34      0.32      0.33     18827\n",
      "           1       0.32      0.24      0.28     18756\n",
      "           2       0.43      0.47      0.45     18636\n",
      "           3       0.74      0.79      0.76     18811\n",
      "           4       0.39      0.39      0.39     18749\n",
      "           5       0.78      0.81      0.79     18673\n",
      "           6       0.49      0.53      0.51     18563\n",
      "\n",
      "    accuracy                           0.51    131015\n",
      "   macro avg       0.50      0.51      0.50    131015\n",
      "weighted avg       0.50      0.51      0.50    131015\n",
      "\n"
     ]
    },
    {
     "data": {
      "text/plain": [
       "<sklearn.metrics._plot.confusion_matrix.ConfusionMatrixDisplay at 0x21a6d65b890>"
      ]
     },
     "execution_count": 395,
=======
      "           0       0.46      1.00      0.63      6530\n",
      "           1       0.33      0.00      0.00      4330\n",
      "           2       0.00      0.00      0.00       587\n",
      "           3       0.00      0.00      0.00        72\n",
      "           4       0.00      0.00      0.00      2147\n",
      "           5       0.00      0.00      0.00        36\n",
      "           6       0.00      0.00      0.00       480\n",
      "           7       0.00      0.00      0.00         1\n",
      "\n",
      "    accuracy                           0.46     14183\n",
      "   macro avg       0.10      0.13      0.08     14183\n",
      "weighted avg       0.31      0.46      0.29     14183\n",
      "\n"
     ]
    }
   ],
   "source": [
    "param_grid = {\n",
    "    'criterion': ['gini', 'entropy'],\n",
    "    'splitter': ['best', 'random'],\n",
    "    'max_depth': [None, 5, 10],\n",
    "    'min_samples_split': [2, 5, 10],\n",
    "    'min_samples_leaf': [1, 2, 4],\n",
    "    'max_features': [None, 'sqrt', 'log2']\n",
    "}\n",
    "\n",
    "grid_search_dtc = GridSearchCV(dtc_clf,\n",
    "                               param_grid = param_grid,\n",
    "                               cv = 10)\n",
    "\n",
    "grid_search_dtc.fit(X_train, y_train)"
   ]
  },
  {
   "cell_type": "code",
   "execution_count": 71,
   "metadata": {},
   "outputs": [
    {
     "name": "stdout",
     "output_type": "stream",
     "text": [
      "              precision    recall  f1-score   support\n",
      "\n",
      "           0       0.46      1.00      0.63      6530\n",
      "           1       0.33      0.00      0.00      4330\n",
      "           2       0.00      0.00      0.00       587\n",
      "           3       0.00      0.00      0.00        72\n",
      "           4       0.00      0.00      0.00      2147\n",
      "           5       0.00      0.00      0.00        36\n",
      "           6       0.00      0.00      0.00       480\n",
      "           7       0.00      0.00      0.00         1\n",
      "\n",
      "    accuracy                           0.46     14183\n",
      "   macro avg       0.10      0.13      0.08     14183\n",
      "weighted avg       0.31      0.46      0.29     14183\n",
      "\n"
     ]
    }
   ],
   "source": [
    "model = grid_search_dtc.best_estimator_\n",
    "y_pred = grid_search_dtc.predict(X_test)\n",
    "\n",
    "print(classification_report(y_test, y_pred))"
   ]
  },
  {
   "cell_type": "code",
   "execution_count": 72,
   "metadata": {},
   "outputs": [
    {
     "data": {
      "text/plain": [
       "0.46033984347458223"
      ]
     },
     "execution_count": 72,
     "metadata": {},
     "output_type": "execute_result"
    }
   ],
   "source": [
    "grid_search_dtc.score(X_test, y_test)"
   ]
  },
  {
   "cell_type": "code",
   "execution_count": 73,
   "metadata": {},
   "outputs": [
    {
     "data": {
      "text/plain": [
       "0.45702298688478354"
      ]
     },
     "execution_count": 73,
     "metadata": {},
     "output_type": "execute_result"
    }
   ],
   "source": [
    "grid_search_dtc.score(X_train, y_train)"
   ]
  },
  {
   "cell_type": "code",
   "execution_count": 70,
   "metadata": {},
   "outputs": [
    {
     "data": {
      "text/plain": [
       "{'criterion': 'entropy',\n",
       " 'max_depth': 5,\n",
       " 'max_features': 'log2',\n",
       " 'min_samples_leaf': 4,\n",
       " 'min_samples_split': 10,\n",
       " 'splitter': 'best'}"
      ]
     },
     "execution_count": 70,
     "metadata": {},
     "output_type": "execute_result"
    }
   ],
   "source": [
    "grid_search_dtc.best_params_"
   ]
  },
  {
   "attachments": {},
   "cell_type": "markdown",
   "metadata": {},
   "source": [
    "### Multilayer perceptron classifier"
   ]
  },
  {
   "cell_type": "code",
   "execution_count": 78,
   "metadata": {},
   "outputs": [],
   "source": [
    "from sklearn.neural_network import MLPClassifier\n",
    "from sklearn.model_selection import StratifiedShuffleSplit"
   ]
  },
  {
   "cell_type": "code",
   "execution_count": 79,
   "metadata": {},
   "outputs": [],
   "source": [
    "cv = StratifiedShuffleSplit(n_splits = 10, test_size = 0.2, random_state = 0)"
   ]
  },
  {
   "cell_type": "code",
   "execution_count": 80,
   "metadata": {},
   "outputs": [
    {
     "name": "stdout",
     "output_type": "stream",
     "text": [
      "              precision    recall  f1-score   support\n",
      "\n",
      "           0       0.46      0.42      0.44      6530\n",
      "           1       0.30      0.58      0.40      4330\n",
      "           2       0.00      0.00      0.00       587\n",
      "           3       0.00      0.00      0.00        72\n",
      "           4       0.00      0.00      0.00      2147\n",
      "           5       0.00      0.00      0.00        36\n",
      "           6       0.00      0.00      0.00       480\n",
      "           7       0.00      0.00      0.00         1\n",
      "\n",
      "    accuracy                           0.37     14183\n",
      "   macro avg       0.10      0.12      0.10     14183\n",
      "weighted avg       0.30      0.37      0.32     14183\n",
      "\n"
     ]
    }
   ],
   "source": [
    "mlpc_clf  = MLPClassifier()\n",
    "\n",
    "mlpc_clf.fit(X_train, y_train)\n",
    "\n",
    "y_pred = mlpc_clf.predict(X_test)\n",
    "\n",
    "print(classification_report(y_test, y_pred))"
   ]
  },
  {
   "cell_type": "code",
   "execution_count": 76,
   "metadata": {},
   "outputs": [],
   "source": [
    "from sklearn.metrics import ConfusionMatrixDisplay"
   ]
  },
  {
   "cell_type": "code",
   "execution_count": 77,
   "metadata": {},
   "outputs": [
    {
     "data": {
      "text/plain": [
       "<sklearn.metrics._plot.confusion_matrix.ConfusionMatrixDisplay at 0x1fa3abe1150>"
      ]
     },
     "execution_count": 77,
>>>>>>> a188d8bfc46d91902995e5550b38809bf41b467a
     "metadata": {},
     "output_type": "execute_result"
    },
    {
     "data": {
<<<<<<< HEAD
      "image/png": "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",
=======
      "image/png": "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",
>>>>>>> a188d8bfc46d91902995e5550b38809bf41b467a
      "text/plain": [
       "<Figure size 640x480 with 2 Axes>"
      ]
     },
     "metadata": {},
     "output_type": "display_data"
    }
   ],
   "source": [
<<<<<<< HEAD
    "model = random_search.best_estimator_\n",
    "y_pred =  model.predict(X_test)\n",
    "\n",
    "print(classification_report(y_test, y_pred))\n",
    "\n",
=======
>>>>>>> a188d8bfc46d91902995e5550b38809bf41b467a
    "ConfusionMatrixDisplay.from_predictions(y_test, y_pred)"
   ]
  },
  {
   "cell_type": "code",
<<<<<<< HEAD
   "execution_count": 396,
   "metadata": {},
   "outputs": [
    {
     "data": {
      "text/plain": [
       "0.5087814372400107"
      ]
     },
     "execution_count": 396,
     "metadata": {},
     "output_type": "execute_result"
    }
   ],
   "source": [
    "random_search.score(X_test, y_test)"
=======
   "execution_count": 82,
   "metadata": {},
   "outputs": [],
   "source": [
    "param_grid = {\n",
    "    'hidden_layer_sizes': [(10,), (50,), (100,)],\n",
    "    'activation': ['relu', 'logistic', 'tanh'],\n",
    "    'solver': ['sgd', 'adam'],\n",
    "    'learning_rate': ['constant', 'invscaling', 'adaptive']\n",
    "}\n",
    "\n",
    "grid_search_mlpc = GridSearchCV(mlpc_clf,\n",
    "                               param_grid = param_grid,\n",
    "                               cv = cv)\n",
    "\n",
    "grid_search_mlpc.fit(X_train, y_train)"
>>>>>>> a188d8bfc46d91902995e5550b38809bf41b467a
   ]
  },
  {
   "cell_type": "code",
<<<<<<< HEAD
   "execution_count": 397,
   "metadata": {},
   "outputs": [
    {
     "data": {
      "text/plain": [
       "0.5958882413778628"
      ]
     },
     "execution_count": 397,
     "metadata": {},
     "output_type": "execute_result"
    }
   ],
   "source": [
    "random_search.score(X_train, y_train)"
=======
   "execution_count": null,
   "metadata": {},
   "outputs": [],
   "source": [
    "model = grid_search_mlpc.best_estimator_\n",
    "y_pred = grid_search_mlpc.predict(X_test)\n",
    "\n",
    "print(classification_report(y_test, y_pred))"
>>>>>>> a188d8bfc46d91902995e5550b38809bf41b467a
   ]
  },
  {
   "cell_type": "code",
<<<<<<< HEAD
   "execution_count": 398,
   "metadata": {},
   "outputs": [
    {
     "data": {
      "text/plain": [
       "{'min_samples_split': 2,\n",
       " 'min_samples_leaf': 1,\n",
       " 'max_depth': 33,\n",
       " 'criterion': 'gini'}"
      ]
     },
     "execution_count": 398,
     "metadata": {},
     "output_type": "execute_result"
    }
   ],
   "source": [
    "random_search.best_params_"
   ]
=======
   "execution_count": null,
   "metadata": {},
   "outputs": [],
   "source": []
>>>>>>> a188d8bfc46d91902995e5550b38809bf41b467a
  }
 ],
 "metadata": {
  "kernelspec": {
   "display_name": ".maclearn",
   "language": "python",
   "name": "python3"
  },
  "language_info": {
   "codemirror_mode": {
    "name": "ipython",
    "version": 3
   },
   "file_extension": ".py",
   "mimetype": "text/x-python",
   "name": "python",
   "nbconvert_exporter": "python",
   "pygments_lexer": "ipython3",
   "version": "3.11.3"
  },
  "orig_nbformat": 4
 },
 "nbformat": 4,
 "nbformat_minor": 2
}
