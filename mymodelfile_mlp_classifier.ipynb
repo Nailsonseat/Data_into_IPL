{
 "cells": [
  {
   "attachments": {},
   "cell_type": "markdown",
   "metadata": {},
   "source": [
    "### Imports"
   ]
  },
  {
   "cell_type": "code",
   "execution_count": 1,
   "metadata": {},
   "outputs": [],
   "source": [
    "import pandas as pd\n",
    "import numpy as np\n",
    "import seaborn as sns\n",
    "import matplotlib.pyplot as plt\n"
   ]
  },
  {
   "attachments": {},
   "cell_type": "markdown",
   "metadata": {},
   "source": [
    "### Loading Dataset"
   ]
  },
  {
   "cell_type": "code",
   "execution_count": 2,
   "metadata": {},
   "outputs": [],
   "source": [
    "data_ball = pd.read_csv('training_dataset/DataSet/IPL_Ball_by_Ball_2008_2022.csv')\n",
    "data_match = pd.read_csv('training_dataset/DataSet/IPL_Matches_Result_2008_2022.csv')\n",
    "data_ipl_2k23_player_team=pd.read_csv('training_dataset/DataSet/Ipl_2023 _cricketers - Players.csv')"
   ]
  },
  {
   "attachments": {},
   "cell_type": "markdown",
   "metadata": {},
   "source": [
    "### Extract target variable"
   ]
  },
  {
   "cell_type": "code",
   "execution_count": 3,
   "metadata": {},
   "outputs": [],
   "source": [
    "X,y = data_ball.drop('total_run',axis=1),data_ball['total_run']"
   ]
  },
  {
   "attachments": {},
   "cell_type": "markdown",
   "metadata": {},
   "source": [
    "## Data preprocessing"
   ]
  },
  {
   "attachments": {},
   "cell_type": "markdown",
   "metadata": {},
   "source": [
    "### Encoding"
   ]
  },
  {
   "cell_type": "code",
   "execution_count": 4,
   "metadata": {},
   "outputs": [],
   "source": [
    "player_list = ['YBK Jaiswal', 'JC Buttler', 'SV Samson', 'D Padikkal', 'SO Hetmyer', 'R Ashwin', 'R Parag', 'TA Boult', 'OC McCoy', 'WP Saha', 'Shubman Gill', 'MS Wade', 'HH Pandya', 'DA Miller', 'V Kohli', 'F du Plessis', 'RM Patidar', 'GJ Maxwell', 'MK Lomror', 'KD Karthik', 'Shahbaz Ahmed', 'PWH de Silva', 'HV Patel', 'JR Hazlewood', 'Q de Kock', 'KL Rahul', 'M Vohra', 'DJ Hooda', 'MP Stoinis', 'E Lewis', 'KH Pandya', 'PVD Chameera', 'PK Garg', 'Abhishek Sharma', 'RA Tripathi', 'AK Markram', 'N Pooran', 'Washington Sundar', 'R Shepherd', 'J Suchith', 'B Kumar', 'Umran Malik', 'JM Bairstow', 'S Dhawan', 'M Shahrukh Khan', 'MA Agarwal', 'LS Livingstone', 'JM Sharma', 'PN Mankad', 'PP Shaw', 'DA Warner', 'MR Marsh', 'RR Pant', 'SN Khan', 'R Powell', 'AR Patel', 'SN Thakur', 'Kuldeep Yadav', 'Ishan Kishan', 'RG Sharma', 'D Brevis', 'Tilak Varma', 'TH David', 'Ramandeep Singh', 'DR Sams', 'RD Gaikwad', 'DP Conway', 'MM Ali', 'N Jagadeesan', 'AT Rayudu', 'MS Dhoni', 'Simarjeet Singh', 'MJ Santner', 'R Tewatia', 'Rashid Khan', 'VR Iyer', 'N Rana', 'A Tomar', 'SS Iyer', 'SW Billings', 'AD Russell', 'RK Singh', 'SP Narine', 'UT Yadav', 'KS Williamson', 'T Stubbs', 'R Sanjay Yadav', 'JJ Bumrah', 'Lalit Yadav', 'PBB Rajapaksa', 'Harpreet Brar', 'R Dhawan', 'RD Chahar', 'K Rabada', 'Arshdeep Singh', 'JDS Neesham', 'A Badoni', 'JO Holder', 'Mohsin Khan', 'Avesh Khan', 'S Dube', 'AM Rahane', 'Shashank Singh', 'M Jansen', 'Mohammed Siraj', 'RV Uthappa', 'DJ Bravo', 'M Theekshana', 'Mukesh Choudhary', 'HR Shokeen', 'HE van der Dussen', 'KS Bharat', 'KS Sharma', 'SP Jackson', 'PJ Cummins', 'TG Southee', 'KA Pollard', 'M Ashwin', 'K Kartikeya', 'RP Meredith', 'RV Patel', 'A Nortje', 'KK Ahmed', 'Kartik Tyagi', 'Fazalhaq Farooqi', 'B Indrajith', 'AJ Finch', 'AS Roy', 'Shivam Mavi', 'Harshit Rana', 'SA Yadav', 'B Sai Sudharsan', 'Mandeep Singh', 'SA Abbott', 'S Gopal', 'RA Jadeja', 'D Pretorius', 'PJ Sangwan', 'LH Ferguson', 'AS Joseph', 'KK Nair', 'DJ Mitchell', 'A Manohar', 'M Prasidh Krishna', 'SS Prabhudessai', 'MK Pandey', 'JD Unadkat', 'Anuj Rawat', 'Yash Dayal', 'NT Ellis', 'VG Arora', 'Ravi Bishnoi', 'CV Varun', 'V Shankar', 'P Simran Singh', 'OF Smith', 'FA Allen', 'TS Mills', 'Aman Hakim Khan', 'YS Chahal', 'KR Sen', 'Akash Deep', 'K Gowtham', 'Rasikh Salam', 'CJ Jordan', 'DJ Willey', 'SE Rutherford', 'Abdul Samad', 'TL Seifert', 'Mustafizur Rahman', 'Navdeep Saini', 'Anmolpreet Singh', 'RA Bawa', 'NM Coulter-Nile', 'EJG Morgan', 'Shakib Al Hasan', 'AB de Villiers', 'DT Christian', 'TK Curran', 'SK Raina', 'SS Tiwary', 'J Yadav', 'SPD Smith', 'CH Morris', 'C Sakariya', 'JJ Roy', 'S Kaul', 'KA Jamieson', 'AF Milne', 'CH Gayle', 'KM Jadhav', 'GD Phillips', 'Sandeep Sharma', 'SM Curran', 'DL Chahar', 'T Shamsi', 'GHS Garton', 'MC Henriques', 'K Yadav', 'PP Chawla', 'Mohammad Nabi', 'Sachin Baby', 'DJ Malan', 'Mohammed Shami', 'Virat Singh', 'KL Nagarkoti', 'Harbhajan Singh', 'Mujeeb Ur Rahman', 'JA Richardson', 'CR Woakes', 'S Nadeem', 'BA Stokes', 'CA Lynn', 'SP Goswami', 'Gurkeerat Singh', 'AT Carey', 'JC Archer', 'SS Cottrell', 'T Banton', 'M Vijay', 'SR Watson', 'P Dubey', 'JR Philippe', 'T Natarajan', 'I Udana', 'VR Aaron', 'TU Deshpande', 'Imran Tahir', 'AS Rajpoot', 'DW Steyn', 'NS Naik', 'AJ Tye', 'JL Pattinson', 'DS Kulkarni', 'MJ McClenaghan', 'C Munro', 'KMA Paul', 'A Mishra', 'I Sharma', 'MJ Guptill', 'Basil Thampi', 'YK Pathan', 'PA Patel', 'C de Grandhomme', 'STR Binny', 'IS Sodhi', 'CA Ingram', 'H Klaasen', 'P Negi', 'BB Sran', 'AJ Turner', 'DR Shorey', 'CR Brathwaite', 'AD Nath', 'GC Viljoen', 'Y Prithvi Raj', 'KC Kariappa', 'BCJ Cutting', 'RK Bhui', 'JL Denly', 'SD Lad', 'HF Gurney', 'Yuvraj Singh', 'MM Sharma', 'GH Vihari', 'S Lamichhane', 'P Ray Barman', 'M Markande', 'JPR Scantlebury-Searles', 'MK Tiwary', 'AD Hales', 'Anureet Singh', 'DJM Short', 'P Chopra', 'JP Duminy', 'NV Ojha', 'BB McCullum', 'LE Plunkett', 'MG Johnson', 'CJ Anderson', 'G Gambhir', 'B Laughlin', 'A Dananjaya', 'B Stanlake', 'R Vinay Kumar', 'MA Wood', 'LMP Simmons', 'KV Sharma', 'IR Jaggi', 'Bipul Sharma', 'SL Malinga', 'Vishnu Vinod', 'TM Head', 'MN Samuels', 'Z Khan', 'SE Marsh', 'Swapnil Singh', 'DR Smith', 'JP Faulkner', 'Ankit Soni', 'P Kumar', 'MM Patel', 'HM Amla', 'S Aravind', 'S Badree', 'A Choudhary', 'IK Pathan', 'AR Bawne', 'DM Bravo', 'AP Tare', 'AD Mathews', 'Ankit Sharma', 'R Bhatia', 'A Zampa', 'AB Dinda', 'Iqbal Abdulla', 'ER Dwivedi', 'R Sathish', 'SB Jakati', 'F Behardien', 'KJ Abbott', 'UT Khawaja', 'GJ Bailey', 'NLTC Perera', 'M Morkel', 'PV Tambe', 'S Kaushik', 'UBT Chand', 'A Nehra', 'PSP Handscomb', 'A Ashish Reddy', 'Parvez Rasool', 'JA Morkel', 'KP Pietersen', 'KW Richardson', 'P Sahu', 'D Wiese', 'MEK Hussey', 'MA Starc', 'Azhar Mahmood', 'BE Hendricks', 'RS Bopara', 'J Botha', 'GB Hogg', 'Karanveer Singh', 'RN ten Doeschate', 'NJ Maddinson', 'V Sehwag', 'J Theron', 'DJ Muthuswami', 'MS Bisla', 'Noor Ahmad', 'RR Rossouw', 'AN Ahmed', 'RG More', 'DJG Sammy', 'CM Gautam', 'DJ Hussey', 'PP Ojha', 'BJ Hodge', 'Y Venugopal Rao', 'S Anirudha', 'YV Takawale', 'VH Zol', 'S Rana', 'KK Cooper', 'VS Malik', 'M de Lange', 'Shivam Sharma', 'WD Parnell', 'LRPL Taylor', 'R Shukla', 'DH Yagnik', 'M Manhas', 'LR Shukla', 'L Balaji', 'JH Kallis', 'BR Dunk', 'CA Pujara', 'R Rampaul', 'AM Nayar', 'S Badrinath', 'R Dravid', 'CL White', 'BB Samantray', 'P Dogra', 'LJ Wright', 'RV Gomez', 'DPMD Jayawardene', 'B Chipli', 'BJ Rohrer', 'AC Gilchrist', 'SK Trivedi', 'RE van der Merwe', 'DB Das', 'SMSM Senanayake', 'SR Tendulkar', 'MC Juneja', 'AB Agarkar', 'LA Pomersbach', 'A Mithun', 'M Kartik', 'Harmeet Singh', 'P Awana', 'UA Birla', 'M Rawat', 'K Upadhyay', 'MS Gony', 'KC Sangakkara', 'R McLaren', 'PA Reddy', 'BMAJ Mendis', 'OA Shah', 'TL Suman', 'BAW Mendis', 'R Sharma', 'S Narwal', 'B Lee', 'A Mukund', 'TM Dilshan', 'KB Arun Karthik', 'J Syed Mohammad', 'X Thalaivan Sargunam', 'AG Murtaza', 'IC Pandey', 'A Chandila', 'S Sreesanth', 'SW Tait', 'PC Valthaty', 'AD Mascarenhas', 'RT Ponting', 'AB McDonald', 'RJ Harris', 'DB Ravi Teja', 'MDKJ Perera', 'AL Menaria', 'Sunny Gupta', 'JEC Franklin', 'RP Singh', 'M Muralitharan', 'P Parameswaran', 'JD Ryder', 'MJ Clarke', 'SC Ganguly', 'AP Majumdar', 'CJ Ferguson', 'Harpreet Singh', 'SD Chitnis', 'N Saini', 'HH Gibbs', 'Y Nagar', 'MD Mishra', 'AC Thomas', 'DJ Harris', 'AA Jhunjhunwala', 'AUK Pathan', 'RJ Peterson', 'AA Chavan', 'V Pratap Singh', 'RE Levi', 'DL Vettori', 'KMDN Kulasekara', 'AC Blizzard', 'DJ Jacobs', 'CJ McKay', 'M Kaif', 'BA Bhatt', 'RR Bhatkal', 'A Singh', 'DAJ Bracewell', 'DE Bollinger', 'Y Gnaneswara Rao', 'JJ van der Wath', 'CK Langeveldt', 'S Sohal', 'FY Fazal', 'PR Shah', 'JDP Oram', 'SK Warne', 'ND Doshi', 'S Sriram', 'JR Hopes', 'TR Birt', 'MJ Lumb', 'A Symonds', 'MV Boucher', 'AS Raut', 'SJ Srivastava', 'M Klinger', 'RR Powar', 'Sunny Singh', 'L Ablish', 'I Malhotra', 'GC Smith', 'SB Wagh', 'NL McCullum', 'B Akhil', 'TD Paine', 'JE Taylor', 'VVS Laxman', 'BJ Haddin', 'Joginder Sharma', 'S Randiv', 'SA Asnodkar', 'AG Paunikar', 'R Ninan',\n",
    "               'NJ Rimmington', 'SB Styris', 'ML Hayden', 'CRD Fernando', 'Anirudh Singh', 'B Sumanth', 'A Kumble', 'WPUJC Vaas', 'PD Collingwood', 'AC Voges', 'Pankaj Singh', 'C Madan', 'KP Appanna', 'ST Jayasuriya', 'AP Dole', 'MF Maharoof', 'AB Barath', 'T Thushara', 'RS Sodhi', 'AA Bilakhia', 'Jaskaran Singh', 'K Goel', 'KAJ Roach', 'S Ladda', 'DP Nannes', 'JM Kemp', 'DR Martyn', 'RS Gavaskar', 'SE Bond', 'A Uniyal', 'S Tyagi', 'YA Abdulla', 'Mohammad Ashraful', 'SM Katich', 'WA Mota', 'RJ Quiney', 'NK Patel', 'T Henderson', 'Yashpal Singh', 'SS Shaikh', 'Mashrafe Mortaza', 'C Nanda', 'Shoaib Ahmed', 'AN Ghosh', 'LA Carseldine', 'MN van Wyk', 'SM Harwood', 'L Ronchi', 'RR Raje', 'W Jaffer', 'D du Preez', 'R Bishnoi', 'TM Srivastava', 'GR Napier', 'FH Edwards', 'SB Bangar', 'A Flintoff', 'T Kohli', 'A Chopra', 'Kamran Khan', 'S Vidyut', 'CK Kapugedera', 'Kamran Akmal', 'Sohail Tanvir', 'Mohammad Asif', 'VY Mahesh', 'GD McGrath', 'AS Yadav', 'Shahid Afridi', 'SP Fleming', 'SM Pollock', 'Salman Butt', 'Umar Gul', 'Misbah-ul-Haq', 'LPC Silva', 'M Ntini', 'VS Yeligati', 'Mohammad Hafeez', 'DJ Thornely', 'H Das', 'DNT Zoysa', 'J Arunkumar', 'DT Patil', 'Abdur Razzak', 'Shoaib Malik', 'Shoaib Akhtar', 'PM Sarvesh Kumar', 'DP Vijaykumar', 'Younis Khan', 'D Salunkhe', 'T Taibu', 'RR Sarwan', 'VRV Singh', 'U Kaul', 'S Chanderpaul', 'D Kalyankrishna', 'MA Khote', 'SB Joshi', 'DS Lehmann', 'AA Noffke', 'R Sai Kishore', 'M Pathirana', 'PH Solanki', 'DG Nalkande', 'IC Porel', 'AU Rashid', 'S Sandeep Warrier', 'Akash Singh', 'KM Asif', 'L Ngidi', 'LI Meriwala', 'Jalaj S Saxena', 'Monu Kumar', 'CJ Green', 'K Khejroliya', 'O Thomas', 'JP Behrendorff', 'SC Kuggeleijn', 'S Midhun', 'CJ Dala', 'MJ Henry', 'NB Singh', 'SS Agarwal', 'Tejas Baroka', 'SM Boland', 'JW Hastings', 'GS Sandhu', 'P Suyal', 'K Santokie', 'BW Hilfenhaus', 'Anand Rajan', 'MG Neser', 'TP Sudhindra', 'RW Price', 'SS Mundhe', 'P Prasanth', 'AM Salvi', 'AA Kazi', 'MB Parmar', 'C Ganapathy', 'RA Shaikh', 'SS Sarkar', 'RR Bose', 'B Geeves', 'A Nel', 'Gagandeep Singh', 'P Amarnath', 'Harry Brook', 'Joe Root', 'Cameron Green', 'Sikandar Raza', 'Litton Das', 'Kusal Mendis', 'Phil Salt', 'Reece Topley', 'Akeal Hosein', 'Shubham Khajuria', 'Rohan Kunnummal', 'Chethan L.R.', 'Shaik Rasheed', 'Saurabh Kumar', 'Vivrant Sharma', 'Nishant Sindhu', 'Sanvir Singh', 'Samarth Vyas', 'Dinesh Bana', 'Abhimanyu Easwaran', 'Sumit Kumar', 'Upendra Singh Yadav', 'Mukesh Kumar', 'Lance Morris', 'Yash Thakur', 'Mujtaba Yousuf', 'Chintal Gandhi', 'Izharulhuq Naveed', 'Himanshu Sharma', 'Subhranshu Senapati', 'Will Jacks', 'Paul Stirling', 'Dasun Shanaka', 'Taskin Ahmed', 'Blessing Muzarabani', 'Johnson Charles', 'Andre Fletcher', 'Shai Hope', 'Tom Latham', 'Ben Mcdermott', 'Lorcan Tucker', 'Pukhraj Mann', 'Akshat Raghuwanshi', 'Himanshu Rana', 'Shoun Roger', 'Will Smeed', 'Manoj Bhandage', 'Gerald Coetzee', 'Duan Jansen', 'Evan Jones', 'Abid Mushtaq', 'Suryansh Shedge', 'Akash Vashisht', 'Donovan Ferreira', 'Urvil Patel', 'Kirant Shinde', 'Vishnu Solanki', 'Vidwath Kaverappa', 'Rajan Kumar', 'Ravi Kumar', 'Arzan Nagwaswalla', 'Akash Singh', 'Paul Van Meekeren', 'Vyshak Vijay Kumar', 'S.Ajith Ram', 'Satyajeet Bachhav', 'Yuvraj Chudasama', 'Peter Hatzoglou', 'Karthik Meiyappan', 'Suyash Sharma', 'Shivam Sharma', 'Reeza Hendricks', 'Christiaan Jonker', 'Brandon King', 'Pathum Nissaanka', 'Harry Tector', 'Najibullah Zadran', 'Qais Ahmad', 'Charith Asalanka', 'Michael Bracewell', 'Jamie Overton', 'Richard Gleeson', 'Naveen Ul Haq', 'Lahiru Kumara', 'Joshua Little', 'Dilshan Madushanka', 'Luke Wood', 'Priyansh Arya', 'Matthew Breetzke', 'Shivam Chauhan', 'Rahul Gahlaut', 'Sudip Gharami', 'Amandeep Khare', 'Bhanu Pania', 'Ekant Sen', 'Himanshu Bisht', 'Mickil Jaiswal', 'G.Aniketh Reddy', 'Atit Sheth', 'Tanay Thyagarajann', 'Sumeet Verma', 'Ajitesh Guruswamy', 'Yash Kothari', 'Suresh Kumar', 'Kumar Kushagra', 'Anmol Malhotra', 'Robin Minz', 'Agniv Pan', 'Priyesh Patel', 'Mitesh Patel', 'Abishek Porel', 'Nitish Kumar Reddy', 'Bharat Sharma', 'Vivek Singh', 'Basit Bashir', 'Nandre Burger', 'Sakib Hussain', 'Waseem Khanday', 'Ravi Kiran Majeti', 'Anuj Raj', 'Avinash Singh', 'Prince Yadav', 'Mushtaq Beg', 'Rocky Bhasker', 'Sanjith Devaraj', 'Raghav Goyal', 'Allah Mohammad', 'Lalit Mohan', 'Bhuwan Rohilla', 'Aman Sharma', 'Manav Suthar', 'Afif Hossain', 'Sisanda Magala', 'Craig Overton', 'Dhananjaya Silva', 'Dunith Wellalage', 'Daryn Dupavillon', 'David Payne', 'Glenton Stuurman', 'Anirudh Balachander', 'Gourav Choudhary', 'Saurav Chuahan', 'Kumar Deobrat', 'Chirag Gandhi', 'Madhav Kaushik', 'Priyank Panchal', 'Ayush Pandey', 'Rohan Patil', 'Sanjay Ramaswamy', 'Siddharth Yadav', 'Rehan Ahmed', 'Vaisakh Chandran', 'Harsh Dubey', 'Tanush Kotian', 'Ninad Rathva', 'B. Surya', 'Jordan Thompson', 'Shivank Vashisth', 'Christopher Benjamin', 'Connor Esterhuizen', 'Mohd Arslan Khan', 'Mamidi Krishna', 'Fazil Makaya', 'Kunal Rathore', 'Ateev Saini', 'Bipin Saurabh', 'B.R. Sharath', 'Yashovardhan Singh', 'Lakshay Thareja', 'Mohit Avasthi', 'Ottneil Baartman', 'Gurnoor Singh Brar', 'Shahrukh Dar', 'Thomas Helm', 'Venkatesh Muralidhara', 'Geet Puri', 'E. Sanketh', 'Ajay Sarkar', 'Ashok Sharma', 'Kanwar Singh', 'Roston Chase', 'Rahkeem Cornwall', 'Karim Janat', 'Keshav Maharaj', 'Shivam Chaudhary', 'Ashwin Das', 'James Fuller', 'Chirag Jani', 'Akshay Karnewar', 'Bhagmender Lather', 'Lone Muzaffar', 'Pulkit Narang', 'Rohit Rayudu', 'Sameer Rizvi', 'Tunish Sawkar', 'Sonu Yadav', 'Auqib Dar', 'Mukhtar Hussain', 'Ashwani Kumar', 'Hemant Kumar', 'Nathan McAndrew', 'Rajesh Mohanty', 'Ravi Sharma', 'Vikash Singh', 'Ruben Trumpelmann', 'Koushik Vasuki', 'Vasu Vats', 'Shubham Agrawal', 'Anshul Kamboj', 'Azim Kazi', 'Dev Lakra', 'Ajay Mandal', 'Abdul P A', 'Jitender Pal', 'Ritwik Roy Chowdhury', 'Shubham Singh', 'Avneesh Sudha', 'Asad Jamil Ahmed', 'Aashish Bhatt', 'McKenny Clarke', 'Shubham Kapse', 'Gourav Koul', 'Raunak Kumar', 'Trilok Nag', 'Atal Bihari Rai', 'Ramon Simmonds', 'Rajeev Singh', 'Mohd. Wasim', 'Atharva Ankolekar', 'Khizar Dafedar', 'Naman Dhir', 'Sahil Dhiwan', 'Sampark Gupta', 'Jordan Hermann', 'Hayden Kerr', 'Salman Khan', 'Sairaj Patil', 'Divyaansh Saxena', 'Purnank Tyagi', 'Deepraj Gaonkar', 'Deepesh Nailwal', 'Arjun Rapria', 'Shashwat Rawat', 'Sumit Ruikar', 'Rajandeep Singh', 'Anunay Singh', 'Digvesh Singh', 'Pranshu Vijayran', 'Prerit Dutta', 'Ramakrishna Ghosh', 'Shubhang Hegde', 'Shamshuzama Kazi', 'Ayaz Khan', 'Amit Pachhara', 'Akul Pandove', 'Mohit Rathee', 'Garv Sangwan', 'Shubham Sharma', 'Nehal Wadhera', 'Amit Yadav', 'Amit Ali', 'Rishabh Chauhan', 'Matthew Forde', 'Sammar Gajjar', 'Rajneesh Gurbani', 'Divyansh Joshi', 'Dhruv Patel', 'Jack Prestwidge', 'Aditya Sarvate', 'Mayank Dagar', 'Sagar Solanki', 'Prenelan Subrayen', 'Bhagath Verma', 'Rajvardhan Hangargekar', 'Mayank Yadav', 'Rahmanullah Gurbaz', 'Kyle Mayers', 'Yudhvir Singh', 'Arjun Tendulkar', 'Arshad Khan', 'Shams Mulani', 'Matthew Short', 'Baltej Singh', 'Atharva Taide', 'Shivam Singh', 'Dhruv Jurel']"
   ]
  },
  {
   "cell_type": "code",
   "execution_count": 5,
   "metadata": {},
   "outputs": [],
   "source": [
    "# Encoding of player names\n",
    "encoding = list(\n",
    "    enumerate(list(set(X.batter.unique().tolist() + X.bowler.unique().tolist() + X[\"non-striker\"].unique().tolist() + list(set(player_list))))))"
   ]
  },
  {
   "cell_type": "code",
   "execution_count": 6,
   "metadata": {},
   "outputs": [],
   "source": [
    "# Encoding dataframe for merging in with player names, each player gets unique value whether they are batter or bowler\n",
    "batter_encoded = pd.DataFrame(\n",
    "    encoding, columns=['player_id', 'batter'])\n",
    "\n",
    "bowler_encoded = pd.DataFrame(\n",
    "    encoding, columns=['player_id', 'bowler'])\n",
    "\n",
    "non_striker_encoded = pd.DataFrame(\n",
    "    encoding, columns=['player_id', 'non-striker'])"
   ]
  },
  {
   "cell_type": "code",
   "execution_count": 7,
   "metadata": {},
   "outputs": [
    {
     "data": {
      "text/plain": [
       "Index(['ID', 'innings', 'overs', 'ballnumber', 'batter', 'bowler',\n",
       "       'non-striker', 'extra_type', 'batsman_run', 'extras_run',\n",
       "       'non_boundary', 'isWicketDelivery', 'player_out', 'kind',\n",
       "       'fielders_involved', 'BattingTeam', 'player_id_x', 'player_id_y',\n",
       "       'player_id'],\n",
       "      dtype='object')"
      ]
     },
     "execution_count": 7,
     "metadata": {},
     "output_type": "execute_result"
    }
   ],
   "source": [
    "X = pd.merge(X, bowler_encoded, on = 'bowler')\n",
    "X = pd.merge(X, batter_encoded, on = 'batter')\n",
    "X = pd.merge(X, non_striker_encoded, on = 'non-striker')\n",
    "X.columns"
   ]
  },
  {
   "cell_type": "code",
   "execution_count": 8,
   "metadata": {},
   "outputs": [
    {
     "data": {
      "text/html": [
       "<div>\n",
       "<style scoped>\n",
       "    .dataframe tbody tr th:only-of-type {\n",
       "        vertical-align: middle;\n",
       "    }\n",
       "\n",
       "    .dataframe tbody tr th {\n",
       "        vertical-align: top;\n",
       "    }\n",
       "\n",
       "    .dataframe thead th {\n",
       "        text-align: right;\n",
       "    }\n",
       "</style>\n",
       "<table border=\"1\" class=\"dataframe\">\n",
       "  <thead>\n",
       "    <tr style=\"text-align: right;\">\n",
       "      <th></th>\n",
       "      <th>ID</th>\n",
       "      <th>innings</th>\n",
       "      <th>overs</th>\n",
       "      <th>ballnumber</th>\n",
       "      <th>extra_type</th>\n",
       "      <th>batsman_run</th>\n",
       "      <th>extras_run</th>\n",
       "      <th>non_boundary</th>\n",
       "      <th>isWicketDelivery</th>\n",
       "      <th>player_out</th>\n",
       "      <th>kind</th>\n",
       "      <th>fielders_involved</th>\n",
       "      <th>BattingTeam</th>\n",
       "      <th>player_id_x</th>\n",
       "      <th>player_id_y</th>\n",
       "      <th>player_id</th>\n",
       "    </tr>\n",
       "  </thead>\n",
       "  <tbody>\n",
       "    <tr>\n",
       "      <th>0</th>\n",
       "      <td>1312200</td>\n",
       "      <td>1</td>\n",
       "      <td>0</td>\n",
       "      <td>1</td>\n",
       "      <td>NaN</td>\n",
       "      <td>0</td>\n",
       "      <td>0</td>\n",
       "      <td>0</td>\n",
       "      <td>0</td>\n",
       "      <td>NaN</td>\n",
       "      <td>NaN</td>\n",
       "      <td>NaN</td>\n",
       "      <td>Rajasthan Royals</td>\n",
       "      <td>276</td>\n",
       "      <td>401</td>\n",
       "      <td>743</td>\n",
       "    </tr>\n",
       "    <tr>\n",
       "      <th>1</th>\n",
       "      <td>1312200</td>\n",
       "      <td>1</td>\n",
       "      <td>0</td>\n",
       "      <td>2</td>\n",
       "      <td>legbyes</td>\n",
       "      <td>0</td>\n",
       "      <td>1</td>\n",
       "      <td>0</td>\n",
       "      <td>0</td>\n",
       "      <td>NaN</td>\n",
       "      <td>NaN</td>\n",
       "      <td>NaN</td>\n",
       "      <td>Rajasthan Royals</td>\n",
       "      <td>276</td>\n",
       "      <td>401</td>\n",
       "      <td>743</td>\n",
       "    </tr>\n",
       "    <tr>\n",
       "      <th>2</th>\n",
       "      <td>1312200</td>\n",
       "      <td>1</td>\n",
       "      <td>0</td>\n",
       "      <td>4</td>\n",
       "      <td>NaN</td>\n",
       "      <td>0</td>\n",
       "      <td>0</td>\n",
       "      <td>0</td>\n",
       "      <td>0</td>\n",
       "      <td>NaN</td>\n",
       "      <td>NaN</td>\n",
       "      <td>NaN</td>\n",
       "      <td>Rajasthan Royals</td>\n",
       "      <td>276</td>\n",
       "      <td>401</td>\n",
       "      <td>743</td>\n",
       "    </tr>\n",
       "    <tr>\n",
       "      <th>3</th>\n",
       "      <td>1312200</td>\n",
       "      <td>1</td>\n",
       "      <td>0</td>\n",
       "      <td>5</td>\n",
       "      <td>NaN</td>\n",
       "      <td>0</td>\n",
       "      <td>0</td>\n",
       "      <td>0</td>\n",
       "      <td>0</td>\n",
       "      <td>NaN</td>\n",
       "      <td>NaN</td>\n",
       "      <td>NaN</td>\n",
       "      <td>Rajasthan Royals</td>\n",
       "      <td>276</td>\n",
       "      <td>401</td>\n",
       "      <td>743</td>\n",
       "    </tr>\n",
       "    <tr>\n",
       "      <th>4</th>\n",
       "      <td>1312200</td>\n",
       "      <td>1</td>\n",
       "      <td>0</td>\n",
       "      <td>6</td>\n",
       "      <td>NaN</td>\n",
       "      <td>0</td>\n",
       "      <td>0</td>\n",
       "      <td>0</td>\n",
       "      <td>0</td>\n",
       "      <td>NaN</td>\n",
       "      <td>NaN</td>\n",
       "      <td>NaN</td>\n",
       "      <td>Rajasthan Royals</td>\n",
       "      <td>276</td>\n",
       "      <td>401</td>\n",
       "      <td>743</td>\n",
       "    </tr>\n",
       "  </tbody>\n",
       "</table>\n",
       "</div>"
      ],
      "text/plain": [
       "        ID  innings  overs  ballnumber extra_type  batsman_run  extras_run   \n",
       "0  1312200        1      0           1        NaN            0           0  \\\n",
       "1  1312200        1      0           2    legbyes            0           1   \n",
       "2  1312200        1      0           4        NaN            0           0   \n",
       "3  1312200        1      0           5        NaN            0           0   \n",
       "4  1312200        1      0           6        NaN            0           0   \n",
       "\n",
       "   non_boundary  isWicketDelivery player_out kind fielders_involved   \n",
       "0             0                 0        NaN  NaN               NaN  \\\n",
       "1             0                 0        NaN  NaN               NaN   \n",
       "2             0                 0        NaN  NaN               NaN   \n",
       "3             0                 0        NaN  NaN               NaN   \n",
       "4             0                 0        NaN  NaN               NaN   \n",
       "\n",
       "        BattingTeam  player_id_x  player_id_y  player_id  \n",
       "0  Rajasthan Royals          276          401        743  \n",
       "1  Rajasthan Royals          276          401        743  \n",
       "2  Rajasthan Royals          276          401        743  \n",
       "3  Rajasthan Royals          276          401        743  \n",
       "4  Rajasthan Royals          276          401        743  "
      ]
     },
     "execution_count": 8,
     "metadata": {},
     "output_type": "execute_result"
    }
   ],
   "source": [
    "X = X.drop(['batter', 'bowler', 'non-striker'], axis = 1)\n",
    "X.head()"
   ]
  },
  {
   "cell_type": "code",
   "execution_count": 9,
   "metadata": {},
   "outputs": [],
   "source": [
    "X = X.rename(columns={'player_id_x': 'bowler_encoded', 'player_id_y': 'batter_encoded', 'player_id': 'non_striker_encoded'})"
   ]
  },
  {
   "cell_type": "code",
   "execution_count": 10,
   "metadata": {},
   "outputs": [],
   "source": [
    "X_le = X[['bowler_encoded','batter_encoded']]"
   ]
  },
  {
   "cell_type": "code",
   "execution_count": 11,
   "metadata": {},
   "outputs": [
    {
     "data": {
      "text/html": [
       "<div>\n",
       "<style scoped>\n",
       "    .dataframe tbody tr th:only-of-type {\n",
       "        vertical-align: middle;\n",
       "    }\n",
       "\n",
       "    .dataframe tbody tr th {\n",
       "        vertical-align: top;\n",
       "    }\n",
       "\n",
       "    .dataframe thead th {\n",
       "        text-align: right;\n",
       "    }\n",
       "</style>\n",
       "<table border=\"1\" class=\"dataframe\">\n",
       "  <thead>\n",
       "    <tr style=\"text-align: right;\">\n",
       "      <th></th>\n",
       "      <th>bowler_encoded</th>\n",
       "      <th>batter_encoded</th>\n",
       "    </tr>\n",
       "  </thead>\n",
       "  <tbody>\n",
       "    <tr>\n",
       "      <th>0</th>\n",
       "      <td>276</td>\n",
       "      <td>401</td>\n",
       "    </tr>\n",
       "    <tr>\n",
       "      <th>1</th>\n",
       "      <td>276</td>\n",
       "      <td>401</td>\n",
       "    </tr>\n",
       "    <tr>\n",
       "      <th>2</th>\n",
       "      <td>276</td>\n",
       "      <td>401</td>\n",
       "    </tr>\n",
       "    <tr>\n",
       "      <th>3</th>\n",
       "      <td>276</td>\n",
       "      <td>401</td>\n",
       "    </tr>\n",
       "    <tr>\n",
       "      <th>4</th>\n",
       "      <td>276</td>\n",
       "      <td>401</td>\n",
       "    </tr>\n",
       "    <tr>\n",
       "      <th>...</th>\n",
       "      <td>...</td>\n",
       "      <td>...</td>\n",
       "    </tr>\n",
       "    <tr>\n",
       "      <th>225949</th>\n",
       "      <td>902</td>\n",
       "      <td>502</td>\n",
       "    </tr>\n",
       "    <tr>\n",
       "      <th>225950</th>\n",
       "      <td>648</td>\n",
       "      <td>508</td>\n",
       "    </tr>\n",
       "    <tr>\n",
       "      <th>225951</th>\n",
       "      <td>648</td>\n",
       "      <td>508</td>\n",
       "    </tr>\n",
       "    <tr>\n",
       "      <th>225952</th>\n",
       "      <td>648</td>\n",
       "      <td>508</td>\n",
       "    </tr>\n",
       "    <tr>\n",
       "      <th>225953</th>\n",
       "      <td>241</td>\n",
       "      <td>585</td>\n",
       "    </tr>\n",
       "  </tbody>\n",
       "</table>\n",
       "<p>225954 rows × 2 columns</p>\n",
       "</div>"
      ],
      "text/plain": [
       "        bowler_encoded  batter_encoded\n",
       "0                  276             401\n",
       "1                  276             401\n",
       "2                  276             401\n",
       "3                  276             401\n",
       "4                  276             401\n",
       "...                ...             ...\n",
       "225949             902             502\n",
       "225950             648             508\n",
       "225951             648             508\n",
       "225952             648             508\n",
       "225953             241             585\n",
       "\n",
       "[225954 rows x 2 columns]"
      ]
     },
     "execution_count": 11,
     "metadata": {},
     "output_type": "execute_result"
    }
   ],
   "source": [
    "X_le"
   ]
  },
  {
   "cell_type": "code",
   "execution_count": 12,
   "metadata": {},
   "outputs": [],
   "source": [
    "input = pd.read_csv('training_dataset/DataSet/input_test_file.csv')"
   ]
  },
  {
   "cell_type": "code",
   "execution_count": 13,
   "metadata": {},
   "outputs": [],
   "source": [
    "#Sampling\n",
    "from imblearn.combine import SMOTETomek\n",
    "\n",
    "sampler = SMOTETomek(random_state=42)\n",
    "\n",
    "X_resampled, y_resampled = sampler.fit_resample(X_le, y)"
   ]
  },
  {
   "attachments": {},
   "cell_type": "markdown",
   "metadata": {},
   "source": [
    "## Model - MLPC"
   ]
  },
  {
   "cell_type": "code",
   "execution_count": 16,
   "metadata": {},
   "outputs": [],
   "source": [
    "from sklearn.neural_network import MLPClassifier\n",
    "from sklearn.preprocessing import StandardScaler"
   ]
  },
  {
   "cell_type": "code",
   "execution_count": 17,
   "metadata": {},
   "outputs": [],
   "source": [
    "scaler = StandardScaler()\n",
    "X_ss = scaler.fit_transform(X_resampled)"
   ]
  },
  {
   "cell_type": "code",
   "execution_count": 18,
   "metadata": {},
   "outputs": [
    {
     "name": "stderr",
     "output_type": "stream",
     "text": [
      "C:\\Users\\parul\\AppData\\Local\\Packages\\PythonSoftwareFoundation.Python.3.11_qbz5n2kfra8p0\\LocalCache\\local-packages\\Python311\\site-packages\\sklearn\\neural_network\\_multilayer_perceptron.py:686: ConvergenceWarning: Stochastic Optimizer: Maximum iterations (100) reached and the optimization hasn't converged yet.\n",
      "  warnings.warn(\n"
     ]
    },
    {
     "data": {
      "text/html": [
       "<style>#sk-container-id-1 {color: black;background-color: white;}#sk-container-id-1 pre{padding: 0;}#sk-container-id-1 div.sk-toggleable {background-color: white;}#sk-container-id-1 label.sk-toggleable__label {cursor: pointer;display: block;width: 100%;margin-bottom: 0;padding: 0.3em;box-sizing: border-box;text-align: center;}#sk-container-id-1 label.sk-toggleable__label-arrow:before {content: \"▸\";float: left;margin-right: 0.25em;color: #696969;}#sk-container-id-1 label.sk-toggleable__label-arrow:hover:before {color: black;}#sk-container-id-1 div.sk-estimator:hover label.sk-toggleable__label-arrow:before {color: black;}#sk-container-id-1 div.sk-toggleable__content {max-height: 0;max-width: 0;overflow: hidden;text-align: left;background-color: #f0f8ff;}#sk-container-id-1 div.sk-toggleable__content pre {margin: 0.2em;color: black;border-radius: 0.25em;background-color: #f0f8ff;}#sk-container-id-1 input.sk-toggleable__control:checked~div.sk-toggleable__content {max-height: 200px;max-width: 100%;overflow: auto;}#sk-container-id-1 input.sk-toggleable__control:checked~label.sk-toggleable__label-arrow:before {content: \"▾\";}#sk-container-id-1 div.sk-estimator input.sk-toggleable__control:checked~label.sk-toggleable__label {background-color: #d4ebff;}#sk-container-id-1 div.sk-label input.sk-toggleable__control:checked~label.sk-toggleable__label {background-color: #d4ebff;}#sk-container-id-1 input.sk-hidden--visually {border: 0;clip: rect(1px 1px 1px 1px);clip: rect(1px, 1px, 1px, 1px);height: 1px;margin: -1px;overflow: hidden;padding: 0;position: absolute;width: 1px;}#sk-container-id-1 div.sk-estimator {font-family: monospace;background-color: #f0f8ff;border: 1px dotted black;border-radius: 0.25em;box-sizing: border-box;margin-bottom: 0.5em;}#sk-container-id-1 div.sk-estimator:hover {background-color: #d4ebff;}#sk-container-id-1 div.sk-parallel-item::after {content: \"\";width: 100%;border-bottom: 1px solid gray;flex-grow: 1;}#sk-container-id-1 div.sk-label:hover label.sk-toggleable__label {background-color: #d4ebff;}#sk-container-id-1 div.sk-serial::before {content: \"\";position: absolute;border-left: 1px solid gray;box-sizing: border-box;top: 0;bottom: 0;left: 50%;z-index: 0;}#sk-container-id-1 div.sk-serial {display: flex;flex-direction: column;align-items: center;background-color: white;padding-right: 0.2em;padding-left: 0.2em;position: relative;}#sk-container-id-1 div.sk-item {position: relative;z-index: 1;}#sk-container-id-1 div.sk-parallel {display: flex;align-items: stretch;justify-content: center;background-color: white;position: relative;}#sk-container-id-1 div.sk-item::before, #sk-container-id-1 div.sk-parallel-item::before {content: \"\";position: absolute;border-left: 1px solid gray;box-sizing: border-box;top: 0;bottom: 0;left: 50%;z-index: -1;}#sk-container-id-1 div.sk-parallel-item {display: flex;flex-direction: column;z-index: 1;position: relative;background-color: white;}#sk-container-id-1 div.sk-parallel-item:first-child::after {align-self: flex-end;width: 50%;}#sk-container-id-1 div.sk-parallel-item:last-child::after {align-self: flex-start;width: 50%;}#sk-container-id-1 div.sk-parallel-item:only-child::after {width: 0;}#sk-container-id-1 div.sk-dashed-wrapped {border: 1px dashed gray;margin: 0 0.4em 0.5em 0.4em;box-sizing: border-box;padding-bottom: 0.4em;background-color: white;}#sk-container-id-1 div.sk-label label {font-family: monospace;font-weight: bold;display: inline-block;line-height: 1.2em;}#sk-container-id-1 div.sk-label-container {text-align: center;}#sk-container-id-1 div.sk-container {/* jupyter's `normalize.less` sets `[hidden] { display: none; }` but bootstrap.min.css set `[hidden] { display: none !important; }` so we also need the `!important` here to be able to override the default hidden behavior on the sphinx rendered scikit-learn.org. See: https://github.com/scikit-learn/scikit-learn/issues/21755 */display: inline-block !important;position: relative;}#sk-container-id-1 div.sk-text-repr-fallback {display: none;}</style><div id=\"sk-container-id-1\" class=\"sk-top-container\"><div class=\"sk-text-repr-fallback\"><pre>MLPClassifier(max_iter=100, random_state=42)</pre><b>In a Jupyter environment, please rerun this cell to show the HTML representation or trust the notebook. <br />On GitHub, the HTML representation is unable to render, please try loading this page with nbviewer.org.</b></div><div class=\"sk-container\" hidden><div class=\"sk-item\"><div class=\"sk-estimator sk-toggleable\"><input class=\"sk-toggleable__control sk-hidden--visually\" id=\"sk-estimator-id-1\" type=\"checkbox\" checked><label for=\"sk-estimator-id-1\" class=\"sk-toggleable__label sk-toggleable__label-arrow\">MLPClassifier</label><div class=\"sk-toggleable__content\"><pre>MLPClassifier(max_iter=100, random_state=42)</pre></div></div></div></div></div>"
      ],
      "text/plain": [
       "MLPClassifier(max_iter=100, random_state=42)"
      ]
     },
     "execution_count": 18,
     "metadata": {},
     "output_type": "execute_result"
    }
   ],
   "source": [
    "mlp = MLPClassifier(hidden_layer_sizes=(100,), max_iter=100, random_state=42)\n",
    "mlp.fit(X_ss, y_resampled)"
   ]
  },
  {
   "cell_type": "code",
   "execution_count": 19,
   "metadata": {},
   "outputs": [],
   "source": [
    "y_pred = mlp.predict(X_ss)"
   ]
  },
  {
   "attachments": {},
   "cell_type": "markdown",
   "metadata": {},
   "source": [
    "## Predictions"
   ]
  },
  {
   "attachments": {},
   "cell_type": "markdown",
   "metadata": {},
   "source": [
    "### Import submission data"
   ]
  },
  {
   "cell_type": "code",
   "execution_count": 20,
   "metadata": {},
   "outputs": [],
   "source": [
    "input = pd.read_csv('training_dataset/DataSet/input_test_file.csv')"
   ]
  },
  {
   "cell_type": "code",
   "execution_count": 21,
   "metadata": {},
   "outputs": [],
   "source": [
    "batsmen = input.loc[0]['batsmen'].split(', ')\n",
    "bowlers = input.loc[0]['bowlers'].split(', ')\n",
    "\n",
    "# getting cartesian productof batsmen vs bowlers\n",
    "inning_one = [(a, b) for a in batsmen for b in bowlers]\n",
    "# getting cartesian productof bowlers vs batsmen\n",
    "inning_two = [(a, b) for a in bowlers for b in batsmen]\n",
    "\n",
    "# converting list of tuples to dataframe\n",
    "inning_one = pd.DataFrame(\n",
    "    inning_one, columns=['batter', 'bowler'])\n",
    "\n",
    "inning_two = pd.DataFrame(\n",
    "    inning_two, columns=['batter', 'bowler'])\n",
    "\n",
    "# encoding dataframs for merging in with player names, each player gets unique value whether they are batter or bowler\n",
    "batter_encoded = pd.DataFrame(\n",
    "    encoding, columns=['player_id', 'batter'])\n",
    "\n",
    "bowler_encoded = pd.DataFrame(\n",
    "    encoding, columns=['player_id', 'bowler'])\n",
    "\n",
    "# Merging of encoding dataframes on each innings corresponding to batter and bowlers\n",
    "inning_one = pd.merge(inning_one, batter_encoded,\n",
    "                      on='batter', how='left')\n",
    "inning_one = pd.merge(inning_one, bowler_encoded,\n",
    "                      on='bowler', how='left')\n",
    "\n",
    "inning_two = pd.merge(inning_two, batter_encoded,\n",
    "                      on='batter', how='left')\n",
    "inning_two = pd.merge(inning_two, bowler_encoded,\n",
    "                      on='bowler', how='left')\n",
    "\n",
    "# Appropriate naming to batter and bowler columns\n",
    "inning_one['bowler_encoded'] = inning_one['player_id_y']\n",
    "inning_one['batter_encoded'] = inning_one['player_id_x']\n",
    "\n",
    "inning_two['bowler_encoded'] = inning_two['player_id_y']\n",
    "inning_two['batter_encoded'] = inning_two['player_id_x']\n",
    "\n",
    "# Extracting encoding columns only, rest are discarded\n",
    "inning_one = inning_one[['bowler_encoded', 'batter_encoded']]\n",
    "inning_two = inning_two[['bowler_encoded', 'batter_encoded',]]\n",
    "\n",
    "inning_one = scaler.transform(inning_one)\n",
    "inning_two = scaler.transform(inning_two)\n"
   ]
  },
  {
   "cell_type": "code",
   "execution_count": 27,
   "metadata": {},
   "outputs": [],
   "source": [
    "inning_one_score = np.sum((mlp.predict_proba(\n",
    "            inning_one) > 0.15).astype(int), axis=1).mean()*36\n",
    "\n",
    "inning_two_score = np.sum((mlp.predict_proba(\n",
    "            inning_two) > 0.15).astype(int), axis=1).mean()*36"
   ]
  },
  {
   "cell_type": "code",
   "execution_count": 28,
   "metadata": {},
   "outputs": [],
   "source": [
    "data = [(inning_one_score), (inning_two_score)]\n",
    "\n",
    "df = pd.DataFrame(data, columns = ['predicted_runs'], index=None)"
   ]
  },
  {
   "cell_type": "code",
   "execution_count": 29,
   "metadata": {},
   "outputs": [
    {
     "data": {
      "text/html": [
       "<div>\n",
       "<style scoped>\n",
       "    .dataframe tbody tr th:only-of-type {\n",
       "        vertical-align: middle;\n",
       "    }\n",
       "\n",
       "    .dataframe tbody tr th {\n",
       "        vertical-align: top;\n",
       "    }\n",
       "\n",
       "    .dataframe thead th {\n",
       "        text-align: right;\n",
       "    }\n",
       "</style>\n",
       "<table border=\"1\" class=\"dataframe\">\n",
       "  <thead>\n",
       "    <tr style=\"text-align: right;\">\n",
       "      <th></th>\n",
       "      <th>predicted_runs</th>\n",
       "    </tr>\n",
       "  </thead>\n",
       "  <tbody>\n",
       "    <tr>\n",
       "      <th>0</th>\n",
       "      <td>51.0</td>\n",
       "    </tr>\n",
       "    <tr>\n",
       "      <th>1</th>\n",
       "      <td>66.0</td>\n",
       "    </tr>\n",
       "  </tbody>\n",
       "</table>\n",
       "</div>"
      ],
      "text/plain": [
       "   predicted_runs\n",
       "0            51.0\n",
       "1            66.0"
      ]
     },
     "execution_count": 29,
     "metadata": {},
     "output_type": "execute_result"
    }
   ],
   "source": [
    "df"
   ]
  },
  {
   "cell_type": "code",
   "execution_count": null,
   "metadata": {},
   "outputs": [],
   "source": []
  }
 ],
 "metadata": {
  "kernelspec": {
   "display_name": "Python 3",
   "language": "python",
   "name": "python3"
  },
  "language_info": {
   "codemirror_mode": {
    "name": "ipython",
    "version": 3
   },
   "file_extension": ".py",
   "mimetype": "text/x-python",
   "name": "python",
   "nbconvert_exporter": "python",
   "pygments_lexer": "ipython3",
   "version": "3.11.3"
  },
  "orig_nbformat": 4
 },
 "nbformat": 4,
 "nbformat_minor": 2
}
